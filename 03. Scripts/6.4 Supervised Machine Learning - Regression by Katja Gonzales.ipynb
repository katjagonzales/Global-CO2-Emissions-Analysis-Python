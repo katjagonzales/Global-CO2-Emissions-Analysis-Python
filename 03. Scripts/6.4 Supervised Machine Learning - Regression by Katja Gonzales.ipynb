{
 "cells": [
  {
   "cell_type": "markdown",
   "id": "8d6e6630",
   "metadata": {},
   "source": [
    "# 6.4 Supervised Machine Learning - Regression"
   ]
  },
  {
   "cell_type": "markdown",
   "id": "b4177e9e",
   "metadata": {},
   "source": [
    "## Table of contents:\n",
    "### 1.Importing Libraries\n",
    "### 2. Importing Data\n",
    "### 3. Data Cleaning\n",
    "#### 3.1 Missing values and \"0\" values\n",
    "#### 3.2 Checking extreme values\n",
    "### 4. Defining the Hypothesis\n",
    "### 5. Regression Analysis\n",
    "#### 5.1 Reshaping variables into NumPy arrays\n",
    "#### 5.2 Splitting Data\n",
    "#### 5.3 Creating and fitting the regression object\n",
    "#### 5.4 Testing predictions\n",
    "#### 5.5 Summary Statistics\n",
    "#### 5.6 Comparing actual values and predicted values\n",
    "### 6. Improving the regression\n",
    "#### 6.1 Removing Outliers\n",
    "#### 6.2 Reshaping variables into NumPy arrays\n",
    "#### 6.3 Splitting Data\n",
    "#### 6.4 Creating and fitting the regression object\n",
    "#### 6.5 Testing predictions\n",
    "#### 6.6 Summary Statistics\n",
    "#### 6.7 Comparing actual values and predicted values\n",
    "### 7. Conclusions\n",
    "### 8. Regression Analysis for the full dataframe (all years included)\n",
    "#### 8.1 Importing the full Dataframe (all years included)\n",
    "#### 8.2 Data Cleaning\n",
    "##### 8.2.1 Missing values and \"0\" values\n",
    "##### 8.2.2 Checking extreme values¶\n",
    "#### 8.3 Scatterplot for the variables of interest\n",
    "#### 8.4 Regression Analysis\n",
    "##### 8.4.1 Reshaping variables into NumPy arrays\n",
    "##### 8.4.2 Splitting Data\n",
    "##### 8.4.3 Creating and fitting the regression object\n",
    "##### 8.4.4 Testing predictions\n",
    "##### 8.4.5 Summary statistics\n",
    "##### 8.4.6 Comparing actual values and predicted values\n",
    "### 9. Improving the Regression for the full dataframe (all years included)\n",
    "#### 9.1 Removing Outliers\n",
    "#### 9.2 Reshaping variables into NumPy arrays\n",
    "#### 9.3 Splitting Data\n",
    "#### 9.4 Creating and fitting the regression object\n",
    "#### 9.5 Testing predictions\n",
    "#### 9.6 Summary Statistics\n",
    "#### 9.7 Comparing actual values and predicted values\n",
    "### 10. Conclusions based on Regression Analysis for the full dataframe"
   ]
  },
  {
   "cell_type": "markdown",
   "id": "a33a946e",
   "metadata": {},
   "source": [
    "# 1. Importing Libraries"
   ]
  },
  {
   "cell_type": "code",
   "execution_count": 1,
   "id": "a062b238",
   "metadata": {},
   "outputs": [],
   "source": [
    "# import libraries\n",
    "\n",
    "import pandas as pd\n",
    "import numpy as np\n",
    "import seaborn as sns\n",
    "import matplotlib\n",
    "import matplotlib.pyplot as plt\n",
    "import os\n",
    "import sklearn\n",
    "from sklearn.model_selection import train_test_split \n",
    "from sklearn.linear_model import LinearRegression\n",
    "from sklearn.metrics import mean_squared_error, r2_score"
   ]
  },
  {
   "cell_type": "code",
   "execution_count": 2,
   "id": "4574b22d",
   "metadata": {},
   "outputs": [],
   "source": [
    "# This command prompts matplotlib visuals to appear in the notebook \n",
    "\n",
    "%matplotlib inline"
   ]
  },
  {
   "cell_type": "markdown",
   "id": "7ce361c2",
   "metadata": {},
   "source": [
    "# 2. Importing Data"
   ]
  },
  {
   "cell_type": "code",
   "execution_count": 3,
   "id": "7086d208",
   "metadata": {},
   "outputs": [],
   "source": [
    "# Create a path to the root directory for this project\n",
    "\n",
    "path = r'C:\\Users\\osoty\\Desktop\\CareerFoundry Data Analytics\\Data Immersion\\Achievement 6\\Global CO2 Emissions Analysis'"
   ]
  },
  {
   "cell_type": "code",
   "execution_count": 4,
   "id": "413ceff2",
   "metadata": {},
   "outputs": [],
   "source": [
    "# Import the cleaned dataframe from script 6.3\n",
    "\n",
    "df_co2 = pd.read_pickle(os.path.join(path, '02. Data', 'Prepared Data', 'emissions_clean_recent_only_countries_flags.pkl'))"
   ]
  },
  {
   "cell_type": "code",
   "execution_count": 5,
   "id": "6068798c",
   "metadata": {},
   "outputs": [
    {
     "data": {
      "text/html": [
       "<div>\n",
       "<style scoped>\n",
       "    .dataframe tbody tr th:only-of-type {\n",
       "        vertical-align: middle;\n",
       "    }\n",
       "\n",
       "    .dataframe tbody tr th {\n",
       "        vertical-align: top;\n",
       "    }\n",
       "\n",
       "    .dataframe thead th {\n",
       "        text-align: right;\n",
       "    }\n",
       "</style>\n",
       "<table border=\"1\" class=\"dataframe\">\n",
       "  <thead>\n",
       "    <tr style=\"text-align: right;\">\n",
       "      <th></th>\n",
       "      <th>country</th>\n",
       "      <th>year</th>\n",
       "      <th>iso_code</th>\n",
       "      <th>population</th>\n",
       "      <th>gdp</th>\n",
       "      <th>cement_co2</th>\n",
       "      <th>cement_co2_per_capita</th>\n",
       "      <th>co2</th>\n",
       "      <th>co2_growth_abs</th>\n",
       "      <th>co2_growth_prct</th>\n",
       "      <th>...</th>\n",
       "      <th>share_global_cumulative_coal_co2</th>\n",
       "      <th>share_global_cumulative_flaring_co2</th>\n",
       "      <th>share_global_cumulative_gas_co2</th>\n",
       "      <th>share_global_cumulative_oil_co2</th>\n",
       "      <th>share_global_flaring_co2</th>\n",
       "      <th>share_global_gas_co2</th>\n",
       "      <th>share_global_oil_co2</th>\n",
       "      <th>co2_category</th>\n",
       "      <th>co2_per_capita_category</th>\n",
       "      <th>average_co2_emission</th>\n",
       "    </tr>\n",
       "  </thead>\n",
       "  <tbody>\n",
       "    <tr>\n",
       "      <th>0</th>\n",
       "      <td>Afghanistan</td>\n",
       "      <td>2012</td>\n",
       "      <td>AFG</td>\n",
       "      <td>30466484.0</td>\n",
       "      <td>5.916690e+10</td>\n",
       "      <td>0.029</td>\n",
       "      <td>0.001</td>\n",
       "      <td>10.035</td>\n",
       "      <td>-1.803</td>\n",
       "      <td>-15.230</td>\n",
       "      <td>...</td>\n",
       "      <td>0.004</td>\n",
       "      <td>0.040</td>\n",
       "      <td>0.009</td>\n",
       "      <td>0.015</td>\n",
       "      <td>0.000</td>\n",
       "      <td>0.005</td>\n",
       "      <td>0.057</td>\n",
       "      <td>Low</td>\n",
       "      <td>Low</td>\n",
       "      <td>10.2639</td>\n",
       "    </tr>\n",
       "    <tr>\n",
       "      <th>1</th>\n",
       "      <td>Afghanistan</td>\n",
       "      <td>2013</td>\n",
       "      <td>AFG</td>\n",
       "      <td>31541216.0</td>\n",
       "      <td>6.299370e+10</td>\n",
       "      <td>0.036</td>\n",
       "      <td>0.001</td>\n",
       "      <td>9.251</td>\n",
       "      <td>-0.785</td>\n",
       "      <td>-7.820</td>\n",
       "      <td>...</td>\n",
       "      <td>0.004</td>\n",
       "      <td>0.039</td>\n",
       "      <td>0.009</td>\n",
       "      <td>0.016</td>\n",
       "      <td>0.000</td>\n",
       "      <td>0.005</td>\n",
       "      <td>0.048</td>\n",
       "      <td>Low</td>\n",
       "      <td>Low</td>\n",
       "      <td>10.2639</td>\n",
       "    </tr>\n",
       "    <tr>\n",
       "      <th>2</th>\n",
       "      <td>Afghanistan</td>\n",
       "      <td>2014</td>\n",
       "      <td>AFG</td>\n",
       "      <td>32716214.0</td>\n",
       "      <td>6.434611e+10</td>\n",
       "      <td>0.029</td>\n",
       "      <td>0.001</td>\n",
       "      <td>9.170</td>\n",
       "      <td>-0.080</td>\n",
       "      <td>-0.867</td>\n",
       "      <td>...</td>\n",
       "      <td>0.005</td>\n",
       "      <td>0.038</td>\n",
       "      <td>0.009</td>\n",
       "      <td>0.016</td>\n",
       "      <td>0.000</td>\n",
       "      <td>0.004</td>\n",
       "      <td>0.044</td>\n",
       "      <td>Low</td>\n",
       "      <td>Low</td>\n",
       "      <td>10.2639</td>\n",
       "    </tr>\n",
       "    <tr>\n",
       "      <th>3</th>\n",
       "      <td>Afghanistan</td>\n",
       "      <td>2015</td>\n",
       "      <td>AFG</td>\n",
       "      <td>33753500.0</td>\n",
       "      <td>6.278339e+10</td>\n",
       "      <td>0.041</td>\n",
       "      <td>0.001</td>\n",
       "      <td>9.791</td>\n",
       "      <td>0.621</td>\n",
       "      <td>6.770</td>\n",
       "      <td>...</td>\n",
       "      <td>0.005</td>\n",
       "      <td>0.037</td>\n",
       "      <td>0.009</td>\n",
       "      <td>0.017</td>\n",
       "      <td>0.000</td>\n",
       "      <td>0.004</td>\n",
       "      <td>0.056</td>\n",
       "      <td>Low</td>\n",
       "      <td>Low</td>\n",
       "      <td>10.2639</td>\n",
       "    </tr>\n",
       "    <tr>\n",
       "      <th>4</th>\n",
       "      <td>Afghanistan</td>\n",
       "      <td>2016</td>\n",
       "      <td>AFG</td>\n",
       "      <td>34636212.0</td>\n",
       "      <td>6.429743e+10</td>\n",
       "      <td>0.076</td>\n",
       "      <td>0.002</td>\n",
       "      <td>9.068</td>\n",
       "      <td>-0.723</td>\n",
       "      <td>-7.389</td>\n",
       "      <td>...</td>\n",
       "      <td>0.005</td>\n",
       "      <td>0.036</td>\n",
       "      <td>0.009</td>\n",
       "      <td>0.018</td>\n",
       "      <td>0.000</td>\n",
       "      <td>0.005</td>\n",
       "      <td>0.048</td>\n",
       "      <td>Low</td>\n",
       "      <td>Low</td>\n",
       "      <td>10.2639</td>\n",
       "    </tr>\n",
       "    <tr>\n",
       "      <th>5</th>\n",
       "      <td>Afghanistan</td>\n",
       "      <td>2017</td>\n",
       "      <td>AFG</td>\n",
       "      <td>35643420.0</td>\n",
       "      <td>6.875280e+10</td>\n",
       "      <td>0.045</td>\n",
       "      <td>0.001</td>\n",
       "      <td>9.868</td>\n",
       "      <td>0.800</td>\n",
       "      <td>8.827</td>\n",
       "      <td>...</td>\n",
       "      <td>0.006</td>\n",
       "      <td>0.035</td>\n",
       "      <td>0.009</td>\n",
       "      <td>0.019</td>\n",
       "      <td>0.000</td>\n",
       "      <td>0.004</td>\n",
       "      <td>0.050</td>\n",
       "      <td>Low</td>\n",
       "      <td>Low</td>\n",
       "      <td>10.2639</td>\n",
       "    </tr>\n",
       "    <tr>\n",
       "      <th>6</th>\n",
       "      <td>Afghanistan</td>\n",
       "      <td>2018</td>\n",
       "      <td>AFG</td>\n",
       "      <td>36686788.0</td>\n",
       "      <td>6.759497e+10</td>\n",
       "      <td>0.057</td>\n",
       "      <td>0.002</td>\n",
       "      <td>10.818</td>\n",
       "      <td>0.950</td>\n",
       "      <td>9.628</td>\n",
       "      <td>...</td>\n",
       "      <td>0.006</td>\n",
       "      <td>0.035</td>\n",
       "      <td>0.008</td>\n",
       "      <td>0.019</td>\n",
       "      <td>0.000</td>\n",
       "      <td>0.004</td>\n",
       "      <td>0.054</td>\n",
       "      <td>Low</td>\n",
       "      <td>Low</td>\n",
       "      <td>10.2639</td>\n",
       "    </tr>\n",
       "    <tr>\n",
       "      <th>7</th>\n",
       "      <td>Afghanistan</td>\n",
       "      <td>2019</td>\n",
       "      <td>AFG</td>\n",
       "      <td>37769496.0</td>\n",
       "      <td>NaN</td>\n",
       "      <td>0.038</td>\n",
       "      <td>0.001</td>\n",
       "      <td>11.082</td>\n",
       "      <td>0.264</td>\n",
       "      <td>2.436</td>\n",
       "      <td>...</td>\n",
       "      <td>0.006</td>\n",
       "      <td>0.034</td>\n",
       "      <td>0.008</td>\n",
       "      <td>0.020</td>\n",
       "      <td>0.000</td>\n",
       "      <td>0.003</td>\n",
       "      <td>0.055</td>\n",
       "      <td>Low</td>\n",
       "      <td>Low</td>\n",
       "      <td>10.2639</td>\n",
       "    </tr>\n",
       "    <tr>\n",
       "      <th>8</th>\n",
       "      <td>Afghanistan</td>\n",
       "      <td>2020</td>\n",
       "      <td>AFG</td>\n",
       "      <td>38972236.0</td>\n",
       "      <td>NaN</td>\n",
       "      <td>0.061</td>\n",
       "      <td>0.002</td>\n",
       "      <td>11.682</td>\n",
       "      <td>0.600</td>\n",
       "      <td>5.416</td>\n",
       "      <td>...</td>\n",
       "      <td>0.007</td>\n",
       "      <td>0.033</td>\n",
       "      <td>0.008</td>\n",
       "      <td>0.021</td>\n",
       "      <td>0.000</td>\n",
       "      <td>0.003</td>\n",
       "      <td>0.065</td>\n",
       "      <td>Low</td>\n",
       "      <td>Low</td>\n",
       "      <td>10.2639</td>\n",
       "    </tr>\n",
       "    <tr>\n",
       "      <th>9</th>\n",
       "      <td>Afghanistan</td>\n",
       "      <td>2021</td>\n",
       "      <td>AFG</td>\n",
       "      <td>40099460.0</td>\n",
       "      <td>NaN</td>\n",
       "      <td>0.012</td>\n",
       "      <td>0.000</td>\n",
       "      <td>11.874</td>\n",
       "      <td>0.192</td>\n",
       "      <td>1.647</td>\n",
       "      <td>...</td>\n",
       "      <td>0.007</td>\n",
       "      <td>0.032</td>\n",
       "      <td>0.008</td>\n",
       "      <td>0.022</td>\n",
       "      <td>0.000</td>\n",
       "      <td>0.003</td>\n",
       "      <td>0.063</td>\n",
       "      <td>Low</td>\n",
       "      <td>Low</td>\n",
       "      <td>10.2639</td>\n",
       "    </tr>\n",
       "    <tr>\n",
       "      <th>40</th>\n",
       "      <td>Albania</td>\n",
       "      <td>2012</td>\n",
       "      <td>ALB</td>\n",
       "      <td>2892191.0</td>\n",
       "      <td>2.885538e+10</td>\n",
       "      <td>1.039</td>\n",
       "      <td>0.359</td>\n",
       "      <td>4.850</td>\n",
       "      <td>-0.465</td>\n",
       "      <td>-8.742</td>\n",
       "      <td>...</td>\n",
       "      <td>0.009</td>\n",
       "      <td>0.000</td>\n",
       "      <td>0.008</td>\n",
       "      <td>0.031</td>\n",
       "      <td>0.000</td>\n",
       "      <td>0.000</td>\n",
       "      <td>0.027</td>\n",
       "      <td>Low</td>\n",
       "      <td>Low</td>\n",
       "      <td>5.0324</td>\n",
       "    </tr>\n",
       "    <tr>\n",
       "      <th>41</th>\n",
       "      <td>Albania</td>\n",
       "      <td>2013</td>\n",
       "      <td>ALB</td>\n",
       "      <td>2887019.0</td>\n",
       "      <td>2.914264e+10</td>\n",
       "      <td>1.129</td>\n",
       "      <td>0.391</td>\n",
       "      <td>5.287</td>\n",
       "      <td>0.437</td>\n",
       "      <td>9.019</td>\n",
       "      <td>...</td>\n",
       "      <td>0.009</td>\n",
       "      <td>0.000</td>\n",
       "      <td>0.008</td>\n",
       "      <td>0.031</td>\n",
       "      <td>0.000</td>\n",
       "      <td>0.001</td>\n",
       "      <td>0.029</td>\n",
       "      <td>Low</td>\n",
       "      <td>Low</td>\n",
       "      <td>5.0324</td>\n",
       "    </tr>\n",
       "    <tr>\n",
       "      <th>42</th>\n",
       "      <td>Albania</td>\n",
       "      <td>2014</td>\n",
       "      <td>ALB</td>\n",
       "      <td>2884100.0</td>\n",
       "      <td>2.967564e+10</td>\n",
       "      <td>1.045</td>\n",
       "      <td>0.362</td>\n",
       "      <td>6.000</td>\n",
       "      <td>0.712</td>\n",
       "      <td>13.469</td>\n",
       "      <td>...</td>\n",
       "      <td>0.009</td>\n",
       "      <td>0.000</td>\n",
       "      <td>0.008</td>\n",
       "      <td>0.031</td>\n",
       "      <td>0.003</td>\n",
       "      <td>0.001</td>\n",
       "      <td>0.033</td>\n",
       "      <td>Low</td>\n",
       "      <td>Low</td>\n",
       "      <td>5.0324</td>\n",
       "    </tr>\n",
       "    <tr>\n",
       "      <th>43</th>\n",
       "      <td>Albania</td>\n",
       "      <td>2015</td>\n",
       "      <td>ALB</td>\n",
       "      <td>2882482.0</td>\n",
       "      <td>3.044453e+10</td>\n",
       "      <td>0.954</td>\n",
       "      <td>0.331</td>\n",
       "      <td>4.712</td>\n",
       "      <td>-1.288</td>\n",
       "      <td>-21.460</td>\n",
       "      <td>...</td>\n",
       "      <td>0.009</td>\n",
       "      <td>0.000</td>\n",
       "      <td>0.008</td>\n",
       "      <td>0.031</td>\n",
       "      <td>0.009</td>\n",
       "      <td>0.001</td>\n",
       "      <td>0.028</td>\n",
       "      <td>Low</td>\n",
       "      <td>Low</td>\n",
       "      <td>5.0324</td>\n",
       "    </tr>\n",
       "    <tr>\n",
       "      <th>44</th>\n",
       "      <td>Albania</td>\n",
       "      <td>2016</td>\n",
       "      <td>ALB</td>\n",
       "      <td>2881064.0</td>\n",
       "      <td>3.148182e+10</td>\n",
       "      <td>0.880</td>\n",
       "      <td>0.306</td>\n",
       "      <td>4.632</td>\n",
       "      <td>-0.080</td>\n",
       "      <td>-1.701</td>\n",
       "      <td>...</td>\n",
       "      <td>0.009</td>\n",
       "      <td>0.001</td>\n",
       "      <td>0.007</td>\n",
       "      <td>0.031</td>\n",
       "      <td>0.011</td>\n",
       "      <td>0.002</td>\n",
       "      <td>0.028</td>\n",
       "      <td>Low</td>\n",
       "      <td>Low</td>\n",
       "      <td>5.0324</td>\n",
       "    </tr>\n",
       "    <tr>\n",
       "      <th>45</th>\n",
       "      <td>Albania</td>\n",
       "      <td>2017</td>\n",
       "      <td>ALB</td>\n",
       "      <td>2879361.0</td>\n",
       "      <td>3.267876e+10</td>\n",
       "      <td>1.011</td>\n",
       "      <td>0.351</td>\n",
       "      <td>5.564</td>\n",
       "      <td>0.932</td>\n",
       "      <td>20.125</td>\n",
       "      <td>...</td>\n",
       "      <td>0.009</td>\n",
       "      <td>0.001</td>\n",
       "      <td>0.007</td>\n",
       "      <td>0.031</td>\n",
       "      <td>0.008</td>\n",
       "      <td>0.002</td>\n",
       "      <td>0.033</td>\n",
       "      <td>Low</td>\n",
       "      <td>Low</td>\n",
       "      <td>5.0324</td>\n",
       "    </tr>\n",
       "    <tr>\n",
       "      <th>46</th>\n",
       "      <td>Albania</td>\n",
       "      <td>2018</td>\n",
       "      <td>ALB</td>\n",
       "      <td>2877019.0</td>\n",
       "      <td>3.400911e+10</td>\n",
       "      <td>1.017</td>\n",
       "      <td>0.353</td>\n",
       "      <td>4.984</td>\n",
       "      <td>-0.580</td>\n",
       "      <td>-10.426</td>\n",
       "      <td>...</td>\n",
       "      <td>0.009</td>\n",
       "      <td>0.001</td>\n",
       "      <td>0.007</td>\n",
       "      <td>0.031</td>\n",
       "      <td>0.003</td>\n",
       "      <td>0.002</td>\n",
       "      <td>0.027</td>\n",
       "      <td>Low</td>\n",
       "      <td>Low</td>\n",
       "      <td>5.0324</td>\n",
       "    </tr>\n",
       "    <tr>\n",
       "      <th>47</th>\n",
       "      <td>Albania</td>\n",
       "      <td>2019</td>\n",
       "      <td>ALB</td>\n",
       "      <td>2873883.0</td>\n",
       "      <td>NaN</td>\n",
       "      <td>1.048</td>\n",
       "      <td>0.365</td>\n",
       "      <td>4.947</td>\n",
       "      <td>-0.037</td>\n",
       "      <td>-0.734</td>\n",
       "      <td>...</td>\n",
       "      <td>0.009</td>\n",
       "      <td>0.001</td>\n",
       "      <td>0.007</td>\n",
       "      <td>0.031</td>\n",
       "      <td>0.001</td>\n",
       "      <td>0.002</td>\n",
       "      <td>0.028</td>\n",
       "      <td>Low</td>\n",
       "      <td>Low</td>\n",
       "      <td>5.0324</td>\n",
       "    </tr>\n",
       "    <tr>\n",
       "      <th>48</th>\n",
       "      <td>Albania</td>\n",
       "      <td>2020</td>\n",
       "      <td>ALB</td>\n",
       "      <td>2866850.0</td>\n",
       "      <td>NaN</td>\n",
       "      <td>1.048</td>\n",
       "      <td>0.366</td>\n",
       "      <td>4.729</td>\n",
       "      <td>-0.219</td>\n",
       "      <td>-4.425</td>\n",
       "      <td>...</td>\n",
       "      <td>0.008</td>\n",
       "      <td>0.001</td>\n",
       "      <td>0.007</td>\n",
       "      <td>0.031</td>\n",
       "      <td>0.000</td>\n",
       "      <td>0.002</td>\n",
       "      <td>0.029</td>\n",
       "      <td>Low</td>\n",
       "      <td>Low</td>\n",
       "      <td>5.0324</td>\n",
       "    </tr>\n",
       "    <tr>\n",
       "      <th>49</th>\n",
       "      <td>Albania</td>\n",
       "      <td>2021</td>\n",
       "      <td>ALB</td>\n",
       "      <td>2854710.0</td>\n",
       "      <td>NaN</td>\n",
       "      <td>1.048</td>\n",
       "      <td>0.367</td>\n",
       "      <td>4.619</td>\n",
       "      <td>-0.109</td>\n",
       "      <td>-2.315</td>\n",
       "      <td>...</td>\n",
       "      <td>0.008</td>\n",
       "      <td>0.001</td>\n",
       "      <td>0.007</td>\n",
       "      <td>0.031</td>\n",
       "      <td>0.000</td>\n",
       "      <td>0.002</td>\n",
       "      <td>0.027</td>\n",
       "      <td>Low</td>\n",
       "      <td>Low</td>\n",
       "      <td>5.0324</td>\n",
       "    </tr>\n",
       "  </tbody>\n",
       "</table>\n",
       "<p>20 rows × 44 columns</p>\n",
       "</div>"
      ],
      "text/plain": [
       "        country  year iso_code  population           gdp  cement_co2  \\\n",
       "0   Afghanistan  2012      AFG  30466484.0  5.916690e+10       0.029   \n",
       "1   Afghanistan  2013      AFG  31541216.0  6.299370e+10       0.036   \n",
       "2   Afghanistan  2014      AFG  32716214.0  6.434611e+10       0.029   \n",
       "3   Afghanistan  2015      AFG  33753500.0  6.278339e+10       0.041   \n",
       "4   Afghanistan  2016      AFG  34636212.0  6.429743e+10       0.076   \n",
       "5   Afghanistan  2017      AFG  35643420.0  6.875280e+10       0.045   \n",
       "6   Afghanistan  2018      AFG  36686788.0  6.759497e+10       0.057   \n",
       "7   Afghanistan  2019      AFG  37769496.0           NaN       0.038   \n",
       "8   Afghanistan  2020      AFG  38972236.0           NaN       0.061   \n",
       "9   Afghanistan  2021      AFG  40099460.0           NaN       0.012   \n",
       "40      Albania  2012      ALB   2892191.0  2.885538e+10       1.039   \n",
       "41      Albania  2013      ALB   2887019.0  2.914264e+10       1.129   \n",
       "42      Albania  2014      ALB   2884100.0  2.967564e+10       1.045   \n",
       "43      Albania  2015      ALB   2882482.0  3.044453e+10       0.954   \n",
       "44      Albania  2016      ALB   2881064.0  3.148182e+10       0.880   \n",
       "45      Albania  2017      ALB   2879361.0  3.267876e+10       1.011   \n",
       "46      Albania  2018      ALB   2877019.0  3.400911e+10       1.017   \n",
       "47      Albania  2019      ALB   2873883.0           NaN       1.048   \n",
       "48      Albania  2020      ALB   2866850.0           NaN       1.048   \n",
       "49      Albania  2021      ALB   2854710.0           NaN       1.048   \n",
       "\n",
       "    cement_co2_per_capita     co2  co2_growth_abs  co2_growth_prct  ...  \\\n",
       "0                   0.001  10.035          -1.803          -15.230  ...   \n",
       "1                   0.001   9.251          -0.785           -7.820  ...   \n",
       "2                   0.001   9.170          -0.080           -0.867  ...   \n",
       "3                   0.001   9.791           0.621            6.770  ...   \n",
       "4                   0.002   9.068          -0.723           -7.389  ...   \n",
       "5                   0.001   9.868           0.800            8.827  ...   \n",
       "6                   0.002  10.818           0.950            9.628  ...   \n",
       "7                   0.001  11.082           0.264            2.436  ...   \n",
       "8                   0.002  11.682           0.600            5.416  ...   \n",
       "9                   0.000  11.874           0.192            1.647  ...   \n",
       "40                  0.359   4.850          -0.465           -8.742  ...   \n",
       "41                  0.391   5.287           0.437            9.019  ...   \n",
       "42                  0.362   6.000           0.712           13.469  ...   \n",
       "43                  0.331   4.712          -1.288          -21.460  ...   \n",
       "44                  0.306   4.632          -0.080           -1.701  ...   \n",
       "45                  0.351   5.564           0.932           20.125  ...   \n",
       "46                  0.353   4.984          -0.580          -10.426  ...   \n",
       "47                  0.365   4.947          -0.037           -0.734  ...   \n",
       "48                  0.366   4.729          -0.219           -4.425  ...   \n",
       "49                  0.367   4.619          -0.109           -2.315  ...   \n",
       "\n",
       "    share_global_cumulative_coal_co2  share_global_cumulative_flaring_co2  \\\n",
       "0                              0.004                                0.040   \n",
       "1                              0.004                                0.039   \n",
       "2                              0.005                                0.038   \n",
       "3                              0.005                                0.037   \n",
       "4                              0.005                                0.036   \n",
       "5                              0.006                                0.035   \n",
       "6                              0.006                                0.035   \n",
       "7                              0.006                                0.034   \n",
       "8                              0.007                                0.033   \n",
       "9                              0.007                                0.032   \n",
       "40                             0.009                                0.000   \n",
       "41                             0.009                                0.000   \n",
       "42                             0.009                                0.000   \n",
       "43                             0.009                                0.000   \n",
       "44                             0.009                                0.001   \n",
       "45                             0.009                                0.001   \n",
       "46                             0.009                                0.001   \n",
       "47                             0.009                                0.001   \n",
       "48                             0.008                                0.001   \n",
       "49                             0.008                                0.001   \n",
       "\n",
       "    share_global_cumulative_gas_co2  share_global_cumulative_oil_co2  \\\n",
       "0                             0.009                            0.015   \n",
       "1                             0.009                            0.016   \n",
       "2                             0.009                            0.016   \n",
       "3                             0.009                            0.017   \n",
       "4                             0.009                            0.018   \n",
       "5                             0.009                            0.019   \n",
       "6                             0.008                            0.019   \n",
       "7                             0.008                            0.020   \n",
       "8                             0.008                            0.021   \n",
       "9                             0.008                            0.022   \n",
       "40                            0.008                            0.031   \n",
       "41                            0.008                            0.031   \n",
       "42                            0.008                            0.031   \n",
       "43                            0.008                            0.031   \n",
       "44                            0.007                            0.031   \n",
       "45                            0.007                            0.031   \n",
       "46                            0.007                            0.031   \n",
       "47                            0.007                            0.031   \n",
       "48                            0.007                            0.031   \n",
       "49                            0.007                            0.031   \n",
       "\n",
       "    share_global_flaring_co2  share_global_gas_co2  share_global_oil_co2  \\\n",
       "0                      0.000                 0.005                 0.057   \n",
       "1                      0.000                 0.005                 0.048   \n",
       "2                      0.000                 0.004                 0.044   \n",
       "3                      0.000                 0.004                 0.056   \n",
       "4                      0.000                 0.005                 0.048   \n",
       "5                      0.000                 0.004                 0.050   \n",
       "6                      0.000                 0.004                 0.054   \n",
       "7                      0.000                 0.003                 0.055   \n",
       "8                      0.000                 0.003                 0.065   \n",
       "9                      0.000                 0.003                 0.063   \n",
       "40                     0.000                 0.000                 0.027   \n",
       "41                     0.000                 0.001                 0.029   \n",
       "42                     0.003                 0.001                 0.033   \n",
       "43                     0.009                 0.001                 0.028   \n",
       "44                     0.011                 0.002                 0.028   \n",
       "45                     0.008                 0.002                 0.033   \n",
       "46                     0.003                 0.002                 0.027   \n",
       "47                     0.001                 0.002                 0.028   \n",
       "48                     0.000                 0.002                 0.029   \n",
       "49                     0.000                 0.002                 0.027   \n",
       "\n",
       "    co2_category  co2_per_capita_category  average_co2_emission  \n",
       "0            Low                      Low               10.2639  \n",
       "1            Low                      Low               10.2639  \n",
       "2            Low                      Low               10.2639  \n",
       "3            Low                      Low               10.2639  \n",
       "4            Low                      Low               10.2639  \n",
       "5            Low                      Low               10.2639  \n",
       "6            Low                      Low               10.2639  \n",
       "7            Low                      Low               10.2639  \n",
       "8            Low                      Low               10.2639  \n",
       "9            Low                      Low               10.2639  \n",
       "40           Low                      Low                5.0324  \n",
       "41           Low                      Low                5.0324  \n",
       "42           Low                      Low                5.0324  \n",
       "43           Low                      Low                5.0324  \n",
       "44           Low                      Low                5.0324  \n",
       "45           Low                      Low                5.0324  \n",
       "46           Low                      Low                5.0324  \n",
       "47           Low                      Low                5.0324  \n",
       "48           Low                      Low                5.0324  \n",
       "49           Low                      Low                5.0324  \n",
       "\n",
       "[20 rows x 44 columns]"
      ]
     },
     "execution_count": 5,
     "metadata": {},
     "output_type": "execute_result"
    }
   ],
   "source": [
    "# Print the first 20 rows\n",
    "\n",
    "df_co2.head(20)"
   ]
  },
  {
   "cell_type": "markdown",
   "id": "453354ba",
   "metadata": {},
   "source": [
    "#### In the last script, I removed some rows modifying the dataframe, but I forgot to reset the index."
   ]
  },
  {
   "cell_type": "code",
   "execution_count": 6,
   "id": "ec09a99d",
   "metadata": {},
   "outputs": [],
   "source": [
    "# Reset the index\n",
    "\n",
    "df_co2 = df_co2.reset_index(drop = True)"
   ]
  },
  {
   "cell_type": "code",
   "execution_count": 7,
   "id": "17d72e5b",
   "metadata": {},
   "outputs": [
    {
     "data": {
      "text/html": [
       "<div>\n",
       "<style scoped>\n",
       "    .dataframe tbody tr th:only-of-type {\n",
       "        vertical-align: middle;\n",
       "    }\n",
       "\n",
       "    .dataframe tbody tr th {\n",
       "        vertical-align: top;\n",
       "    }\n",
       "\n",
       "    .dataframe thead th {\n",
       "        text-align: right;\n",
       "    }\n",
       "</style>\n",
       "<table border=\"1\" class=\"dataframe\">\n",
       "  <thead>\n",
       "    <tr style=\"text-align: right;\">\n",
       "      <th></th>\n",
       "      <th>country</th>\n",
       "      <th>year</th>\n",
       "      <th>iso_code</th>\n",
       "      <th>population</th>\n",
       "      <th>gdp</th>\n",
       "      <th>cement_co2</th>\n",
       "      <th>cement_co2_per_capita</th>\n",
       "      <th>co2</th>\n",
       "      <th>co2_growth_abs</th>\n",
       "      <th>co2_growth_prct</th>\n",
       "      <th>...</th>\n",
       "      <th>share_global_cumulative_coal_co2</th>\n",
       "      <th>share_global_cumulative_flaring_co2</th>\n",
       "      <th>share_global_cumulative_gas_co2</th>\n",
       "      <th>share_global_cumulative_oil_co2</th>\n",
       "      <th>share_global_flaring_co2</th>\n",
       "      <th>share_global_gas_co2</th>\n",
       "      <th>share_global_oil_co2</th>\n",
       "      <th>co2_category</th>\n",
       "      <th>co2_per_capita_category</th>\n",
       "      <th>average_co2_emission</th>\n",
       "    </tr>\n",
       "  </thead>\n",
       "  <tbody>\n",
       "    <tr>\n",
       "      <th>0</th>\n",
       "      <td>Afghanistan</td>\n",
       "      <td>2012</td>\n",
       "      <td>AFG</td>\n",
       "      <td>30466484.0</td>\n",
       "      <td>5.916690e+10</td>\n",
       "      <td>0.029</td>\n",
       "      <td>0.001</td>\n",
       "      <td>10.035</td>\n",
       "      <td>-1.803</td>\n",
       "      <td>-15.230</td>\n",
       "      <td>...</td>\n",
       "      <td>0.004</td>\n",
       "      <td>0.040</td>\n",
       "      <td>0.009</td>\n",
       "      <td>0.015</td>\n",
       "      <td>0.000</td>\n",
       "      <td>0.005</td>\n",
       "      <td>0.057</td>\n",
       "      <td>Low</td>\n",
       "      <td>Low</td>\n",
       "      <td>10.2639</td>\n",
       "    </tr>\n",
       "    <tr>\n",
       "      <th>1</th>\n",
       "      <td>Afghanistan</td>\n",
       "      <td>2013</td>\n",
       "      <td>AFG</td>\n",
       "      <td>31541216.0</td>\n",
       "      <td>6.299370e+10</td>\n",
       "      <td>0.036</td>\n",
       "      <td>0.001</td>\n",
       "      <td>9.251</td>\n",
       "      <td>-0.785</td>\n",
       "      <td>-7.820</td>\n",
       "      <td>...</td>\n",
       "      <td>0.004</td>\n",
       "      <td>0.039</td>\n",
       "      <td>0.009</td>\n",
       "      <td>0.016</td>\n",
       "      <td>0.000</td>\n",
       "      <td>0.005</td>\n",
       "      <td>0.048</td>\n",
       "      <td>Low</td>\n",
       "      <td>Low</td>\n",
       "      <td>10.2639</td>\n",
       "    </tr>\n",
       "    <tr>\n",
       "      <th>2</th>\n",
       "      <td>Afghanistan</td>\n",
       "      <td>2014</td>\n",
       "      <td>AFG</td>\n",
       "      <td>32716214.0</td>\n",
       "      <td>6.434611e+10</td>\n",
       "      <td>0.029</td>\n",
       "      <td>0.001</td>\n",
       "      <td>9.170</td>\n",
       "      <td>-0.080</td>\n",
       "      <td>-0.867</td>\n",
       "      <td>...</td>\n",
       "      <td>0.005</td>\n",
       "      <td>0.038</td>\n",
       "      <td>0.009</td>\n",
       "      <td>0.016</td>\n",
       "      <td>0.000</td>\n",
       "      <td>0.004</td>\n",
       "      <td>0.044</td>\n",
       "      <td>Low</td>\n",
       "      <td>Low</td>\n",
       "      <td>10.2639</td>\n",
       "    </tr>\n",
       "    <tr>\n",
       "      <th>3</th>\n",
       "      <td>Afghanistan</td>\n",
       "      <td>2015</td>\n",
       "      <td>AFG</td>\n",
       "      <td>33753500.0</td>\n",
       "      <td>6.278339e+10</td>\n",
       "      <td>0.041</td>\n",
       "      <td>0.001</td>\n",
       "      <td>9.791</td>\n",
       "      <td>0.621</td>\n",
       "      <td>6.770</td>\n",
       "      <td>...</td>\n",
       "      <td>0.005</td>\n",
       "      <td>0.037</td>\n",
       "      <td>0.009</td>\n",
       "      <td>0.017</td>\n",
       "      <td>0.000</td>\n",
       "      <td>0.004</td>\n",
       "      <td>0.056</td>\n",
       "      <td>Low</td>\n",
       "      <td>Low</td>\n",
       "      <td>10.2639</td>\n",
       "    </tr>\n",
       "    <tr>\n",
       "      <th>4</th>\n",
       "      <td>Afghanistan</td>\n",
       "      <td>2016</td>\n",
       "      <td>AFG</td>\n",
       "      <td>34636212.0</td>\n",
       "      <td>6.429743e+10</td>\n",
       "      <td>0.076</td>\n",
       "      <td>0.002</td>\n",
       "      <td>9.068</td>\n",
       "      <td>-0.723</td>\n",
       "      <td>-7.389</td>\n",
       "      <td>...</td>\n",
       "      <td>0.005</td>\n",
       "      <td>0.036</td>\n",
       "      <td>0.009</td>\n",
       "      <td>0.018</td>\n",
       "      <td>0.000</td>\n",
       "      <td>0.005</td>\n",
       "      <td>0.048</td>\n",
       "      <td>Low</td>\n",
       "      <td>Low</td>\n",
       "      <td>10.2639</td>\n",
       "    </tr>\n",
       "    <tr>\n",
       "      <th>5</th>\n",
       "      <td>Afghanistan</td>\n",
       "      <td>2017</td>\n",
       "      <td>AFG</td>\n",
       "      <td>35643420.0</td>\n",
       "      <td>6.875280e+10</td>\n",
       "      <td>0.045</td>\n",
       "      <td>0.001</td>\n",
       "      <td>9.868</td>\n",
       "      <td>0.800</td>\n",
       "      <td>8.827</td>\n",
       "      <td>...</td>\n",
       "      <td>0.006</td>\n",
       "      <td>0.035</td>\n",
       "      <td>0.009</td>\n",
       "      <td>0.019</td>\n",
       "      <td>0.000</td>\n",
       "      <td>0.004</td>\n",
       "      <td>0.050</td>\n",
       "      <td>Low</td>\n",
       "      <td>Low</td>\n",
       "      <td>10.2639</td>\n",
       "    </tr>\n",
       "    <tr>\n",
       "      <th>6</th>\n",
       "      <td>Afghanistan</td>\n",
       "      <td>2018</td>\n",
       "      <td>AFG</td>\n",
       "      <td>36686788.0</td>\n",
       "      <td>6.759497e+10</td>\n",
       "      <td>0.057</td>\n",
       "      <td>0.002</td>\n",
       "      <td>10.818</td>\n",
       "      <td>0.950</td>\n",
       "      <td>9.628</td>\n",
       "      <td>...</td>\n",
       "      <td>0.006</td>\n",
       "      <td>0.035</td>\n",
       "      <td>0.008</td>\n",
       "      <td>0.019</td>\n",
       "      <td>0.000</td>\n",
       "      <td>0.004</td>\n",
       "      <td>0.054</td>\n",
       "      <td>Low</td>\n",
       "      <td>Low</td>\n",
       "      <td>10.2639</td>\n",
       "    </tr>\n",
       "    <tr>\n",
       "      <th>7</th>\n",
       "      <td>Afghanistan</td>\n",
       "      <td>2019</td>\n",
       "      <td>AFG</td>\n",
       "      <td>37769496.0</td>\n",
       "      <td>NaN</td>\n",
       "      <td>0.038</td>\n",
       "      <td>0.001</td>\n",
       "      <td>11.082</td>\n",
       "      <td>0.264</td>\n",
       "      <td>2.436</td>\n",
       "      <td>...</td>\n",
       "      <td>0.006</td>\n",
       "      <td>0.034</td>\n",
       "      <td>0.008</td>\n",
       "      <td>0.020</td>\n",
       "      <td>0.000</td>\n",
       "      <td>0.003</td>\n",
       "      <td>0.055</td>\n",
       "      <td>Low</td>\n",
       "      <td>Low</td>\n",
       "      <td>10.2639</td>\n",
       "    </tr>\n",
       "    <tr>\n",
       "      <th>8</th>\n",
       "      <td>Afghanistan</td>\n",
       "      <td>2020</td>\n",
       "      <td>AFG</td>\n",
       "      <td>38972236.0</td>\n",
       "      <td>NaN</td>\n",
       "      <td>0.061</td>\n",
       "      <td>0.002</td>\n",
       "      <td>11.682</td>\n",
       "      <td>0.600</td>\n",
       "      <td>5.416</td>\n",
       "      <td>...</td>\n",
       "      <td>0.007</td>\n",
       "      <td>0.033</td>\n",
       "      <td>0.008</td>\n",
       "      <td>0.021</td>\n",
       "      <td>0.000</td>\n",
       "      <td>0.003</td>\n",
       "      <td>0.065</td>\n",
       "      <td>Low</td>\n",
       "      <td>Low</td>\n",
       "      <td>10.2639</td>\n",
       "    </tr>\n",
       "    <tr>\n",
       "      <th>9</th>\n",
       "      <td>Afghanistan</td>\n",
       "      <td>2021</td>\n",
       "      <td>AFG</td>\n",
       "      <td>40099460.0</td>\n",
       "      <td>NaN</td>\n",
       "      <td>0.012</td>\n",
       "      <td>0.000</td>\n",
       "      <td>11.874</td>\n",
       "      <td>0.192</td>\n",
       "      <td>1.647</td>\n",
       "      <td>...</td>\n",
       "      <td>0.007</td>\n",
       "      <td>0.032</td>\n",
       "      <td>0.008</td>\n",
       "      <td>0.022</td>\n",
       "      <td>0.000</td>\n",
       "      <td>0.003</td>\n",
       "      <td>0.063</td>\n",
       "      <td>Low</td>\n",
       "      <td>Low</td>\n",
       "      <td>10.2639</td>\n",
       "    </tr>\n",
       "    <tr>\n",
       "      <th>10</th>\n",
       "      <td>Albania</td>\n",
       "      <td>2012</td>\n",
       "      <td>ALB</td>\n",
       "      <td>2892191.0</td>\n",
       "      <td>2.885538e+10</td>\n",
       "      <td>1.039</td>\n",
       "      <td>0.359</td>\n",
       "      <td>4.850</td>\n",
       "      <td>-0.465</td>\n",
       "      <td>-8.742</td>\n",
       "      <td>...</td>\n",
       "      <td>0.009</td>\n",
       "      <td>0.000</td>\n",
       "      <td>0.008</td>\n",
       "      <td>0.031</td>\n",
       "      <td>0.000</td>\n",
       "      <td>0.000</td>\n",
       "      <td>0.027</td>\n",
       "      <td>Low</td>\n",
       "      <td>Low</td>\n",
       "      <td>5.0324</td>\n",
       "    </tr>\n",
       "    <tr>\n",
       "      <th>11</th>\n",
       "      <td>Albania</td>\n",
       "      <td>2013</td>\n",
       "      <td>ALB</td>\n",
       "      <td>2887019.0</td>\n",
       "      <td>2.914264e+10</td>\n",
       "      <td>1.129</td>\n",
       "      <td>0.391</td>\n",
       "      <td>5.287</td>\n",
       "      <td>0.437</td>\n",
       "      <td>9.019</td>\n",
       "      <td>...</td>\n",
       "      <td>0.009</td>\n",
       "      <td>0.000</td>\n",
       "      <td>0.008</td>\n",
       "      <td>0.031</td>\n",
       "      <td>0.000</td>\n",
       "      <td>0.001</td>\n",
       "      <td>0.029</td>\n",
       "      <td>Low</td>\n",
       "      <td>Low</td>\n",
       "      <td>5.0324</td>\n",
       "    </tr>\n",
       "    <tr>\n",
       "      <th>12</th>\n",
       "      <td>Albania</td>\n",
       "      <td>2014</td>\n",
       "      <td>ALB</td>\n",
       "      <td>2884100.0</td>\n",
       "      <td>2.967564e+10</td>\n",
       "      <td>1.045</td>\n",
       "      <td>0.362</td>\n",
       "      <td>6.000</td>\n",
       "      <td>0.712</td>\n",
       "      <td>13.469</td>\n",
       "      <td>...</td>\n",
       "      <td>0.009</td>\n",
       "      <td>0.000</td>\n",
       "      <td>0.008</td>\n",
       "      <td>0.031</td>\n",
       "      <td>0.003</td>\n",
       "      <td>0.001</td>\n",
       "      <td>0.033</td>\n",
       "      <td>Low</td>\n",
       "      <td>Low</td>\n",
       "      <td>5.0324</td>\n",
       "    </tr>\n",
       "    <tr>\n",
       "      <th>13</th>\n",
       "      <td>Albania</td>\n",
       "      <td>2015</td>\n",
       "      <td>ALB</td>\n",
       "      <td>2882482.0</td>\n",
       "      <td>3.044453e+10</td>\n",
       "      <td>0.954</td>\n",
       "      <td>0.331</td>\n",
       "      <td>4.712</td>\n",
       "      <td>-1.288</td>\n",
       "      <td>-21.460</td>\n",
       "      <td>...</td>\n",
       "      <td>0.009</td>\n",
       "      <td>0.000</td>\n",
       "      <td>0.008</td>\n",
       "      <td>0.031</td>\n",
       "      <td>0.009</td>\n",
       "      <td>0.001</td>\n",
       "      <td>0.028</td>\n",
       "      <td>Low</td>\n",
       "      <td>Low</td>\n",
       "      <td>5.0324</td>\n",
       "    </tr>\n",
       "    <tr>\n",
       "      <th>14</th>\n",
       "      <td>Albania</td>\n",
       "      <td>2016</td>\n",
       "      <td>ALB</td>\n",
       "      <td>2881064.0</td>\n",
       "      <td>3.148182e+10</td>\n",
       "      <td>0.880</td>\n",
       "      <td>0.306</td>\n",
       "      <td>4.632</td>\n",
       "      <td>-0.080</td>\n",
       "      <td>-1.701</td>\n",
       "      <td>...</td>\n",
       "      <td>0.009</td>\n",
       "      <td>0.001</td>\n",
       "      <td>0.007</td>\n",
       "      <td>0.031</td>\n",
       "      <td>0.011</td>\n",
       "      <td>0.002</td>\n",
       "      <td>0.028</td>\n",
       "      <td>Low</td>\n",
       "      <td>Low</td>\n",
       "      <td>5.0324</td>\n",
       "    </tr>\n",
       "    <tr>\n",
       "      <th>15</th>\n",
       "      <td>Albania</td>\n",
       "      <td>2017</td>\n",
       "      <td>ALB</td>\n",
       "      <td>2879361.0</td>\n",
       "      <td>3.267876e+10</td>\n",
       "      <td>1.011</td>\n",
       "      <td>0.351</td>\n",
       "      <td>5.564</td>\n",
       "      <td>0.932</td>\n",
       "      <td>20.125</td>\n",
       "      <td>...</td>\n",
       "      <td>0.009</td>\n",
       "      <td>0.001</td>\n",
       "      <td>0.007</td>\n",
       "      <td>0.031</td>\n",
       "      <td>0.008</td>\n",
       "      <td>0.002</td>\n",
       "      <td>0.033</td>\n",
       "      <td>Low</td>\n",
       "      <td>Low</td>\n",
       "      <td>5.0324</td>\n",
       "    </tr>\n",
       "    <tr>\n",
       "      <th>16</th>\n",
       "      <td>Albania</td>\n",
       "      <td>2018</td>\n",
       "      <td>ALB</td>\n",
       "      <td>2877019.0</td>\n",
       "      <td>3.400911e+10</td>\n",
       "      <td>1.017</td>\n",
       "      <td>0.353</td>\n",
       "      <td>4.984</td>\n",
       "      <td>-0.580</td>\n",
       "      <td>-10.426</td>\n",
       "      <td>...</td>\n",
       "      <td>0.009</td>\n",
       "      <td>0.001</td>\n",
       "      <td>0.007</td>\n",
       "      <td>0.031</td>\n",
       "      <td>0.003</td>\n",
       "      <td>0.002</td>\n",
       "      <td>0.027</td>\n",
       "      <td>Low</td>\n",
       "      <td>Low</td>\n",
       "      <td>5.0324</td>\n",
       "    </tr>\n",
       "    <tr>\n",
       "      <th>17</th>\n",
       "      <td>Albania</td>\n",
       "      <td>2019</td>\n",
       "      <td>ALB</td>\n",
       "      <td>2873883.0</td>\n",
       "      <td>NaN</td>\n",
       "      <td>1.048</td>\n",
       "      <td>0.365</td>\n",
       "      <td>4.947</td>\n",
       "      <td>-0.037</td>\n",
       "      <td>-0.734</td>\n",
       "      <td>...</td>\n",
       "      <td>0.009</td>\n",
       "      <td>0.001</td>\n",
       "      <td>0.007</td>\n",
       "      <td>0.031</td>\n",
       "      <td>0.001</td>\n",
       "      <td>0.002</td>\n",
       "      <td>0.028</td>\n",
       "      <td>Low</td>\n",
       "      <td>Low</td>\n",
       "      <td>5.0324</td>\n",
       "    </tr>\n",
       "    <tr>\n",
       "      <th>18</th>\n",
       "      <td>Albania</td>\n",
       "      <td>2020</td>\n",
       "      <td>ALB</td>\n",
       "      <td>2866850.0</td>\n",
       "      <td>NaN</td>\n",
       "      <td>1.048</td>\n",
       "      <td>0.366</td>\n",
       "      <td>4.729</td>\n",
       "      <td>-0.219</td>\n",
       "      <td>-4.425</td>\n",
       "      <td>...</td>\n",
       "      <td>0.008</td>\n",
       "      <td>0.001</td>\n",
       "      <td>0.007</td>\n",
       "      <td>0.031</td>\n",
       "      <td>0.000</td>\n",
       "      <td>0.002</td>\n",
       "      <td>0.029</td>\n",
       "      <td>Low</td>\n",
       "      <td>Low</td>\n",
       "      <td>5.0324</td>\n",
       "    </tr>\n",
       "    <tr>\n",
       "      <th>19</th>\n",
       "      <td>Albania</td>\n",
       "      <td>2021</td>\n",
       "      <td>ALB</td>\n",
       "      <td>2854710.0</td>\n",
       "      <td>NaN</td>\n",
       "      <td>1.048</td>\n",
       "      <td>0.367</td>\n",
       "      <td>4.619</td>\n",
       "      <td>-0.109</td>\n",
       "      <td>-2.315</td>\n",
       "      <td>...</td>\n",
       "      <td>0.008</td>\n",
       "      <td>0.001</td>\n",
       "      <td>0.007</td>\n",
       "      <td>0.031</td>\n",
       "      <td>0.000</td>\n",
       "      <td>0.002</td>\n",
       "      <td>0.027</td>\n",
       "      <td>Low</td>\n",
       "      <td>Low</td>\n",
       "      <td>5.0324</td>\n",
       "    </tr>\n",
       "  </tbody>\n",
       "</table>\n",
       "<p>20 rows × 44 columns</p>\n",
       "</div>"
      ],
      "text/plain": [
       "        country  year iso_code  population           gdp  cement_co2  \\\n",
       "0   Afghanistan  2012      AFG  30466484.0  5.916690e+10       0.029   \n",
       "1   Afghanistan  2013      AFG  31541216.0  6.299370e+10       0.036   \n",
       "2   Afghanistan  2014      AFG  32716214.0  6.434611e+10       0.029   \n",
       "3   Afghanistan  2015      AFG  33753500.0  6.278339e+10       0.041   \n",
       "4   Afghanistan  2016      AFG  34636212.0  6.429743e+10       0.076   \n",
       "5   Afghanistan  2017      AFG  35643420.0  6.875280e+10       0.045   \n",
       "6   Afghanistan  2018      AFG  36686788.0  6.759497e+10       0.057   \n",
       "7   Afghanistan  2019      AFG  37769496.0           NaN       0.038   \n",
       "8   Afghanistan  2020      AFG  38972236.0           NaN       0.061   \n",
       "9   Afghanistan  2021      AFG  40099460.0           NaN       0.012   \n",
       "10      Albania  2012      ALB   2892191.0  2.885538e+10       1.039   \n",
       "11      Albania  2013      ALB   2887019.0  2.914264e+10       1.129   \n",
       "12      Albania  2014      ALB   2884100.0  2.967564e+10       1.045   \n",
       "13      Albania  2015      ALB   2882482.0  3.044453e+10       0.954   \n",
       "14      Albania  2016      ALB   2881064.0  3.148182e+10       0.880   \n",
       "15      Albania  2017      ALB   2879361.0  3.267876e+10       1.011   \n",
       "16      Albania  2018      ALB   2877019.0  3.400911e+10       1.017   \n",
       "17      Albania  2019      ALB   2873883.0           NaN       1.048   \n",
       "18      Albania  2020      ALB   2866850.0           NaN       1.048   \n",
       "19      Albania  2021      ALB   2854710.0           NaN       1.048   \n",
       "\n",
       "    cement_co2_per_capita     co2  co2_growth_abs  co2_growth_prct  ...  \\\n",
       "0                   0.001  10.035          -1.803          -15.230  ...   \n",
       "1                   0.001   9.251          -0.785           -7.820  ...   \n",
       "2                   0.001   9.170          -0.080           -0.867  ...   \n",
       "3                   0.001   9.791           0.621            6.770  ...   \n",
       "4                   0.002   9.068          -0.723           -7.389  ...   \n",
       "5                   0.001   9.868           0.800            8.827  ...   \n",
       "6                   0.002  10.818           0.950            9.628  ...   \n",
       "7                   0.001  11.082           0.264            2.436  ...   \n",
       "8                   0.002  11.682           0.600            5.416  ...   \n",
       "9                   0.000  11.874           0.192            1.647  ...   \n",
       "10                  0.359   4.850          -0.465           -8.742  ...   \n",
       "11                  0.391   5.287           0.437            9.019  ...   \n",
       "12                  0.362   6.000           0.712           13.469  ...   \n",
       "13                  0.331   4.712          -1.288          -21.460  ...   \n",
       "14                  0.306   4.632          -0.080           -1.701  ...   \n",
       "15                  0.351   5.564           0.932           20.125  ...   \n",
       "16                  0.353   4.984          -0.580          -10.426  ...   \n",
       "17                  0.365   4.947          -0.037           -0.734  ...   \n",
       "18                  0.366   4.729          -0.219           -4.425  ...   \n",
       "19                  0.367   4.619          -0.109           -2.315  ...   \n",
       "\n",
       "    share_global_cumulative_coal_co2  share_global_cumulative_flaring_co2  \\\n",
       "0                              0.004                                0.040   \n",
       "1                              0.004                                0.039   \n",
       "2                              0.005                                0.038   \n",
       "3                              0.005                                0.037   \n",
       "4                              0.005                                0.036   \n",
       "5                              0.006                                0.035   \n",
       "6                              0.006                                0.035   \n",
       "7                              0.006                                0.034   \n",
       "8                              0.007                                0.033   \n",
       "9                              0.007                                0.032   \n",
       "10                             0.009                                0.000   \n",
       "11                             0.009                                0.000   \n",
       "12                             0.009                                0.000   \n",
       "13                             0.009                                0.000   \n",
       "14                             0.009                                0.001   \n",
       "15                             0.009                                0.001   \n",
       "16                             0.009                                0.001   \n",
       "17                             0.009                                0.001   \n",
       "18                             0.008                                0.001   \n",
       "19                             0.008                                0.001   \n",
       "\n",
       "    share_global_cumulative_gas_co2  share_global_cumulative_oil_co2  \\\n",
       "0                             0.009                            0.015   \n",
       "1                             0.009                            0.016   \n",
       "2                             0.009                            0.016   \n",
       "3                             0.009                            0.017   \n",
       "4                             0.009                            0.018   \n",
       "5                             0.009                            0.019   \n",
       "6                             0.008                            0.019   \n",
       "7                             0.008                            0.020   \n",
       "8                             0.008                            0.021   \n",
       "9                             0.008                            0.022   \n",
       "10                            0.008                            0.031   \n",
       "11                            0.008                            0.031   \n",
       "12                            0.008                            0.031   \n",
       "13                            0.008                            0.031   \n",
       "14                            0.007                            0.031   \n",
       "15                            0.007                            0.031   \n",
       "16                            0.007                            0.031   \n",
       "17                            0.007                            0.031   \n",
       "18                            0.007                            0.031   \n",
       "19                            0.007                            0.031   \n",
       "\n",
       "    share_global_flaring_co2  share_global_gas_co2  share_global_oil_co2  \\\n",
       "0                      0.000                 0.005                 0.057   \n",
       "1                      0.000                 0.005                 0.048   \n",
       "2                      0.000                 0.004                 0.044   \n",
       "3                      0.000                 0.004                 0.056   \n",
       "4                      0.000                 0.005                 0.048   \n",
       "5                      0.000                 0.004                 0.050   \n",
       "6                      0.000                 0.004                 0.054   \n",
       "7                      0.000                 0.003                 0.055   \n",
       "8                      0.000                 0.003                 0.065   \n",
       "9                      0.000                 0.003                 0.063   \n",
       "10                     0.000                 0.000                 0.027   \n",
       "11                     0.000                 0.001                 0.029   \n",
       "12                     0.003                 0.001                 0.033   \n",
       "13                     0.009                 0.001                 0.028   \n",
       "14                     0.011                 0.002                 0.028   \n",
       "15                     0.008                 0.002                 0.033   \n",
       "16                     0.003                 0.002                 0.027   \n",
       "17                     0.001                 0.002                 0.028   \n",
       "18                     0.000                 0.002                 0.029   \n",
       "19                     0.000                 0.002                 0.027   \n",
       "\n",
       "    co2_category  co2_per_capita_category  average_co2_emission  \n",
       "0            Low                      Low               10.2639  \n",
       "1            Low                      Low               10.2639  \n",
       "2            Low                      Low               10.2639  \n",
       "3            Low                      Low               10.2639  \n",
       "4            Low                      Low               10.2639  \n",
       "5            Low                      Low               10.2639  \n",
       "6            Low                      Low               10.2639  \n",
       "7            Low                      Low               10.2639  \n",
       "8            Low                      Low               10.2639  \n",
       "9            Low                      Low               10.2639  \n",
       "10           Low                      Low                5.0324  \n",
       "11           Low                      Low                5.0324  \n",
       "12           Low                      Low                5.0324  \n",
       "13           Low                      Low                5.0324  \n",
       "14           Low                      Low                5.0324  \n",
       "15           Low                      Low                5.0324  \n",
       "16           Low                      Low                5.0324  \n",
       "17           Low                      Low                5.0324  \n",
       "18           Low                      Low                5.0324  \n",
       "19           Low                      Low                5.0324  \n",
       "\n",
       "[20 rows x 44 columns]"
      ]
     },
     "execution_count": 7,
     "metadata": {},
     "output_type": "execute_result"
    }
   ],
   "source": [
    "# Print the first 20 rows\n",
    "\n",
    "df_co2.head(20)"
   ]
  },
  {
   "cell_type": "markdown",
   "id": "68a406f6",
   "metadata": {},
   "source": [
    "#### The index has been reset now."
   ]
  },
  {
   "cell_type": "code",
   "execution_count": 8,
   "id": "1fa081d3",
   "metadata": {},
   "outputs": [
    {
     "data": {
      "text/plain": [
       "(2200, 44)"
      ]
     },
     "execution_count": 8,
     "metadata": {},
     "output_type": "execute_result"
    }
   ],
   "source": [
    "# Check the size of the dataframe\n",
    "\n",
    "df_co2.shape"
   ]
  },
  {
   "cell_type": "code",
   "execution_count": 9,
   "id": "458ca851",
   "metadata": {},
   "outputs": [],
   "source": [
    "# Export the dataframe (overwrite) so I don't have to reset the index in the next script\n",
    "\n",
    "df_co2.to_pickle(os.path.join(path, '02. Data','Prepared Data', 'emissions_clean_recent_only_countries_flags.pkl'))"
   ]
  },
  {
   "cell_type": "markdown",
   "id": "cb9f8b1d",
   "metadata": {},
   "source": [
    "# 3. Data Cleaning"
   ]
  },
  {
   "cell_type": "markdown",
   "id": "f959b5cf",
   "metadata": {},
   "source": [
    "#### Before running the regression, the data needs to be prepared by checking missing values and extreme values."
   ]
  },
  {
   "cell_type": "markdown",
   "id": "8f89ece2",
   "metadata": {},
   "source": [
    "## 3.1 Missing values and \"0\" values"
   ]
  },
  {
   "cell_type": "markdown",
   "id": "07bfb3c2",
   "metadata": {},
   "source": [
    "#### In the last script it already became evident that there are missing values. Let's check again:"
   ]
  },
  {
   "cell_type": "code",
   "execution_count": 10,
   "id": "d0ecae43",
   "metadata": {},
   "outputs": [
    {
     "data": {
      "text/plain": [
       "country                                   0\n",
       "year                                      0\n",
       "iso_code                                  0\n",
       "population                                0\n",
       "gdp                                    1052\n",
       "cement_co2                               17\n",
       "cement_co2_per_capita                    17\n",
       "co2                                       0\n",
       "co2_growth_abs                           10\n",
       "co2_growth_prct                           0\n",
       "co2_per_capita                            0\n",
       "co2_per_gdp                            1045\n",
       "coal_co2                                  0\n",
       "coal_co2_per_capita                       0\n",
       "cumulative_cement_co2                    17\n",
       "cumulative_co2                            0\n",
       "cumulative_coal_co2                       0\n",
       "cumulative_flaring_co2                    0\n",
       "cumulative_gas_co2                        0\n",
       "cumulative_oil_co2                        0\n",
       "energy_per_capita                       360\n",
       "energy_per_gdp                         1052\n",
       "flaring_co2                               0\n",
       "flaring_co2_per_capita                    0\n",
       "gas_co2                                   0\n",
       "gas_co2_per_capita                        0\n",
       "oil_co2                                   0\n",
       "oil_co2_per_capita                        0\n",
       "primary_energy_consumption              360\n",
       "share_global_cement_co2                  17\n",
       "share_global_co2                          0\n",
       "share_global_coal_co2                     0\n",
       "share_global_cumulative_cement_co2       17\n",
       "share_global_cumulative_co2               0\n",
       "share_global_cumulative_coal_co2          0\n",
       "share_global_cumulative_flaring_co2       0\n",
       "share_global_cumulative_gas_co2           0\n",
       "share_global_cumulative_oil_co2           0\n",
       "share_global_flaring_co2                  0\n",
       "share_global_gas_co2                      0\n",
       "share_global_oil_co2                      0\n",
       "co2_category                              0\n",
       "co2_per_capita_category                   0\n",
       "average_co2_emission                      0\n",
       "dtype: int64"
      ]
     },
     "execution_count": 10,
     "metadata": {},
     "output_type": "execute_result"
    }
   ],
   "source": [
    "# Check for missing values\n",
    "\n",
    "df_co2.isnull().sum()"
   ]
  },
  {
   "cell_type": "markdown",
   "id": "f3492d91",
   "metadata": {},
   "source": [
    "#### The variables I'm interested in are \"primary_energy_consumption\" and \"co2\". We have 0 missing values in the \"co2\" column, but we still have 360 missing values for \"primary_energy_consumption\". Therefore, we need to create a new dataframe that does not contain observations with NaNs."
   ]
  },
  {
   "cell_type": "code",
   "execution_count": 11,
   "id": "191bffcb",
   "metadata": {},
   "outputs": [],
   "source": [
    "# Create a new dataframe that doesn't contain missing values in the variable of interest\n",
    "\n",
    "df_co2_new = df_co2[df_co2['primary_energy_consumption'].isnull() == False]"
   ]
  },
  {
   "cell_type": "code",
   "execution_count": 12,
   "id": "8f45cf86",
   "metadata": {},
   "outputs": [
    {
     "data": {
      "text/plain": [
       "(1840, 44)"
      ]
     },
     "execution_count": 12,
     "metadata": {},
     "output_type": "execute_result"
    }
   ],
   "source": [
    "# Check the size of the new dataframe\n",
    "\n",
    "df_co2_new.shape"
   ]
  },
  {
   "cell_type": "markdown",
   "id": "fd6cd2d6",
   "metadata": {},
   "source": [
    "#### The new dataframe has 360 observations less as expected. Let's check if the missing values are 0."
   ]
  },
  {
   "cell_type": "code",
   "execution_count": 13,
   "id": "e0903639",
   "metadata": {},
   "outputs": [
    {
     "data": {
      "text/plain": [
       "country                                  0\n",
       "year                                     0\n",
       "iso_code                                 0\n",
       "population                               0\n",
       "gdp                                    692\n",
       "cement_co2                              13\n",
       "cement_co2_per_capita                   13\n",
       "co2                                      0\n",
       "co2_growth_abs                           0\n",
       "co2_growth_prct                          0\n",
       "co2_per_capita                           0\n",
       "co2_per_gdp                            685\n",
       "coal_co2                                 0\n",
       "coal_co2_per_capita                      0\n",
       "cumulative_cement_co2                   13\n",
       "cumulative_co2                           0\n",
       "cumulative_coal_co2                      0\n",
       "cumulative_flaring_co2                   0\n",
       "cumulative_gas_co2                       0\n",
       "cumulative_oil_co2                       0\n",
       "energy_per_capita                        0\n",
       "energy_per_gdp                         692\n",
       "flaring_co2                              0\n",
       "flaring_co2_per_capita                   0\n",
       "gas_co2                                  0\n",
       "gas_co2_per_capita                       0\n",
       "oil_co2                                  0\n",
       "oil_co2_per_capita                       0\n",
       "primary_energy_consumption               0\n",
       "share_global_cement_co2                 13\n",
       "share_global_co2                         0\n",
       "share_global_coal_co2                    0\n",
       "share_global_cumulative_cement_co2      13\n",
       "share_global_cumulative_co2              0\n",
       "share_global_cumulative_coal_co2         0\n",
       "share_global_cumulative_flaring_co2      0\n",
       "share_global_cumulative_gas_co2          0\n",
       "share_global_cumulative_oil_co2          0\n",
       "share_global_flaring_co2                 0\n",
       "share_global_gas_co2                     0\n",
       "share_global_oil_co2                     0\n",
       "co2_category                             0\n",
       "co2_per_capita_category                  0\n",
       "average_co2_emission                     0\n",
       "dtype: int64"
      ]
     },
     "execution_count": 13,
     "metadata": {},
     "output_type": "execute_result"
    }
   ],
   "source": [
    "# Check for missing values\n",
    "\n",
    "df_co2_new.isnull().sum()"
   ]
  },
  {
   "cell_type": "markdown",
   "id": "8d6daa9e",
   "metadata": {},
   "source": [
    "#### The missing values for primary energy consumption have been removed successfully. The next step is to remove the \"0\" values.  We don't know for sure if they're missing values, but remove them anyways since they could affect our regression."
   ]
  },
  {
   "cell_type": "code",
   "execution_count": 14,
   "id": "983afd04",
   "metadata": {},
   "outputs": [],
   "source": [
    "# Remove 0 values\n",
    "\n",
    "df_co2_new = df_co2_new[df_co2_new['co2'] >= 0.00001]"
   ]
  },
  {
   "cell_type": "code",
   "execution_count": 15,
   "id": "3ac97af8",
   "metadata": {},
   "outputs": [],
   "source": [
    "# Remove 0 values\n",
    "\n",
    "df_co2_new = df_co2_new[df_co2_new['primary_energy_consumption'] >= 0.00001]"
   ]
  },
  {
   "cell_type": "code",
   "execution_count": 16,
   "id": "c36fac08",
   "metadata": {},
   "outputs": [
    {
     "data": {
      "text/plain": [
       "(1832, 44)"
      ]
     },
     "execution_count": 16,
     "metadata": {},
     "output_type": "execute_result"
    }
   ],
   "source": [
    "# Check the size of the dataframe after removing the 0 values\n",
    "\n",
    "df_co2_new.shape"
   ]
  },
  {
   "cell_type": "markdown",
   "id": "18804904",
   "metadata": {},
   "source": [
    "#### The dataset got smaller, but we have still almost 2000 observations ready to be tested."
   ]
  },
  {
   "cell_type": "markdown",
   "id": "45276330",
   "metadata": {},
   "source": [
    "## 3.2 Checking extreme values"
   ]
  },
  {
   "cell_type": "markdown",
   "id": "d0e02ad3",
   "metadata": {},
   "source": [
    "#### Since outliers can affect the performance of our model, we should check at least the distribution of the variables we want to analyze."
   ]
  },
  {
   "cell_type": "code",
   "execution_count": 17,
   "id": "eef9f3fe",
   "metadata": {},
   "outputs": [
    {
     "name": "stderr",
     "output_type": "stream",
     "text": [
      "C:\\Users\\osoty\\AppData\\Local\\Temp\\ipykernel_5544\\3033752917.py:3: UserWarning: \n",
      "\n",
      "`distplot` is a deprecated function and will be removed in seaborn v0.14.0.\n",
      "\n",
      "Please adapt your code to use either `displot` (a figure-level function with\n",
      "similar flexibility) or `histplot` (an axes-level function for histograms).\n",
      "\n",
      "For a guide to updating your code to use the new functions, please see\n",
      "https://gist.github.com/mwaskom/de44147ed2974457ad6372750bbe5751\n",
      "\n",
      "  sns.distplot(df_co2_new['co2'], bins=25)\n"
     ]
    },
    {
     "data": {
      "text/plain": [
       "<AxesSubplot:xlabel='co2', ylabel='Density'>"
      ]
     },
     "execution_count": 17,
     "metadata": {},
     "output_type": "execute_result"
    },
    {
     "data": {
      "image/png": "[encoded data removed]",
      "text/plain": [
       "<Figure size 640x480 with 1 Axes>"
      ]
     },
     "metadata": {},
     "output_type": "display_data"
    }
   ],
   "source": [
    "# Shows extreme values for the \"co2\" column\n",
    "\n",
    "sns.distplot(df_co2_new['co2'], bins=25)"
   ]
  },
  {
   "cell_type": "markdown",
   "id": "2af25299",
   "metadata": {},
   "source": [
    "#### We already learned in the previous script that there are some high values related to the  United States and China. For now, the model will be trained on the complete dataset. If the results turn out to be poor, outliers can be removed."
   ]
  },
  {
   "cell_type": "code",
   "execution_count": 18,
   "id": "a28d3984",
   "metadata": {},
   "outputs": [
    {
     "name": "stderr",
     "output_type": "stream",
     "text": [
      "C:\\Users\\osoty\\AppData\\Local\\Temp\\ipykernel_5544\\3895631049.py:3: UserWarning: \n",
      "\n",
      "`distplot` is a deprecated function and will be removed in seaborn v0.14.0.\n",
      "\n",
      "Please adapt your code to use either `displot` (a figure-level function with\n",
      "similar flexibility) or `histplot` (an axes-level function for histograms).\n",
      "\n",
      "For a guide to updating your code to use the new functions, please see\n",
      "https://gist.github.com/mwaskom/de44147ed2974457ad6372750bbe5751\n",
      "\n",
      "  sns.distplot(df_co2_new['primary_energy_consumption'], bins=25)\n"
     ]
    },
    {
     "data": {
      "text/plain": [
       "<AxesSubplot:xlabel='primary_energy_consumption', ylabel='Density'>"
      ]
     },
     "execution_count": 18,
     "metadata": {},
     "output_type": "execute_result"
    },
    {
     "data": {
      "image/png": "[encoded data removed]",
      "text/plain": [
       "<Figure size 640x480 with 1 Axes>"
      ]
     },
     "metadata": {},
     "output_type": "display_data"
    }
   ],
   "source": [
    "# Shows extreme values for the \"primary_energy_consumption\" column\n",
    "\n",
    "sns.distplot(df_co2_new['primary_energy_consumption'], bins=25)"
   ]
  },
  {
   "cell_type": "markdown",
   "id": "221208d0",
   "metadata": {},
   "source": [
    "#### The same goes for primary energy consumption. We will see if the outliers should be removed later."
   ]
  },
  {
   "cell_type": "markdown",
   "id": "18a46b25",
   "metadata": {},
   "source": [
    "# 4. Defining the Hypothesis "
   ]
  },
  {
   "cell_type": "markdown",
   "id": "8c65001d",
   "metadata": {},
   "source": [
    "#### During my previous analysis in script 6.2, I found a high correlation between \"primary_energy_consumption\" and \"co2\". When analyzing the two variables in a scatterplot it appeared to me they had a linear relationship which led me to the following hypothesis:\n",
    "The average energy consumption of countries with \"high\" CO2 emissions will be higher than the average energy consumption of countries with \"low\" CO2 emissions.\n",
    "\n",
    "#### To make it more comprehensible for the regression analysis:\n",
    "\n",
    "\n",
    "The higher the primary energy consumption, the higher the CO2 emissions."
   ]
  },
  {
   "cell_type": "code",
   "execution_count": 19,
   "id": "c32f9a1b",
   "metadata": {},
   "outputs": [
    {
     "data": {
      "image/png": "[encoded data removed]",
      "text/plain": [
       "<Figure size 640x480 with 1 Axes>"
      ]
     },
     "metadata": {},
     "output_type": "display_data"
    }
   ],
   "source": [
    "# Create a scatterplot between the two variables\n",
    "\n",
    "df_co2_new.plot(x = 'primary_energy_consumption', y = 'co2',style='o')\n",
    "plt.title('Relationship between Primary Energy Consumption and CO2 Emissions')  \n",
    "plt.xlabel('Primary Energy Consumption (terawatt-hours)')  \n",
    "plt.ylabel('CO2 emissions (million tonnes)')  \n",
    "plt.show()"
   ]
  },
  {
   "cell_type": "markdown",
   "id": "6bf914da",
   "metadata": {},
   "source": [
    "#### Besides a few outliers the relationship between the two variables seems pretty linear."
   ]
  },
  {
   "cell_type": "markdown",
   "id": "08f7d071",
   "metadata": {},
   "source": [
    "# 5. Regression Analysis"
   ]
  },
  {
   "cell_type": "markdown",
   "id": "eabbc941",
   "metadata": {},
   "source": [
    "## 5.1 Reshaping variables into NumPy arrays"
   ]
  },
  {
   "cell_type": "markdown",
   "id": "759f03e4",
   "metadata": {},
   "source": [
    "#### In order to use the scikit learn functions, we need to reshape our two variables into NumPy arrays. Our independent variable (X) will be primary_energy_consumption, while co2 will be our dependent variable (y)."
   ]
  },
  {
   "cell_type": "code",
   "execution_count": 20,
   "id": "cba44532",
   "metadata": {},
   "outputs": [],
   "source": [
    "# Reshape the variables into NumPy arrays and put them into separate objects.\n",
    "\n",
    "X = df_co2_new['primary_energy_consumption'].values.reshape (-1, 1)\n",
    "y = df_co2_new['co2'].values.reshape (-1, 1)"
   ]
  },
  {
   "cell_type": "code",
   "execution_count": 21,
   "id": "7ffe3d0e",
   "metadata": {},
   "outputs": [
    {
     "data": {
      "text/plain": [
       "array([[43.26 ],\n",
       "       [36.489],\n",
       "       [33.502],\n",
       "       ...,\n",
       "       [45.936],\n",
       "       [47.502],\n",
       "       [49.427]])"
      ]
     },
     "execution_count": 21,
     "metadata": {},
     "output_type": "execute_result"
    }
   ],
   "source": [
    "# Check the output for X\n",
    "\n",
    "X"
   ]
  },
  {
   "cell_type": "code",
   "execution_count": 22,
   "id": "e344463c",
   "metadata": {},
   "outputs": [
    {
     "data": {
      "text/plain": [
       "array([[10.035],\n",
       "       [ 9.251],\n",
       "       [ 9.17 ],\n",
       "       ...,\n",
       "       [ 9.596],\n",
       "       [11.795],\n",
       "       [11.115]])"
      ]
     },
     "execution_count": 22,
     "metadata": {},
     "output_type": "execute_result"
    }
   ],
   "source": [
    "# Check the output for y\n",
    "\n",
    "y"
   ]
  },
  {
   "cell_type": "markdown",
   "id": "f3c19037",
   "metadata": {},
   "source": [
    "## 5.2 Splitting Data"
   ]
  },
  {
   "cell_type": "markdown",
   "id": "d665ff44",
   "metadata": {},
   "source": [
    "#### For creating our model we need to split our data into a training set (used to train the model) and a test set (to test the model). The test data will contain only 30% of our observations."
   ]
  },
  {
   "cell_type": "code",
   "execution_count": 23,
   "id": "ce57d316",
   "metadata": {},
   "outputs": [],
   "source": [
    "# Split data into a train set and a test set\n",
    "\n",
    "X_train, X_test, y_train, y_test = train_test_split(X, y, test_size=0.3, random_state=0)"
   ]
  },
  {
   "cell_type": "markdown",
   "id": "384001a1",
   "metadata": {},
   "source": [
    "## 5.3 Creating and fitting the regression object"
   ]
  },
  {
   "cell_type": "markdown",
   "id": "af7c8faa",
   "metadata": {},
   "source": [
    "#### As a first step, I will create a regression object using the LinearRegression function."
   ]
  },
  {
   "cell_type": "code",
   "execution_count": 24,
   "id": "116b469c",
   "metadata": {},
   "outputs": [],
   "source": [
    "# Create a regression object\n",
    "\n",
    "regression = LinearRegression()"
   ]
  },
  {
   "cell_type": "markdown",
   "id": "b7602416",
   "metadata": {},
   "source": [
    "#### The next step is to fill this object with the train set, to train our model."
   ]
  },
  {
   "cell_type": "code",
   "execution_count": 25,
   "id": "33af317c",
   "metadata": {},
   "outputs": [
    {
     "data": {
      "text/html": [
       "<style>#sk-container-id-1 {color: black;background-color: white;}#sk-container-id-1 pre{padding: 0;}#sk-container-id-1 div.sk-toggleable {background-color: white;}#sk-container-id-1 label.sk-toggleable__label {cursor: pointer;display: block;width: 100%;margin-bottom: 0;padding: 0.3em;box-sizing: border-box;text-align: center;}#sk-container-id-1 label.sk-toggleable__label-arrow:before {content: \"▸\";float: left;margin-right: 0.25em;color: #696969;}#sk-container-id-1 label.sk-toggleable__label-arrow:hover:before {color: black;}#sk-container-id-1 div.sk-estimator:hover label.sk-toggleable__label-arrow:before {color: black;}#sk-container-id-1 div.sk-toggleable__content {max-height: 0;max-width: 0;overflow: hidden;text-align: left;background-color: #f0f8ff;}#sk-container-id-1 div.sk-toggleable__content pre {margin: 0.2em;color: black;border-radius: 0.25em;background-color: #f0f8ff;}#sk-container-id-1 input.sk-toggleable__control:checked~div.sk-toggleable__content {max-height: 200px;max-width: 100%;overflow: auto;}#sk-container-id-1 input.sk-toggleable__control:checked~label.sk-toggleable__label-arrow:before {content: \"▾\";}#sk-container-id-1 div.sk-estimator input.sk-toggleable__control:checked~label.sk-toggleable__label {background-color: #d4ebff;}#sk-container-id-1 div.sk-label input.sk-toggleable__control:checked~label.sk-toggleable__label {background-color: #d4ebff;}#sk-container-id-1 input.sk-hidden--visually {border: 0;clip: rect(1px 1px 1px 1px);clip: rect(1px, 1px, 1px, 1px);height: 1px;margin: -1px;overflow: hidden;padding: 0;position: absolute;width: 1px;}#sk-container-id-1 div.sk-estimator {font-family: monospace;background-color: #f0f8ff;border: 1px dotted black;border-radius: 0.25em;box-sizing: border-box;margin-bottom: 0.5em;}#sk-container-id-1 div.sk-estimator:hover {background-color: #d4ebff;}#sk-container-id-1 div.sk-parallel-item::after {content: \"\";width: 100%;border-bottom: 1px solid gray;flex-grow: 1;}#sk-container-id-1 div.sk-label:hover label.sk-toggleable__label {background-color: #d4ebff;}#sk-container-id-1 div.sk-serial::before {content: \"\";position: absolute;border-left: 1px solid gray;box-sizing: border-box;top: 0;bottom: 0;left: 50%;z-index: 0;}#sk-container-id-1 div.sk-serial {display: flex;flex-direction: column;align-items: center;background-color: white;padding-right: 0.2em;padding-left: 0.2em;position: relative;}#sk-container-id-1 div.sk-item {position: relative;z-index: 1;}#sk-container-id-1 div.sk-parallel {display: flex;align-items: stretch;justify-content: center;background-color: white;position: relative;}#sk-container-id-1 div.sk-item::before, #sk-container-id-1 div.sk-parallel-item::before {content: \"\";position: absolute;border-left: 1px solid gray;box-sizing: border-box;top: 0;bottom: 0;left: 50%;z-index: -1;}#sk-container-id-1 div.sk-parallel-item {display: flex;flex-direction: column;z-index: 1;position: relative;background-color: white;}#sk-container-id-1 div.sk-parallel-item:first-child::after {align-self: flex-end;width: 50%;}#sk-container-id-1 div.sk-parallel-item:last-child::after {align-self: flex-start;width: 50%;}#sk-container-id-1 div.sk-parallel-item:only-child::after {width: 0;}#sk-container-id-1 div.sk-dashed-wrapped {border: 1px dashed gray;margin: 0 0.4em 0.5em 0.4em;box-sizing: border-box;padding-bottom: 0.4em;background-color: white;}#sk-container-id-1 div.sk-label label {font-family: monospace;font-weight: bold;display: inline-block;line-height: 1.2em;}#sk-container-id-1 div.sk-label-container {text-align: center;}#sk-container-id-1 div.sk-container {/* jupyter's `normalize.less` sets `[hidden] { display: none; }` but bootstrap.min.css set `[hidden] { display: none !important; }` so we also need the `!important` here to be able to override the default hidden behavior on the sphinx rendered scikit-learn.org. See: https://github.com/scikit-learn/scikit-learn/issues/21755 */display: inline-block !important;position: relative;}#sk-container-id-1 div.sk-text-repr-fallback {display: none;}</style><div id=\"sk-container-id-1\" class=\"sk-top-container\"><div class=\"sk-text-repr-fallback\"><pre>LinearRegression()</pre><b>In a Jupyter environment, please rerun this cell to show the HTML representation or trust the notebook. <br />On GitHub, the HTML representation is unable to render, please try loading this page with nbviewer.org.</b></div><div class=\"sk-container\" hidden><div class=\"sk-item\"><div class=\"sk-estimator sk-toggleable\"><input class=\"sk-toggleable__control sk-hidden--visually\" id=\"sk-estimator-id-1\" type=\"checkbox\" checked><label for=\"sk-estimator-id-1\" class=\"sk-toggleable__label sk-toggleable__label-arrow\">LinearRegression</label><div class=\"sk-toggleable__content\"><pre>LinearRegression()</pre></div></div></div></div></div>"
      ],
      "text/plain": [
       "LinearRegression()"
      ]
     },
     "execution_count": 25,
     "metadata": {},
     "output_type": "execute_result"
    }
   ],
   "source": [
    "# Fill the regression object\n",
    "\n",
    "regression.fit(X_train, y_train)"
   ]
  },
  {
   "cell_type": "markdown",
   "id": "105ef984",
   "metadata": {},
   "source": [
    "## 5.4 Testing predictions"
   ]
  },
  {
   "cell_type": "markdown",
   "id": "8fb4904d",
   "metadata": {},
   "source": [
    "#### After the model is trained, it's time to predict our dependant variable (y) values, based on our independent variable (x) values.  "
   ]
  },
  {
   "cell_type": "code",
   "execution_count": 26,
   "id": "e2a33719",
   "metadata": {},
   "outputs": [],
   "source": [
    "# Create predictions based on X values from test set\n",
    "\n",
    "y_predicted = regression.predict(X_test)"
   ]
  },
  {
   "cell_type": "markdown",
   "id": "6ec6e2ae",
   "metadata": {},
   "source": [
    "#### Let's create a plot that shows the regression line from the model on the test set.\n"
   ]
  },
  {
   "cell_type": "code",
   "execution_count": 27,
   "id": "37d03ff2",
   "metadata": {},
   "outputs": [
    {
     "data": {
      "image/png": "[encoded data removed]",
      "text/plain": [
       "<Figure size 640x480 with 1 Axes>"
      ]
     },
     "metadata": {},
     "output_type": "display_data"
    }
   ],
   "source": [
    "# Create a plot that shows the regression line from the model on the test set.\n",
    "\n",
    "plot_test = plt\n",
    "plot_test.scatter(X_test, y_test, color='grey', s = 15)\n",
    "plot_test.plot(X_test, y_predicted, color='red', linewidth =3)\n",
    "plot_test.title('Relationship between Primary Energy Consumption and CO2 Emissions (Test set)')\n",
    "plot_test.xlabel('Energy consumption (terawatt-hours)')\n",
    "plot_test.ylabel('CO2 emissions (million tonnes)')\n",
    "plot_test.show()"
   ]
  },
  {
   "cell_type": "markdown",
   "id": "9b664e26",
   "metadata": {},
   "source": [
    "#### The red line represents y values predicted, based on x values. You can see that there are still some datapoints a little far from our predictions, because of some high CO2 values. It is worth a try to see if removing those datapoints will improve the model."
   ]
  },
  {
   "cell_type": "markdown",
   "id": "9dc2b5b8",
   "metadata": {},
   "source": [
    "## 5.5 Summary Statistics"
   ]
  },
  {
   "cell_type": "markdown",
   "id": "cb14d914",
   "metadata": {},
   "source": [
    "#### To check how well the model performed (in addition to the chart above) we can look at some summary statistics."
   ]
  },
  {
   "cell_type": "code",
   "execution_count": 28,
   "id": "03e09ae1",
   "metadata": {},
   "outputs": [],
   "source": [
    "# Create objects for mean squared error and r squared value.\n",
    "\n",
    "rmse = mean_squared_error(y_test, y_predicted)\n",
    "r2 = r2_score(y_test, y_predicted)"
   ]
  },
  {
   "cell_type": "code",
   "execution_count": 29,
   "id": "ef49c394",
   "metadata": {},
   "outputs": [
    {
     "name": "stdout",
     "output_type": "stream",
     "text": [
      "Slope: [[0.25176451]]\n",
      "Mean squared error:  18743.104776638076\n",
      "R squared score:  0.9690295445720375\n"
     ]
    }
   ],
   "source": [
    "# Print the content\n",
    "\n",
    "print('Slope:' ,regression.coef_)\n",
    "print('Mean squared error: ', rmse)\n",
    "print('R squared score: ', r2)"
   ]
  },
  {
   "cell_type": "markdown",
   "id": "f3c3f4e8",
   "metadata": {},
   "source": [
    "* The slope tells us how much the y values change when the x values change. A positive slope like in our case indicates that the two variables are in a positive relationship: as x increases, y increases as well.\n",
    "\n",
    "\n",
    "* The mean squared error represents how accurate our predictions are. It's the average of the squared distance between the predicted values and the actual values. In our case it is a little high. In a new test after removing outliers we might be able to improve it.\n",
    "\n",
    "* The R squared score represents how strong the relationship is. We already investigated the correlation between these two variables and we discovered that the relationship is strong."
   ]
  },
  {
   "cell_type": "markdown",
   "id": "cb910069",
   "metadata": {},
   "source": [
    "## 5.6 Comparing actual values and predicted values"
   ]
  },
  {
   "cell_type": "code",
   "execution_count": 30,
   "id": "ce3b4f38",
   "metadata": {},
   "outputs": [
    {
     "data": {
      "text/html": [
       "<div>\n",
       "<style scoped>\n",
       "    .dataframe tbody tr th:only-of-type {\n",
       "        vertical-align: middle;\n",
       "    }\n",
       "\n",
       "    .dataframe tbody tr th {\n",
       "        vertical-align: top;\n",
       "    }\n",
       "\n",
       "    .dataframe thead th {\n",
       "        text-align: right;\n",
       "    }\n",
       "</style>\n",
       "<table border=\"1\" class=\"dataframe\">\n",
       "  <thead>\n",
       "    <tr style=\"text-align: right;\">\n",
       "      <th></th>\n",
       "      <th>Actual</th>\n",
       "      <th>Predicted</th>\n",
       "    </tr>\n",
       "  </thead>\n",
       "  <tbody>\n",
       "    <tr>\n",
       "      <th>0</th>\n",
       "      <td>260.111</td>\n",
       "      <td>246.109878</td>\n",
       "    </tr>\n",
       "    <tr>\n",
       "      <th>1</th>\n",
       "      <td>10.635</td>\n",
       "      <td>-9.044391</td>\n",
       "    </tr>\n",
       "    <tr>\n",
       "      <th>2</th>\n",
       "      <td>5.535</td>\n",
       "      <td>-11.406949</td>\n",
       "    </tr>\n",
       "    <tr>\n",
       "      <th>3</th>\n",
       "      <td>0.007</td>\n",
       "      <td>-22.238614</td>\n",
       "    </tr>\n",
       "    <tr>\n",
       "      <th>4</th>\n",
       "      <td>629.366</td>\n",
       "      <td>802.477475</td>\n",
       "    </tr>\n",
       "    <tr>\n",
       "      <th>5</th>\n",
       "      <td>446.204</td>\n",
       "      <td>455.215159</td>\n",
       "    </tr>\n",
       "    <tr>\n",
       "      <th>6</th>\n",
       "      <td>0.531</td>\n",
       "      <td>-21.768569</td>\n",
       "    </tr>\n",
       "    <tr>\n",
       "      <th>7</th>\n",
       "      <td>64.160</td>\n",
       "      <td>77.157512</td>\n",
       "    </tr>\n",
       "    <tr>\n",
       "      <th>8</th>\n",
       "      <td>1.033</td>\n",
       "      <td>-20.553050</td>\n",
       "    </tr>\n",
       "    <tr>\n",
       "      <th>9</th>\n",
       "      <td>0.125</td>\n",
       "      <td>-22.078995</td>\n",
       "    </tr>\n",
       "    <tr>\n",
       "      <th>10</th>\n",
       "      <td>2445.012</td>\n",
       "      <td>2229.009943</td>\n",
       "    </tr>\n",
       "    <tr>\n",
       "      <th>11</th>\n",
       "      <td>10.818</td>\n",
       "      <td>-11.675078</td>\n",
       "    </tr>\n",
       "    <tr>\n",
       "      <th>12</th>\n",
       "      <td>58.495</td>\n",
       "      <td>33.238955</td>\n",
       "    </tr>\n",
       "    <tr>\n",
       "      <th>13</th>\n",
       "      <td>670.169</td>\n",
       "      <td>864.247898</td>\n",
       "    </tr>\n",
       "    <tr>\n",
       "      <th>14</th>\n",
       "      <td>3.582</td>\n",
       "      <td>-4.621896</td>\n",
       "    </tr>\n",
       "    <tr>\n",
       "      <th>15</th>\n",
       "      <td>242.166</td>\n",
       "      <td>251.270044</td>\n",
       "    </tr>\n",
       "    <tr>\n",
       "      <th>16</th>\n",
       "      <td>0.029</td>\n",
       "      <td>-22.215451</td>\n",
       "    </tr>\n",
       "    <tr>\n",
       "      <th>17</th>\n",
       "      <td>7.995</td>\n",
       "      <td>-14.427620</td>\n",
       "    </tr>\n",
       "    <tr>\n",
       "      <th>18</th>\n",
       "      <td>0.375</td>\n",
       "      <td>-21.728287</td>\n",
       "    </tr>\n",
       "    <tr>\n",
       "      <th>19</th>\n",
       "      <td>47.619</td>\n",
       "      <td>51.529899</td>\n",
       "    </tr>\n",
       "    <tr>\n",
       "      <th>20</th>\n",
       "      <td>0.638</td>\n",
       "      <td>-21.333017</td>\n",
       "    </tr>\n",
       "    <tr>\n",
       "      <th>21</th>\n",
       "      <td>0.308</td>\n",
       "      <td>-22.037957</td>\n",
       "    </tr>\n",
       "    <tr>\n",
       "      <th>22</th>\n",
       "      <td>0.311</td>\n",
       "      <td>-21.910816</td>\n",
       "    </tr>\n",
       "    <tr>\n",
       "      <th>23</th>\n",
       "      <td>8.094</td>\n",
       "      <td>-15.774560</td>\n",
       "    </tr>\n",
       "    <tr>\n",
       "      <th>24</th>\n",
       "      <td>72.556</td>\n",
       "      <td>73.632054</td>\n",
       "    </tr>\n",
       "    <tr>\n",
       "      <th>25</th>\n",
       "      <td>40.076</td>\n",
       "      <td>26.738396</td>\n",
       "    </tr>\n",
       "    <tr>\n",
       "      <th>26</th>\n",
       "      <td>140.786</td>\n",
       "      <td>112.945334</td>\n",
       "    </tr>\n",
       "    <tr>\n",
       "      <th>27</th>\n",
       "      <td>11.787</td>\n",
       "      <td>-8.098763</td>\n",
       "    </tr>\n",
       "    <tr>\n",
       "      <th>28</th>\n",
       "      <td>5528.871</td>\n",
       "      <td>6522.678968</td>\n",
       "    </tr>\n",
       "    <tr>\n",
       "      <th>29</th>\n",
       "      <td>101.766</td>\n",
       "      <td>83.573731</td>\n",
       "    </tr>\n",
       "  </tbody>\n",
       "</table>\n",
       "</div>"
      ],
      "text/plain": [
       "      Actual    Predicted\n",
       "0    260.111   246.109878\n",
       "1     10.635    -9.044391\n",
       "2      5.535   -11.406949\n",
       "3      0.007   -22.238614\n",
       "4    629.366   802.477475\n",
       "5    446.204   455.215159\n",
       "6      0.531   -21.768569\n",
       "7     64.160    77.157512\n",
       "8      1.033   -20.553050\n",
       "9      0.125   -22.078995\n",
       "10  2445.012  2229.009943\n",
       "11    10.818   -11.675078\n",
       "12    58.495    33.238955\n",
       "13   670.169   864.247898\n",
       "14     3.582    -4.621896\n",
       "15   242.166   251.270044\n",
       "16     0.029   -22.215451\n",
       "17     7.995   -14.427620\n",
       "18     0.375   -21.728287\n",
       "19    47.619    51.529899\n",
       "20     0.638   -21.333017\n",
       "21     0.308   -22.037957\n",
       "22     0.311   -21.910816\n",
       "23     8.094   -15.774560\n",
       "24    72.556    73.632054\n",
       "25    40.076    26.738396\n",
       "26   140.786   112.945334\n",
       "27    11.787    -8.098763\n",
       "28  5528.871  6522.678968\n",
       "29   101.766    83.573731"
      ]
     },
     "execution_count": 30,
     "metadata": {},
     "output_type": "execute_result"
    }
   ],
   "source": [
    "# Create a dataframe comparing the actual and predicted values of y.\n",
    "\n",
    "df_co2_new_comparison = pd.DataFrame({'Actual': y_test.flatten(), 'Predicted': y_predicted.flatten()})\n",
    "df_co2_new_comparison.head(30)"
   ]
  },
  {
   "cell_type": "markdown",
   "id": "6894d893",
   "metadata": {},
   "source": [
    "####  Looking at the results you can tell that something is definitely off. Whenever an actual value is very low (like under 10) the predicted value is negative. However, when it comes to values around 70, the predictions are more accurate. This means that the extreme values definitely skewed the results and there is a need to improve our regression analysis."
   ]
  },
  {
   "cell_type": "markdown",
   "id": "648d009a",
   "metadata": {},
   "source": [
    "# 6. Improving the regression"
   ]
  },
  {
   "cell_type": "markdown",
   "id": "3c3c49a2",
   "metadata": {},
   "source": [
    "## 6.1 Removing Outliers"
   ]
  },
  {
   "cell_type": "markdown",
   "id": "50a84f0d",
   "metadata": {},
   "source": [
    "#### We already know that there are some extreme values in our two variables. Therefore, I'm going to restrict the dataframe."
   ]
  },
  {
   "cell_type": "code",
   "execution_count": 31,
   "id": "6ff2b0c7",
   "metadata": {},
   "outputs": [],
   "source": [
    "# Remove extreme values\n",
    "\n",
    "df_co2_new_filter = df_co2_new[df_co2_new['co2'] <= 2000]"
   ]
  },
  {
   "cell_type": "code",
   "execution_count": 32,
   "id": "fd376c49",
   "metadata": {},
   "outputs": [
    {
     "name": "stderr",
     "output_type": "stream",
     "text": [
      "C:\\Users\\osoty\\AppData\\Local\\Temp\\ipykernel_5544\\985576367.py:3: UserWarning: \n",
      "\n",
      "`distplot` is a deprecated function and will be removed in seaborn v0.14.0.\n",
      "\n",
      "Please adapt your code to use either `displot` (a figure-level function with\n",
      "similar flexibility) or `histplot` (an axes-level function for histograms).\n",
      "\n",
      "For a guide to updating your code to use the new functions, please see\n",
      "https://gist.github.com/mwaskom/de44147ed2974457ad6372750bbe5751\n",
      "\n",
      "  sns.distplot(df_co2_new_filter['co2'], bins=25)\n"
     ]
    },
    {
     "data": {
      "text/plain": [
       "<AxesSubplot:xlabel='co2', ylabel='Density'>"
      ]
     },
     "execution_count": 32,
     "metadata": {},
     "output_type": "execute_result"
    },
    {
     "data": {
      "image/png": "[encoded data removed]",
      "text/plain": [
       "<Figure size 640x480 with 1 Axes>"
      ]
     },
     "metadata": {},
     "output_type": "display_data"
    }
   ],
   "source": [
    "# Check the distribution again\n",
    "\n",
    "sns.distplot(df_co2_new_filter['co2'], bins=25)"
   ]
  },
  {
   "cell_type": "markdown",
   "id": "6268ccad",
   "metadata": {},
   "source": [
    "#### This looks better. Let's check the size of our new dataframe."
   ]
  },
  {
   "cell_type": "code",
   "execution_count": 33,
   "id": "1ce7f399",
   "metadata": {},
   "outputs": [
    {
     "data": {
      "text/plain": [
       "(1803, 44)"
      ]
     },
     "execution_count": 33,
     "metadata": {},
     "output_type": "execute_result"
    }
   ],
   "source": [
    "# Check the size of the dataframe\n",
    "\n",
    "df_co2_new_filter.shape"
   ]
  },
  {
   "cell_type": "markdown",
   "id": "192043e5",
   "metadata": {},
   "source": [
    "#### This dataframe has 29 observations less and it looks like we successfully removed our outliers. The next step is to check the new distribution of the primary energy consumption variable as well."
   ]
  },
  {
   "cell_type": "code",
   "execution_count": 34,
   "id": "b0a7a903",
   "metadata": {},
   "outputs": [
    {
     "name": "stderr",
     "output_type": "stream",
     "text": [
      "C:\\Users\\osoty\\AppData\\Local\\Temp\\ipykernel_5544\\774227262.py:3: UserWarning: \n",
      "\n",
      "`distplot` is a deprecated function and will be removed in seaborn v0.14.0.\n",
      "\n",
      "Please adapt your code to use either `displot` (a figure-level function with\n",
      "similar flexibility) or `histplot` (an axes-level function for histograms).\n",
      "\n",
      "For a guide to updating your code to use the new functions, please see\n",
      "https://gist.github.com/mwaskom/de44147ed2974457ad6372750bbe5751\n",
      "\n",
      "  sns.distplot(df_co2_new_filter['primary_energy_consumption'], bins=25)\n"
     ]
    },
    {
     "data": {
      "text/plain": [
       "<AxesSubplot:xlabel='primary_energy_consumption', ylabel='Density'>"
      ]
     },
     "execution_count": 34,
     "metadata": {},
     "output_type": "execute_result"
    },
    {
     "data": {
      "image/png": "[encoded data removed]",
      "text/plain": [
       "<Figure size 640x480 with 1 Axes>"
      ]
     },
     "metadata": {},
     "output_type": "display_data"
    }
   ],
   "source": [
    "# Check the distribution again\n",
    "\n",
    "sns.distplot(df_co2_new_filter['primary_energy_consumption'], bins=25)"
   ]
  },
  {
   "cell_type": "markdown",
   "id": "8fec7af1",
   "metadata": {},
   "source": [
    "#### The distribution changed here as well and looks better now. Next I want to see what the scatterplot looks like after removing the outliers."
   ]
  },
  {
   "cell_type": "code",
   "execution_count": 35,
   "id": "fc72d275",
   "metadata": {},
   "outputs": [
    {
     "data": {
      "image/png": "[encoded data removed]",
      "text/plain": [
       "<Figure size 640x480 with 1 Axes>"
      ]
     },
     "metadata": {},
     "output_type": "display_data"
    }
   ],
   "source": [
    "# Create a new scatterplot after removing outliers\n",
    "\n",
    "df_co2_new_filter.plot(x = 'primary_energy_consumption', y = 'co2',style='o')\n",
    "plt.title('Relationship between Primary Energy Consumption and CO2 Emissions')  \n",
    "plt.xlabel('Primary Energy Consumption (terawatt-hours)')  \n",
    "plt.ylabel('CO2 Emissions (million tonnes)')  \n",
    "plt.show()"
   ]
  },
  {
   "cell_type": "markdown",
   "id": "a3c80813",
   "metadata": {},
   "source": [
    "#### This chart, despite having only 29 datapoints less, gives us a better understanding of the relationship between the two variables. Now it's time for a new regression."
   ]
  },
  {
   "cell_type": "markdown",
   "id": "04d56aba",
   "metadata": {},
   "source": [
    "## 6.2  Reshaping variables into NumPy arrays"
   ]
  },
  {
   "cell_type": "markdown",
   "id": "954cab5f",
   "metadata": {},
   "source": [
    "#### Let's continue with the same procedure as before starting with reshaping our variables."
   ]
  },
  {
   "cell_type": "code",
   "execution_count": 36,
   "id": "1249c152",
   "metadata": {},
   "outputs": [],
   "source": [
    "# Turn the variables into arrays\n",
    "\n",
    "X_2 = df_co2_new_filter['primary_energy_consumption'].values.reshape (-1, 1)\n",
    "y_2 = df_co2_new_filter['co2'].values.reshape (-1, 1)"
   ]
  },
  {
   "cell_type": "code",
   "execution_count": 37,
   "id": "6242ccec",
   "metadata": {},
   "outputs": [
    {
     "data": {
      "text/plain": [
       "array([[43.26 ],\n",
       "       [36.489],\n",
       "       [33.502],\n",
       "       ...,\n",
       "       [45.936],\n",
       "       [47.502],\n",
       "       [49.427]])"
      ]
     },
     "execution_count": 37,
     "metadata": {},
     "output_type": "execute_result"
    }
   ],
   "source": [
    "# Test the output\n",
    "\n",
    "X_2"
   ]
  },
  {
   "cell_type": "code",
   "execution_count": 38,
   "id": "2e448940",
   "metadata": {},
   "outputs": [
    {
     "data": {
      "text/plain": [
       "array([[10.035],\n",
       "       [ 9.251],\n",
       "       [ 9.17 ],\n",
       "       ...,\n",
       "       [ 9.596],\n",
       "       [11.795],\n",
       "       [11.115]])"
      ]
     },
     "execution_count": 38,
     "metadata": {},
     "output_type": "execute_result"
    }
   ],
   "source": [
    "# Test the output\n",
    "\n",
    "y_2"
   ]
  },
  {
   "cell_type": "markdown",
   "id": "80c61b0e",
   "metadata": {},
   "source": [
    "## 6.3 Splitting Data"
   ]
  },
  {
   "cell_type": "code",
   "execution_count": 39,
   "id": "9b6691b9",
   "metadata": {},
   "outputs": [],
   "source": [
    "# Split data into a train set and a test set\n",
    "\n",
    "X_train_2, X_test_2, y_train_2, y_test_2 = train_test_split(X_2, y_2, test_size=0.3, random_state=0)"
   ]
  },
  {
   "cell_type": "markdown",
   "id": "3af680f2",
   "metadata": {},
   "source": [
    "## 6.4 Creating and fitting the regression object"
   ]
  },
  {
   "cell_type": "code",
   "execution_count": 40,
   "id": "3c7f2c14",
   "metadata": {},
   "outputs": [],
   "source": [
    "# Create a regression object\n",
    "\n",
    "regression_2 = LinearRegression()"
   ]
  },
  {
   "cell_type": "markdown",
   "id": "ae42ef60",
   "metadata": {},
   "source": [
    "#### Next let's fill our object with the new train data."
   ]
  },
  {
   "cell_type": "code",
   "execution_count": 41,
   "id": "ebf7b1f7",
   "metadata": {},
   "outputs": [
    {
     "data": {
      "text/html": [
       "<style>#sk-container-id-2 {color: black;background-color: white;}#sk-container-id-2 pre{padding: 0;}#sk-container-id-2 div.sk-toggleable {background-color: white;}#sk-container-id-2 label.sk-toggleable__label {cursor: pointer;display: block;width: 100%;margin-bottom: 0;padding: 0.3em;box-sizing: border-box;text-align: center;}#sk-container-id-2 label.sk-toggleable__label-arrow:before {content: \"▸\";float: left;margin-right: 0.25em;color: #696969;}#sk-container-id-2 label.sk-toggleable__label-arrow:hover:before {color: black;}#sk-container-id-2 div.sk-estimator:hover label.sk-toggleable__label-arrow:before {color: black;}#sk-container-id-2 div.sk-toggleable__content {max-height: 0;max-width: 0;overflow: hidden;text-align: left;background-color: #f0f8ff;}#sk-container-id-2 div.sk-toggleable__content pre {margin: 0.2em;color: black;border-radius: 0.25em;background-color: #f0f8ff;}#sk-container-id-2 input.sk-toggleable__control:checked~div.sk-toggleable__content {max-height: 200px;max-width: 100%;overflow: auto;}#sk-container-id-2 input.sk-toggleable__control:checked~label.sk-toggleable__label-arrow:before {content: \"▾\";}#sk-container-id-2 div.sk-estimator input.sk-toggleable__control:checked~label.sk-toggleable__label {background-color: #d4ebff;}#sk-container-id-2 div.sk-label input.sk-toggleable__control:checked~label.sk-toggleable__label {background-color: #d4ebff;}#sk-container-id-2 input.sk-hidden--visually {border: 0;clip: rect(1px 1px 1px 1px);clip: rect(1px, 1px, 1px, 1px);height: 1px;margin: -1px;overflow: hidden;padding: 0;position: absolute;width: 1px;}#sk-container-id-2 div.sk-estimator {font-family: monospace;background-color: #f0f8ff;border: 1px dotted black;border-radius: 0.25em;box-sizing: border-box;margin-bottom: 0.5em;}#sk-container-id-2 div.sk-estimator:hover {background-color: #d4ebff;}#sk-container-id-2 div.sk-parallel-item::after {content: \"\";width: 100%;border-bottom: 1px solid gray;flex-grow: 1;}#sk-container-id-2 div.sk-label:hover label.sk-toggleable__label {background-color: #d4ebff;}#sk-container-id-2 div.sk-serial::before {content: \"\";position: absolute;border-left: 1px solid gray;box-sizing: border-box;top: 0;bottom: 0;left: 50%;z-index: 0;}#sk-container-id-2 div.sk-serial {display: flex;flex-direction: column;align-items: center;background-color: white;padding-right: 0.2em;padding-left: 0.2em;position: relative;}#sk-container-id-2 div.sk-item {position: relative;z-index: 1;}#sk-container-id-2 div.sk-parallel {display: flex;align-items: stretch;justify-content: center;background-color: white;position: relative;}#sk-container-id-2 div.sk-item::before, #sk-container-id-2 div.sk-parallel-item::before {content: \"\";position: absolute;border-left: 1px solid gray;box-sizing: border-box;top: 0;bottom: 0;left: 50%;z-index: -1;}#sk-container-id-2 div.sk-parallel-item {display: flex;flex-direction: column;z-index: 1;position: relative;background-color: white;}#sk-container-id-2 div.sk-parallel-item:first-child::after {align-self: flex-end;width: 50%;}#sk-container-id-2 div.sk-parallel-item:last-child::after {align-self: flex-start;width: 50%;}#sk-container-id-2 div.sk-parallel-item:only-child::after {width: 0;}#sk-container-id-2 div.sk-dashed-wrapped {border: 1px dashed gray;margin: 0 0.4em 0.5em 0.4em;box-sizing: border-box;padding-bottom: 0.4em;background-color: white;}#sk-container-id-2 div.sk-label label {font-family: monospace;font-weight: bold;display: inline-block;line-height: 1.2em;}#sk-container-id-2 div.sk-label-container {text-align: center;}#sk-container-id-2 div.sk-container {/* jupyter's `normalize.less` sets `[hidden] { display: none; }` but bootstrap.min.css set `[hidden] { display: none !important; }` so we also need the `!important` here to be able to override the default hidden behavior on the sphinx rendered scikit-learn.org. See: https://github.com/scikit-learn/scikit-learn/issues/21755 */display: inline-block !important;position: relative;}#sk-container-id-2 div.sk-text-repr-fallback {display: none;}</style><div id=\"sk-container-id-2\" class=\"sk-top-container\"><div class=\"sk-text-repr-fallback\"><pre>LinearRegression()</pre><b>In a Jupyter environment, please rerun this cell to show the HTML representation or trust the notebook. <br />On GitHub, the HTML representation is unable to render, please try loading this page with nbviewer.org.</b></div><div class=\"sk-container\" hidden><div class=\"sk-item\"><div class=\"sk-estimator sk-toggleable\"><input class=\"sk-toggleable__control sk-hidden--visually\" id=\"sk-estimator-id-2\" type=\"checkbox\" checked><label for=\"sk-estimator-id-2\" class=\"sk-toggleable__label sk-toggleable__label-arrow\">LinearRegression</label><div class=\"sk-toggleable__content\"><pre>LinearRegression()</pre></div></div></div></div></div>"
      ],
      "text/plain": [
       "LinearRegression()"
      ]
     },
     "execution_count": 41,
     "metadata": {},
     "output_type": "execute_result"
    }
   ],
   "source": [
    "# Fill the regression object\n",
    "\n",
    "regression_2.fit(X_train_2, y_train_2)"
   ]
  },
  {
   "cell_type": "markdown",
   "id": "3446c6e1",
   "metadata": {},
   "source": [
    "## 6.5 Testing Predictions"
   ]
  },
  {
   "cell_type": "code",
   "execution_count": 42,
   "id": "b495a088",
   "metadata": {},
   "outputs": [],
   "source": [
    "# Create predictions based on X values from test set\n",
    "\n",
    "y_predicted_2 = regression_2.predict(X_test_2)"
   ]
  },
  {
   "cell_type": "markdown",
   "id": "fab2a40a",
   "metadata": {},
   "source": [
    "#### Let's create the new scatterplot with the new regression line."
   ]
  },
  {
   "cell_type": "code",
   "execution_count": 43,
   "id": "67224530",
   "metadata": {},
   "outputs": [
    {
     "data": {
      "image/png": "[encoded data removed]",
      "text/plain": [
       "<Figure size 640x480 with 1 Axes>"
      ]
     },
     "metadata": {},
     "output_type": "display_data"
    }
   ],
   "source": [
    "# Create a plot that shows the regression line from the model on the test set.\n",
    "\n",
    "plot_test_2 = plt\n",
    "plot_test_2.scatter(X_test_2, y_test_2, color='grey', s = 15)\n",
    "plot_test_2.plot(X_test_2, y_predicted_2, color='red', linewidth =3)\n",
    "plot_test_2.title('Relationship between Primary Energy Consumption and CO2 Emissions (Test set)')\n",
    "plot_test_2.xlabel('Primary Energy Consumption (terawatt-hours)')\n",
    "plot_test_2.ylabel('CO2 emissions (million tonnes)')\n",
    "plot_test_2.show()"
   ]
  },
  {
   "cell_type": "markdown",
   "id": "2adc4e30",
   "metadata": {},
   "source": [
    "#### When looking at the plot, you can see that the accuracy of our new model should be higher. All datapoints except for one at the very top are relatively close to the regression line. Let's take a look at the summary statistics to back this up."
   ]
  },
  {
   "cell_type": "markdown",
   "id": "06cefe18",
   "metadata": {},
   "source": [
    "## 6.6 Summary Statistics"
   ]
  },
  {
   "cell_type": "code",
   "execution_count": 44,
   "id": "ab26a746",
   "metadata": {},
   "outputs": [],
   "source": [
    "# Create objects for mean squared error and r squared value.\n",
    "\n",
    "rmse_2 = mean_squared_error(y_test_2, y_predicted_2)\n",
    "r2_2 = r2_score(y_test_2, y_predicted_2)"
   ]
  },
  {
   "cell_type": "code",
   "execution_count": 45,
   "id": "d8bf2aa3",
   "metadata": {},
   "outputs": [
    {
     "name": "stdout",
     "output_type": "stream",
     "text": [
      "Slope: [[0.20142454]]\n",
      "Mean squared error:  2270.3749329637476\n",
      "R squared score:  0.9442338356628369\n"
     ]
    }
   ],
   "source": [
    "# Print the content\n",
    "\n",
    "print('Slope:' ,regression_2.coef_)\n",
    "print('Mean squared error: ', rmse_2)\n",
    "print('R squared score: ', r2_2)"
   ]
  },
  {
   "cell_type": "markdown",
   "id": "dd45e2a7",
   "metadata": {},
   "source": [
    "* The slope decreased a little bit, but still indicates a positive relationship.\n",
    "* The mean squared error decreased drastically, so we can say our new model is definitely more accurate than the previous.\n",
    "* The R squared value is a little lower than before, but still indicates a strong relationship between the two variables."
   ]
  },
  {
   "cell_type": "markdown",
   "id": "411e7147",
   "metadata": {},
   "source": [
    "## 6.7 Comparing actual values and predicted values"
   ]
  },
  {
   "cell_type": "code",
   "execution_count": 46,
   "id": "004079b2",
   "metadata": {},
   "outputs": [
    {
     "data": {
      "text/html": [
       "<div>\n",
       "<style scoped>\n",
       "    .dataframe tbody tr th:only-of-type {\n",
       "        vertical-align: middle;\n",
       "    }\n",
       "\n",
       "    .dataframe tbody tr th {\n",
       "        vertical-align: top;\n",
       "    }\n",
       "\n",
       "    .dataframe thead th {\n",
       "        text-align: right;\n",
       "    }\n",
       "</style>\n",
       "<table border=\"1\" class=\"dataframe\">\n",
       "  <thead>\n",
       "    <tr style=\"text-align: right;\">\n",
       "      <th></th>\n",
       "      <th>Actual</th>\n",
       "      <th>Predicted</th>\n",
       "    </tr>\n",
       "  </thead>\n",
       "  <tbody>\n",
       "    <tr>\n",
       "      <th>0</th>\n",
       "      <td>0.621</td>\n",
       "      <td>1.088410</td>\n",
       "    </tr>\n",
       "    <tr>\n",
       "      <th>1</th>\n",
       "      <td>568.223</td>\n",
       "      <td>788.093146</td>\n",
       "    </tr>\n",
       "    <tr>\n",
       "      <th>2</th>\n",
       "      <td>251.453</td>\n",
       "      <td>148.972088</td>\n",
       "    </tr>\n",
       "    <tr>\n",
       "      <th>3</th>\n",
       "      <td>40.328</td>\n",
       "      <td>40.530960</td>\n",
       "    </tr>\n",
       "    <tr>\n",
       "      <th>4</th>\n",
       "      <td>4.566</td>\n",
       "      <td>4.554121</td>\n",
       "    </tr>\n",
       "    <tr>\n",
       "      <th>5</th>\n",
       "      <td>0.623</td>\n",
       "      <td>1.370203</td>\n",
       "    </tr>\n",
       "    <tr>\n",
       "      <th>6</th>\n",
       "      <td>201.372</td>\n",
       "      <td>216.980263</td>\n",
       "    </tr>\n",
       "    <tr>\n",
       "      <th>7</th>\n",
       "      <td>0.725</td>\n",
       "      <td>1.420962</td>\n",
       "    </tr>\n",
       "    <tr>\n",
       "      <th>8</th>\n",
       "      <td>1.349</td>\n",
       "      <td>4.182492</td>\n",
       "    </tr>\n",
       "    <tr>\n",
       "      <th>9</th>\n",
       "      <td>151.525</td>\n",
       "      <td>152.049452</td>\n",
       "    </tr>\n",
       "    <tr>\n",
       "      <th>10</th>\n",
       "      <td>4.873</td>\n",
       "      <td>4.497722</td>\n",
       "    </tr>\n",
       "    <tr>\n",
       "      <th>11</th>\n",
       "      <td>21.242</td>\n",
       "      <td>18.542450</td>\n",
       "    </tr>\n",
       "    <tr>\n",
       "      <th>12</th>\n",
       "      <td>3.485</td>\n",
       "      <td>13.006095</td>\n",
       "    </tr>\n",
       "    <tr>\n",
       "      <th>13</th>\n",
       "      <td>235.702</td>\n",
       "      <td>225.086996</td>\n",
       "    </tr>\n",
       "    <tr>\n",
       "      <th>14</th>\n",
       "      <td>5.458</td>\n",
       "      <td>27.474017</td>\n",
       "    </tr>\n",
       "    <tr>\n",
       "      <th>15</th>\n",
       "      <td>10.818</td>\n",
       "      <td>9.087784</td>\n",
       "    </tr>\n",
       "    <tr>\n",
       "      <th>16</th>\n",
       "      <td>3.099</td>\n",
       "      <td>3.751242</td>\n",
       "    </tr>\n",
       "    <tr>\n",
       "      <th>17</th>\n",
       "      <td>0.198</td>\n",
       "      <td>0.933716</td>\n",
       "    </tr>\n",
       "    <tr>\n",
       "      <th>18</th>\n",
       "      <td>4.536</td>\n",
       "      <td>6.051309</td>\n",
       "    </tr>\n",
       "    <tr>\n",
       "      <th>19</th>\n",
       "      <td>1624.756</td>\n",
       "      <td>1622.848791</td>\n",
       "    </tr>\n",
       "    <tr>\n",
       "      <th>20</th>\n",
       "      <td>101.766</td>\n",
       "      <td>85.291721</td>\n",
       "    </tr>\n",
       "    <tr>\n",
       "      <th>21</th>\n",
       "      <td>256.140</td>\n",
       "      <td>211.660439</td>\n",
       "    </tr>\n",
       "    <tr>\n",
       "      <th>22</th>\n",
       "      <td>2.169</td>\n",
       "      <td>2.531214</td>\n",
       "    </tr>\n",
       "    <tr>\n",
       "      <th>23</th>\n",
       "      <td>435.237</td>\n",
       "      <td>287.411977</td>\n",
       "    </tr>\n",
       "    <tr>\n",
       "      <th>24</th>\n",
       "      <td>7.995</td>\n",
       "      <td>6.885609</td>\n",
       "    </tr>\n",
       "    <tr>\n",
       "      <th>25</th>\n",
       "      <td>6.952</td>\n",
       "      <td>6.329275</td>\n",
       "    </tr>\n",
       "    <tr>\n",
       "      <th>26</th>\n",
       "      <td>211.419</td>\n",
       "      <td>195.638125</td>\n",
       "    </tr>\n",
       "    <tr>\n",
       "      <th>27</th>\n",
       "      <td>8.054</td>\n",
       "      <td>14.008585</td>\n",
       "    </tr>\n",
       "    <tr>\n",
       "      <th>28</th>\n",
       "      <td>501.569</td>\n",
       "      <td>433.226824</td>\n",
       "    </tr>\n",
       "    <tr>\n",
       "      <th>29</th>\n",
       "      <td>8.244</td>\n",
       "      <td>26.735595</td>\n",
       "    </tr>\n",
       "  </tbody>\n",
       "</table>\n",
       "</div>"
      ],
      "text/plain": [
       "      Actual    Predicted\n",
       "0      0.621     1.088410\n",
       "1    568.223   788.093146\n",
       "2    251.453   148.972088\n",
       "3     40.328    40.530960\n",
       "4      4.566     4.554121\n",
       "5      0.623     1.370203\n",
       "6    201.372   216.980263\n",
       "7      0.725     1.420962\n",
       "8      1.349     4.182492\n",
       "9    151.525   152.049452\n",
       "10     4.873     4.497722\n",
       "11    21.242    18.542450\n",
       "12     3.485    13.006095\n",
       "13   235.702   225.086996\n",
       "14     5.458    27.474017\n",
       "15    10.818     9.087784\n",
       "16     3.099     3.751242\n",
       "17     0.198     0.933716\n",
       "18     4.536     6.051309\n",
       "19  1624.756  1622.848791\n",
       "20   101.766    85.291721\n",
       "21   256.140   211.660439\n",
       "22     2.169     2.531214\n",
       "23   435.237   287.411977\n",
       "24     7.995     6.885609\n",
       "25     6.952     6.329275\n",
       "26   211.419   195.638125\n",
       "27     8.054    14.008585\n",
       "28   501.569   433.226824\n",
       "29     8.244    26.735595"
      ]
     },
     "execution_count": 46,
     "metadata": {},
     "output_type": "execute_result"
    }
   ],
   "source": [
    "df_co2_new_comparison_2 = pd.DataFrame({'Actual': y_test_2.flatten(), 'Predicted': y_predicted_2.flatten()})\n",
    "df_co2_new_comparison_2.head(30)"
   ]
  },
  {
   "cell_type": "markdown",
   "id": "81451736",
   "metadata": {},
   "source": [
    "#### Looking at the results you can see that our predictions are much more accurate now and all the negative values are gone.There is still some margin of error, but is a huge improvement compared to our first regression. Some predictions are actually very close to the actual value (see for example index 3, 4 or 9)."
   ]
  },
  {
   "cell_type": "markdown",
   "id": "65e6b572",
   "metadata": {},
   "source": [
    "# 7. Conclusions"
   ]
  },
  {
   "cell_type": "markdown",
   "id": "e5216a0a",
   "metadata": {},
   "source": [
    "In conclusion, in my opinion this model is a good fit that can back up my research hypothesis:\n",
    "\n",
    "The higher the primary energy consumption, the higher the CO2 emissions.\n",
    "\n",
    "According to the data, this is partially true, at least in certain conditions.\n",
    "While this model can be applied to the majority of data included in the dataframe, it isn't a good fit when it comes to extreme values.\n",
    "Based on the results, primary energy consumption may not be the only variable influencing CO2 emissions, but it surely plays some part in it.\n",
    "\n",
    "I don't see many potential biases in here. One problem though is that the dataset after all the cleaning steps has less than 2.000 observations left and for a regression ananlysis it is best to have at least 5.000 observations. Unfortunately, the dataset had a lot of missing values which needed to be removed before the analysis. \n",
    "Another potential bias is the removal of the extreme values since we can't just pretend they don't exist. They were removed for the sake of the analysis but I should investigate further why these values are so different from the values registered in the majority of all other countries."
   ]
  },
  {
   "cell_type": "markdown",
   "id": "20944fe3",
   "metadata": {},
   "source": [
    "# 8. Regression Analysis for the full dataframe (all years included)"
   ]
  },
  {
   "cell_type": "markdown",
   "id": "a13e70e1",
   "metadata": {},
   "source": [
    "#### Back in script 6.1 after the cleaning steps I created two different dataframes for CO2 emissions: a shorter one that includes only the last 10 years (df_co2_recent) and another one that includes all the years reported (df_co2). In the first part of this script I did the regression analysis for the shorter dataframe (last 10 years), but since this dataframe contains less than 5.000 observations which is not ideal for predictive analysis, I'm also going to perform the regression analysis on the full dataframe (all years included) since this dataframe has more observations."
   ]
  },
  {
   "cell_type": "markdown",
   "id": "9712522b",
   "metadata": {},
   "source": [
    "## 8.1 Importing the full Dataframe (all years included)"
   ]
  },
  {
   "cell_type": "code",
   "execution_count": 47,
   "id": "f45bb3a1",
   "metadata": {},
   "outputs": [],
   "source": [
    "# Import the dataframe which includes oberservations for all years reported\n",
    "\n",
    "df_co2_full = pd.read_pickle(os.path.join(path, '02. Data', 'Prepared Data', 'emissions_clean.pkl'))"
   ]
  },
  {
   "cell_type": "code",
   "execution_count": 48,
   "id": "14f50717",
   "metadata": {},
   "outputs": [
    {
     "data": {
      "text/html": [
       "<div>\n",
       "<style scoped>\n",
       "    .dataframe tbody tr th:only-of-type {\n",
       "        vertical-align: middle;\n",
       "    }\n",
       "\n",
       "    .dataframe tbody tr th {\n",
       "        vertical-align: top;\n",
       "    }\n",
       "\n",
       "    .dataframe thead th {\n",
       "        text-align: right;\n",
       "    }\n",
       "</style>\n",
       "<table border=\"1\" class=\"dataframe\">\n",
       "  <thead>\n",
       "    <tr style=\"text-align: right;\">\n",
       "      <th></th>\n",
       "      <th>country</th>\n",
       "      <th>year</th>\n",
       "      <th>iso_code</th>\n",
       "      <th>population</th>\n",
       "      <th>gdp</th>\n",
       "      <th>cement_co2</th>\n",
       "      <th>cement_co2_per_capita</th>\n",
       "      <th>co2</th>\n",
       "      <th>co2_growth_abs</th>\n",
       "      <th>co2_growth_prct</th>\n",
       "      <th>...</th>\n",
       "      <th>share_global_coal_co2</th>\n",
       "      <th>share_global_cumulative_cement_co2</th>\n",
       "      <th>share_global_cumulative_co2</th>\n",
       "      <th>share_global_cumulative_coal_co2</th>\n",
       "      <th>share_global_cumulative_flaring_co2</th>\n",
       "      <th>share_global_cumulative_gas_co2</th>\n",
       "      <th>share_global_cumulative_oil_co2</th>\n",
       "      <th>share_global_flaring_co2</th>\n",
       "      <th>share_global_gas_co2</th>\n",
       "      <th>share_global_oil_co2</th>\n",
       "    </tr>\n",
       "  </thead>\n",
       "  <tbody>\n",
       "    <tr>\n",
       "      <th>0</th>\n",
       "      <td>Afghanistan</td>\n",
       "      <td>1850</td>\n",
       "      <td>AFG</td>\n",
       "      <td>3752993.0</td>\n",
       "      <td>NaN</td>\n",
       "      <td>NaN</td>\n",
       "      <td>NaN</td>\n",
       "      <td>NaN</td>\n",
       "      <td>NaN</td>\n",
       "      <td>NaN</td>\n",
       "      <td>...</td>\n",
       "      <td>NaN</td>\n",
       "      <td>NaN</td>\n",
       "      <td>NaN</td>\n",
       "      <td>NaN</td>\n",
       "      <td>NaN</td>\n",
       "      <td>NaN</td>\n",
       "      <td>NaN</td>\n",
       "      <td>NaN</td>\n",
       "      <td>NaN</td>\n",
       "      <td>NaN</td>\n",
       "    </tr>\n",
       "    <tr>\n",
       "      <th>1</th>\n",
       "      <td>Afghanistan</td>\n",
       "      <td>1851</td>\n",
       "      <td>AFG</td>\n",
       "      <td>3769828.0</td>\n",
       "      <td>NaN</td>\n",
       "      <td>NaN</td>\n",
       "      <td>NaN</td>\n",
       "      <td>NaN</td>\n",
       "      <td>NaN</td>\n",
       "      <td>NaN</td>\n",
       "      <td>...</td>\n",
       "      <td>NaN</td>\n",
       "      <td>NaN</td>\n",
       "      <td>NaN</td>\n",
       "      <td>NaN</td>\n",
       "      <td>NaN</td>\n",
       "      <td>NaN</td>\n",
       "      <td>NaN</td>\n",
       "      <td>NaN</td>\n",
       "      <td>NaN</td>\n",
       "      <td>NaN</td>\n",
       "    </tr>\n",
       "    <tr>\n",
       "      <th>2</th>\n",
       "      <td>Afghanistan</td>\n",
       "      <td>1852</td>\n",
       "      <td>AFG</td>\n",
       "      <td>3787706.0</td>\n",
       "      <td>NaN</td>\n",
       "      <td>NaN</td>\n",
       "      <td>NaN</td>\n",
       "      <td>NaN</td>\n",
       "      <td>NaN</td>\n",
       "      <td>NaN</td>\n",
       "      <td>...</td>\n",
       "      <td>NaN</td>\n",
       "      <td>NaN</td>\n",
       "      <td>NaN</td>\n",
       "      <td>NaN</td>\n",
       "      <td>NaN</td>\n",
       "      <td>NaN</td>\n",
       "      <td>NaN</td>\n",
       "      <td>NaN</td>\n",
       "      <td>NaN</td>\n",
       "      <td>NaN</td>\n",
       "    </tr>\n",
       "    <tr>\n",
       "      <th>3</th>\n",
       "      <td>Afghanistan</td>\n",
       "      <td>1853</td>\n",
       "      <td>AFG</td>\n",
       "      <td>3806634.0</td>\n",
       "      <td>NaN</td>\n",
       "      <td>NaN</td>\n",
       "      <td>NaN</td>\n",
       "      <td>NaN</td>\n",
       "      <td>NaN</td>\n",
       "      <td>NaN</td>\n",
       "      <td>...</td>\n",
       "      <td>NaN</td>\n",
       "      <td>NaN</td>\n",
       "      <td>NaN</td>\n",
       "      <td>NaN</td>\n",
       "      <td>NaN</td>\n",
       "      <td>NaN</td>\n",
       "      <td>NaN</td>\n",
       "      <td>NaN</td>\n",
       "      <td>NaN</td>\n",
       "      <td>NaN</td>\n",
       "    </tr>\n",
       "    <tr>\n",
       "      <th>4</th>\n",
       "      <td>Afghanistan</td>\n",
       "      <td>1854</td>\n",
       "      <td>AFG</td>\n",
       "      <td>3825655.0</td>\n",
       "      <td>NaN</td>\n",
       "      <td>NaN</td>\n",
       "      <td>NaN</td>\n",
       "      <td>NaN</td>\n",
       "      <td>NaN</td>\n",
       "      <td>NaN</td>\n",
       "      <td>...</td>\n",
       "      <td>NaN</td>\n",
       "      <td>NaN</td>\n",
       "      <td>NaN</td>\n",
       "      <td>NaN</td>\n",
       "      <td>NaN</td>\n",
       "      <td>NaN</td>\n",
       "      <td>NaN</td>\n",
       "      <td>NaN</td>\n",
       "      <td>NaN</td>\n",
       "      <td>NaN</td>\n",
       "    </tr>\n",
       "    <tr>\n",
       "      <th>5</th>\n",
       "      <td>Afghanistan</td>\n",
       "      <td>1855</td>\n",
       "      <td>AFG</td>\n",
       "      <td>3844769.0</td>\n",
       "      <td>NaN</td>\n",
       "      <td>NaN</td>\n",
       "      <td>NaN</td>\n",
       "      <td>NaN</td>\n",
       "      <td>NaN</td>\n",
       "      <td>NaN</td>\n",
       "      <td>...</td>\n",
       "      <td>NaN</td>\n",
       "      <td>NaN</td>\n",
       "      <td>NaN</td>\n",
       "      <td>NaN</td>\n",
       "      <td>NaN</td>\n",
       "      <td>NaN</td>\n",
       "      <td>NaN</td>\n",
       "      <td>NaN</td>\n",
       "      <td>NaN</td>\n",
       "      <td>NaN</td>\n",
       "    </tr>\n",
       "    <tr>\n",
       "      <th>6</th>\n",
       "      <td>Afghanistan</td>\n",
       "      <td>1856</td>\n",
       "      <td>AFG</td>\n",
       "      <td>3863976.0</td>\n",
       "      <td>NaN</td>\n",
       "      <td>NaN</td>\n",
       "      <td>NaN</td>\n",
       "      <td>NaN</td>\n",
       "      <td>NaN</td>\n",
       "      <td>NaN</td>\n",
       "      <td>...</td>\n",
       "      <td>NaN</td>\n",
       "      <td>NaN</td>\n",
       "      <td>NaN</td>\n",
       "      <td>NaN</td>\n",
       "      <td>NaN</td>\n",
       "      <td>NaN</td>\n",
       "      <td>NaN</td>\n",
       "      <td>NaN</td>\n",
       "      <td>NaN</td>\n",
       "      <td>NaN</td>\n",
       "    </tr>\n",
       "    <tr>\n",
       "      <th>7</th>\n",
       "      <td>Afghanistan</td>\n",
       "      <td>1857</td>\n",
       "      <td>AFG</td>\n",
       "      <td>3883276.0</td>\n",
       "      <td>NaN</td>\n",
       "      <td>NaN</td>\n",
       "      <td>NaN</td>\n",
       "      <td>NaN</td>\n",
       "      <td>NaN</td>\n",
       "      <td>NaN</td>\n",
       "      <td>...</td>\n",
       "      <td>NaN</td>\n",
       "      <td>NaN</td>\n",
       "      <td>NaN</td>\n",
       "      <td>NaN</td>\n",
       "      <td>NaN</td>\n",
       "      <td>NaN</td>\n",
       "      <td>NaN</td>\n",
       "      <td>NaN</td>\n",
       "      <td>NaN</td>\n",
       "      <td>NaN</td>\n",
       "    </tr>\n",
       "    <tr>\n",
       "      <th>8</th>\n",
       "      <td>Afghanistan</td>\n",
       "      <td>1858</td>\n",
       "      <td>AFG</td>\n",
       "      <td>3902671.0</td>\n",
       "      <td>NaN</td>\n",
       "      <td>NaN</td>\n",
       "      <td>NaN</td>\n",
       "      <td>NaN</td>\n",
       "      <td>NaN</td>\n",
       "      <td>NaN</td>\n",
       "      <td>...</td>\n",
       "      <td>NaN</td>\n",
       "      <td>NaN</td>\n",
       "      <td>NaN</td>\n",
       "      <td>NaN</td>\n",
       "      <td>NaN</td>\n",
       "      <td>NaN</td>\n",
       "      <td>NaN</td>\n",
       "      <td>NaN</td>\n",
       "      <td>NaN</td>\n",
       "      <td>NaN</td>\n",
       "    </tr>\n",
       "    <tr>\n",
       "      <th>9</th>\n",
       "      <td>Afghanistan</td>\n",
       "      <td>1859</td>\n",
       "      <td>AFG</td>\n",
       "      <td>3922160.0</td>\n",
       "      <td>NaN</td>\n",
       "      <td>NaN</td>\n",
       "      <td>NaN</td>\n",
       "      <td>NaN</td>\n",
       "      <td>NaN</td>\n",
       "      <td>NaN</td>\n",
       "      <td>...</td>\n",
       "      <td>NaN</td>\n",
       "      <td>NaN</td>\n",
       "      <td>NaN</td>\n",
       "      <td>NaN</td>\n",
       "      <td>NaN</td>\n",
       "      <td>NaN</td>\n",
       "      <td>NaN</td>\n",
       "      <td>NaN</td>\n",
       "      <td>NaN</td>\n",
       "      <td>NaN</td>\n",
       "    </tr>\n",
       "    <tr>\n",
       "      <th>10</th>\n",
       "      <td>Afghanistan</td>\n",
       "      <td>1860</td>\n",
       "      <td>AFG</td>\n",
       "      <td>3941745.0</td>\n",
       "      <td>NaN</td>\n",
       "      <td>NaN</td>\n",
       "      <td>NaN</td>\n",
       "      <td>NaN</td>\n",
       "      <td>NaN</td>\n",
       "      <td>NaN</td>\n",
       "      <td>...</td>\n",
       "      <td>NaN</td>\n",
       "      <td>NaN</td>\n",
       "      <td>NaN</td>\n",
       "      <td>NaN</td>\n",
       "      <td>NaN</td>\n",
       "      <td>NaN</td>\n",
       "      <td>NaN</td>\n",
       "      <td>NaN</td>\n",
       "      <td>NaN</td>\n",
       "      <td>NaN</td>\n",
       "    </tr>\n",
       "    <tr>\n",
       "      <th>11</th>\n",
       "      <td>Afghanistan</td>\n",
       "      <td>1861</td>\n",
       "      <td>AFG</td>\n",
       "      <td>3961424.0</td>\n",
       "      <td>NaN</td>\n",
       "      <td>NaN</td>\n",
       "      <td>NaN</td>\n",
       "      <td>NaN</td>\n",
       "      <td>NaN</td>\n",
       "      <td>NaN</td>\n",
       "      <td>...</td>\n",
       "      <td>NaN</td>\n",
       "      <td>NaN</td>\n",
       "      <td>NaN</td>\n",
       "      <td>NaN</td>\n",
       "      <td>NaN</td>\n",
       "      <td>NaN</td>\n",
       "      <td>NaN</td>\n",
       "      <td>NaN</td>\n",
       "      <td>NaN</td>\n",
       "      <td>NaN</td>\n",
       "    </tr>\n",
       "    <tr>\n",
       "      <th>12</th>\n",
       "      <td>Afghanistan</td>\n",
       "      <td>1862</td>\n",
       "      <td>AFG</td>\n",
       "      <td>3981200.0</td>\n",
       "      <td>NaN</td>\n",
       "      <td>NaN</td>\n",
       "      <td>NaN</td>\n",
       "      <td>NaN</td>\n",
       "      <td>NaN</td>\n",
       "      <td>NaN</td>\n",
       "      <td>...</td>\n",
       "      <td>NaN</td>\n",
       "      <td>NaN</td>\n",
       "      <td>NaN</td>\n",
       "      <td>NaN</td>\n",
       "      <td>NaN</td>\n",
       "      <td>NaN</td>\n",
       "      <td>NaN</td>\n",
       "      <td>NaN</td>\n",
       "      <td>NaN</td>\n",
       "      <td>NaN</td>\n",
       "    </tr>\n",
       "    <tr>\n",
       "      <th>13</th>\n",
       "      <td>Afghanistan</td>\n",
       "      <td>1863</td>\n",
       "      <td>AFG</td>\n",
       "      <td>4001072.0</td>\n",
       "      <td>NaN</td>\n",
       "      <td>NaN</td>\n",
       "      <td>NaN</td>\n",
       "      <td>NaN</td>\n",
       "      <td>NaN</td>\n",
       "      <td>NaN</td>\n",
       "      <td>...</td>\n",
       "      <td>NaN</td>\n",
       "      <td>NaN</td>\n",
       "      <td>NaN</td>\n",
       "      <td>NaN</td>\n",
       "      <td>NaN</td>\n",
       "      <td>NaN</td>\n",
       "      <td>NaN</td>\n",
       "      <td>NaN</td>\n",
       "      <td>NaN</td>\n",
       "      <td>NaN</td>\n",
       "    </tr>\n",
       "    <tr>\n",
       "      <th>14</th>\n",
       "      <td>Afghanistan</td>\n",
       "      <td>1864</td>\n",
       "      <td>AFG</td>\n",
       "      <td>4021041.0</td>\n",
       "      <td>NaN</td>\n",
       "      <td>NaN</td>\n",
       "      <td>NaN</td>\n",
       "      <td>NaN</td>\n",
       "      <td>NaN</td>\n",
       "      <td>NaN</td>\n",
       "      <td>...</td>\n",
       "      <td>NaN</td>\n",
       "      <td>NaN</td>\n",
       "      <td>NaN</td>\n",
       "      <td>NaN</td>\n",
       "      <td>NaN</td>\n",
       "      <td>NaN</td>\n",
       "      <td>NaN</td>\n",
       "      <td>NaN</td>\n",
       "      <td>NaN</td>\n",
       "      <td>NaN</td>\n",
       "    </tr>\n",
       "    <tr>\n",
       "      <th>15</th>\n",
       "      <td>Afghanistan</td>\n",
       "      <td>1865</td>\n",
       "      <td>AFG</td>\n",
       "      <td>4041107.0</td>\n",
       "      <td>NaN</td>\n",
       "      <td>NaN</td>\n",
       "      <td>NaN</td>\n",
       "      <td>NaN</td>\n",
       "      <td>NaN</td>\n",
       "      <td>NaN</td>\n",
       "      <td>...</td>\n",
       "      <td>NaN</td>\n",
       "      <td>NaN</td>\n",
       "      <td>NaN</td>\n",
       "      <td>NaN</td>\n",
       "      <td>NaN</td>\n",
       "      <td>NaN</td>\n",
       "      <td>NaN</td>\n",
       "      <td>NaN</td>\n",
       "      <td>NaN</td>\n",
       "      <td>NaN</td>\n",
       "    </tr>\n",
       "    <tr>\n",
       "      <th>16</th>\n",
       "      <td>Afghanistan</td>\n",
       "      <td>1866</td>\n",
       "      <td>AFG</td>\n",
       "      <td>4061270.0</td>\n",
       "      <td>NaN</td>\n",
       "      <td>NaN</td>\n",
       "      <td>NaN</td>\n",
       "      <td>NaN</td>\n",
       "      <td>NaN</td>\n",
       "      <td>NaN</td>\n",
       "      <td>...</td>\n",
       "      <td>NaN</td>\n",
       "      <td>NaN</td>\n",
       "      <td>NaN</td>\n",
       "      <td>NaN</td>\n",
       "      <td>NaN</td>\n",
       "      <td>NaN</td>\n",
       "      <td>NaN</td>\n",
       "      <td>NaN</td>\n",
       "      <td>NaN</td>\n",
       "      <td>NaN</td>\n",
       "    </tr>\n",
       "    <tr>\n",
       "      <th>17</th>\n",
       "      <td>Afghanistan</td>\n",
       "      <td>1867</td>\n",
       "      <td>AFG</td>\n",
       "      <td>4081532.0</td>\n",
       "      <td>NaN</td>\n",
       "      <td>NaN</td>\n",
       "      <td>NaN</td>\n",
       "      <td>NaN</td>\n",
       "      <td>NaN</td>\n",
       "      <td>NaN</td>\n",
       "      <td>...</td>\n",
       "      <td>NaN</td>\n",
       "      <td>NaN</td>\n",
       "      <td>NaN</td>\n",
       "      <td>NaN</td>\n",
       "      <td>NaN</td>\n",
       "      <td>NaN</td>\n",
       "      <td>NaN</td>\n",
       "      <td>NaN</td>\n",
       "      <td>NaN</td>\n",
       "      <td>NaN</td>\n",
       "    </tr>\n",
       "    <tr>\n",
       "      <th>18</th>\n",
       "      <td>Afghanistan</td>\n",
       "      <td>1868</td>\n",
       "      <td>AFG</td>\n",
       "      <td>4101893.0</td>\n",
       "      <td>NaN</td>\n",
       "      <td>NaN</td>\n",
       "      <td>NaN</td>\n",
       "      <td>NaN</td>\n",
       "      <td>NaN</td>\n",
       "      <td>NaN</td>\n",
       "      <td>...</td>\n",
       "      <td>NaN</td>\n",
       "      <td>NaN</td>\n",
       "      <td>NaN</td>\n",
       "      <td>NaN</td>\n",
       "      <td>NaN</td>\n",
       "      <td>NaN</td>\n",
       "      <td>NaN</td>\n",
       "      <td>NaN</td>\n",
       "      <td>NaN</td>\n",
       "      <td>NaN</td>\n",
       "    </tr>\n",
       "    <tr>\n",
       "      <th>19</th>\n",
       "      <td>Afghanistan</td>\n",
       "      <td>1869</td>\n",
       "      <td>AFG</td>\n",
       "      <td>4122358.0</td>\n",
       "      <td>NaN</td>\n",
       "      <td>NaN</td>\n",
       "      <td>NaN</td>\n",
       "      <td>NaN</td>\n",
       "      <td>NaN</td>\n",
       "      <td>NaN</td>\n",
       "      <td>...</td>\n",
       "      <td>NaN</td>\n",
       "      <td>NaN</td>\n",
       "      <td>NaN</td>\n",
       "      <td>NaN</td>\n",
       "      <td>NaN</td>\n",
       "      <td>NaN</td>\n",
       "      <td>NaN</td>\n",
       "      <td>NaN</td>\n",
       "      <td>NaN</td>\n",
       "      <td>NaN</td>\n",
       "    </tr>\n",
       "  </tbody>\n",
       "</table>\n",
       "<p>20 rows × 41 columns</p>\n",
       "</div>"
      ],
      "text/plain": [
       "        country  year iso_code  population  gdp  cement_co2  \\\n",
       "0   Afghanistan  1850      AFG   3752993.0  NaN         NaN   \n",
       "1   Afghanistan  1851      AFG   3769828.0  NaN         NaN   \n",
       "2   Afghanistan  1852      AFG   3787706.0  NaN         NaN   \n",
       "3   Afghanistan  1853      AFG   3806634.0  NaN         NaN   \n",
       "4   Afghanistan  1854      AFG   3825655.0  NaN         NaN   \n",
       "5   Afghanistan  1855      AFG   3844769.0  NaN         NaN   \n",
       "6   Afghanistan  1856      AFG   3863976.0  NaN         NaN   \n",
       "7   Afghanistan  1857      AFG   3883276.0  NaN         NaN   \n",
       "8   Afghanistan  1858      AFG   3902671.0  NaN         NaN   \n",
       "9   Afghanistan  1859      AFG   3922160.0  NaN         NaN   \n",
       "10  Afghanistan  1860      AFG   3941745.0  NaN         NaN   \n",
       "11  Afghanistan  1861      AFG   3961424.0  NaN         NaN   \n",
       "12  Afghanistan  1862      AFG   3981200.0  NaN         NaN   \n",
       "13  Afghanistan  1863      AFG   4001072.0  NaN         NaN   \n",
       "14  Afghanistan  1864      AFG   4021041.0  NaN         NaN   \n",
       "15  Afghanistan  1865      AFG   4041107.0  NaN         NaN   \n",
       "16  Afghanistan  1866      AFG   4061270.0  NaN         NaN   \n",
       "17  Afghanistan  1867      AFG   4081532.0  NaN         NaN   \n",
       "18  Afghanistan  1868      AFG   4101893.0  NaN         NaN   \n",
       "19  Afghanistan  1869      AFG   4122358.0  NaN         NaN   \n",
       "\n",
       "    cement_co2_per_capita  co2  co2_growth_abs  co2_growth_prct  ...  \\\n",
       "0                     NaN  NaN             NaN              NaN  ...   \n",
       "1                     NaN  NaN             NaN              NaN  ...   \n",
       "2                     NaN  NaN             NaN              NaN  ...   \n",
       "3                     NaN  NaN             NaN              NaN  ...   \n",
       "4                     NaN  NaN             NaN              NaN  ...   \n",
       "5                     NaN  NaN             NaN              NaN  ...   \n",
       "6                     NaN  NaN             NaN              NaN  ...   \n",
       "7                     NaN  NaN             NaN              NaN  ...   \n",
       "8                     NaN  NaN             NaN              NaN  ...   \n",
       "9                     NaN  NaN             NaN              NaN  ...   \n",
       "10                    NaN  NaN             NaN              NaN  ...   \n",
       "11                    NaN  NaN             NaN              NaN  ...   \n",
       "12                    NaN  NaN             NaN              NaN  ...   \n",
       "13                    NaN  NaN             NaN              NaN  ...   \n",
       "14                    NaN  NaN             NaN              NaN  ...   \n",
       "15                    NaN  NaN             NaN              NaN  ...   \n",
       "16                    NaN  NaN             NaN              NaN  ...   \n",
       "17                    NaN  NaN             NaN              NaN  ...   \n",
       "18                    NaN  NaN             NaN              NaN  ...   \n",
       "19                    NaN  NaN             NaN              NaN  ...   \n",
       "\n",
       "    share_global_coal_co2  share_global_cumulative_cement_co2  \\\n",
       "0                     NaN                                 NaN   \n",
       "1                     NaN                                 NaN   \n",
       "2                     NaN                                 NaN   \n",
       "3                     NaN                                 NaN   \n",
       "4                     NaN                                 NaN   \n",
       "5                     NaN                                 NaN   \n",
       "6                     NaN                                 NaN   \n",
       "7                     NaN                                 NaN   \n",
       "8                     NaN                                 NaN   \n",
       "9                     NaN                                 NaN   \n",
       "10                    NaN                                 NaN   \n",
       "11                    NaN                                 NaN   \n",
       "12                    NaN                                 NaN   \n",
       "13                    NaN                                 NaN   \n",
       "14                    NaN                                 NaN   \n",
       "15                    NaN                                 NaN   \n",
       "16                    NaN                                 NaN   \n",
       "17                    NaN                                 NaN   \n",
       "18                    NaN                                 NaN   \n",
       "19                    NaN                                 NaN   \n",
       "\n",
       "    share_global_cumulative_co2  share_global_cumulative_coal_co2  \\\n",
       "0                           NaN                               NaN   \n",
       "1                           NaN                               NaN   \n",
       "2                           NaN                               NaN   \n",
       "3                           NaN                               NaN   \n",
       "4                           NaN                               NaN   \n",
       "5                           NaN                               NaN   \n",
       "6                           NaN                               NaN   \n",
       "7                           NaN                               NaN   \n",
       "8                           NaN                               NaN   \n",
       "9                           NaN                               NaN   \n",
       "10                          NaN                               NaN   \n",
       "11                          NaN                               NaN   \n",
       "12                          NaN                               NaN   \n",
       "13                          NaN                               NaN   \n",
       "14                          NaN                               NaN   \n",
       "15                          NaN                               NaN   \n",
       "16                          NaN                               NaN   \n",
       "17                          NaN                               NaN   \n",
       "18                          NaN                               NaN   \n",
       "19                          NaN                               NaN   \n",
       "\n",
       "    share_global_cumulative_flaring_co2  share_global_cumulative_gas_co2  \\\n",
       "0                                   NaN                              NaN   \n",
       "1                                   NaN                              NaN   \n",
       "2                                   NaN                              NaN   \n",
       "3                                   NaN                              NaN   \n",
       "4                                   NaN                              NaN   \n",
       "5                                   NaN                              NaN   \n",
       "6                                   NaN                              NaN   \n",
       "7                                   NaN                              NaN   \n",
       "8                                   NaN                              NaN   \n",
       "9                                   NaN                              NaN   \n",
       "10                                  NaN                              NaN   \n",
       "11                                  NaN                              NaN   \n",
       "12                                  NaN                              NaN   \n",
       "13                                  NaN                              NaN   \n",
       "14                                  NaN                              NaN   \n",
       "15                                  NaN                              NaN   \n",
       "16                                  NaN                              NaN   \n",
       "17                                  NaN                              NaN   \n",
       "18                                  NaN                              NaN   \n",
       "19                                  NaN                              NaN   \n",
       "\n",
       "    share_global_cumulative_oil_co2  share_global_flaring_co2  \\\n",
       "0                               NaN                       NaN   \n",
       "1                               NaN                       NaN   \n",
       "2                               NaN                       NaN   \n",
       "3                               NaN                       NaN   \n",
       "4                               NaN                       NaN   \n",
       "5                               NaN                       NaN   \n",
       "6                               NaN                       NaN   \n",
       "7                               NaN                       NaN   \n",
       "8                               NaN                       NaN   \n",
       "9                               NaN                       NaN   \n",
       "10                              NaN                       NaN   \n",
       "11                              NaN                       NaN   \n",
       "12                              NaN                       NaN   \n",
       "13                              NaN                       NaN   \n",
       "14                              NaN                       NaN   \n",
       "15                              NaN                       NaN   \n",
       "16                              NaN                       NaN   \n",
       "17                              NaN                       NaN   \n",
       "18                              NaN                       NaN   \n",
       "19                              NaN                       NaN   \n",
       "\n",
       "    share_global_gas_co2  share_global_oil_co2  \n",
       "0                    NaN                   NaN  \n",
       "1                    NaN                   NaN  \n",
       "2                    NaN                   NaN  \n",
       "3                    NaN                   NaN  \n",
       "4                    NaN                   NaN  \n",
       "5                    NaN                   NaN  \n",
       "6                    NaN                   NaN  \n",
       "7                    NaN                   NaN  \n",
       "8                    NaN                   NaN  \n",
       "9                    NaN                   NaN  \n",
       "10                   NaN                   NaN  \n",
       "11                   NaN                   NaN  \n",
       "12                   NaN                   NaN  \n",
       "13                   NaN                   NaN  \n",
       "14                   NaN                   NaN  \n",
       "15                   NaN                   NaN  \n",
       "16                   NaN                   NaN  \n",
       "17                   NaN                   NaN  \n",
       "18                   NaN                   NaN  \n",
       "19                   NaN                   NaN  \n",
       "\n",
       "[20 rows x 41 columns]"
      ]
     },
     "execution_count": 48,
     "metadata": {},
     "output_type": "execute_result"
    }
   ],
   "source": [
    "# Check the output\n",
    "\n",
    "df_co2_full.head(20)"
   ]
  },
  {
   "cell_type": "markdown",
   "id": "b62cbd05",
   "metadata": {},
   "source": [
    "#### This dataframe contains all the years reported."
   ]
  },
  {
   "cell_type": "code",
   "execution_count": 49,
   "id": "defb38fe",
   "metadata": {},
   "outputs": [
    {
     "data": {
      "text/plain": [
       "(46523, 41)"
      ]
     },
     "execution_count": 49,
     "metadata": {},
     "output_type": "execute_result"
    }
   ],
   "source": [
    "# Check the size of the dataframe\n",
    "\n",
    "df_co2_full.shape"
   ]
  },
  {
   "cell_type": "markdown",
   "id": "cbfc1b58",
   "metadata": {},
   "source": [
    "#### This dataframe has a lot more observations. Let's see how many are left after the cleaning steps."
   ]
  },
  {
   "cell_type": "markdown",
   "id": "8a03e1ef",
   "metadata": {},
   "source": [
    "## 8.2 Data Cleaning"
   ]
  },
  {
   "cell_type": "markdown",
   "id": "58665648",
   "metadata": {},
   "source": [
    "### 8.2.1 Missing values and \"0\" values"
   ]
  },
  {
   "cell_type": "code",
   "execution_count": 50,
   "id": "a53d1445",
   "metadata": {},
   "outputs": [
    {
     "data": {
      "text/plain": [
       "country                                    0\n",
       "year                                       0\n",
       "iso_code                                   0\n",
       "population                              7949\n",
       "gdp                                    31972\n",
       "cement_co2                             21549\n",
       "cement_co2_per_capita                  23809\n",
       "co2                                    15174\n",
       "co2_growth_abs                         17579\n",
       "co2_growth_prct                        21491\n",
       "co2_per_capita                         19608\n",
       "co2_per_gdp                            30232\n",
       "coal_co2                               21454\n",
       "coal_co2_per_capita                    22102\n",
       "cumulative_cement_co2                  21650\n",
       "cumulative_co2                         17167\n",
       "cumulative_coal_co2                    21555\n",
       "cumulative_flaring_co2                 21749\n",
       "cumulative_gas_co2                     21681\n",
       "cumulative_oil_co2                     21582\n",
       "energy_per_capita                      36536\n",
       "energy_per_gdp                         39364\n",
       "flaring_co2                            21648\n",
       "flaring_co2_per_capita                 22251\n",
       "gas_co2                                21580\n",
       "gas_co2_per_capita                     22183\n",
       "oil_co2                                21481\n",
       "oil_co2_per_capita                     22156\n",
       "primary_energy_consumption             36438\n",
       "share_global_cement_co2                25693\n",
       "share_global_co2                       17167\n",
       "share_global_coal_co2                  21555\n",
       "share_global_cumulative_cement_co2     25693\n",
       "share_global_cumulative_co2            17167\n",
       "share_global_cumulative_coal_co2       21555\n",
       "share_global_cumulative_flaring_co2    30543\n",
       "share_global_cumulative_gas_co2        24533\n",
       "share_global_cumulative_oil_co2        23102\n",
       "share_global_flaring_co2               30543\n",
       "share_global_gas_co2                   24533\n",
       "share_global_oil_co2                   23102\n",
       "dtype: int64"
      ]
     },
     "execution_count": 50,
     "metadata": {},
     "output_type": "execute_result"
    }
   ],
   "source": [
    "# Check for missing values\n",
    "\n",
    "df_co2_full.isnull().sum()"
   ]
  },
  {
   "cell_type": "markdown",
   "id": "ca5d072d",
   "metadata": {},
   "source": [
    "#### This dataframe has lots of missing values! The misssing values for our variables of interest \"co2\" and \"primary_energy_consumption\" need to be removed before our analysis."
   ]
  },
  {
   "cell_type": "code",
   "execution_count": 51,
   "id": "21172ab6",
   "metadata": {},
   "outputs": [],
   "source": [
    "# Create a new dataframe that doesn't contain missing values in the variable of interest: \"primary_energy_consumption\"\n",
    "\n",
    "df_co2_full_new = df_co2_full[df_co2_full['primary_energy_consumption'].isnull() == False]"
   ]
  },
  {
   "cell_type": "code",
   "execution_count": 52,
   "id": "e1717498",
   "metadata": {},
   "outputs": [
    {
     "data": {
      "text/plain": [
       "(10085, 41)"
      ]
     },
     "execution_count": 52,
     "metadata": {},
     "output_type": "execute_result"
    }
   ],
   "source": [
    "# Check the size of the new dataframe\n",
    "\n",
    "df_co2_full_new.shape"
   ]
  },
  {
   "cell_type": "markdown",
   "id": "45cdb8f4",
   "metadata": {},
   "source": [
    "#### The number of observations reduced drastically. Let's see how many missing values we have left in the \"co2\" column."
   ]
  },
  {
   "cell_type": "code",
   "execution_count": 53,
   "id": "8fe3427c",
   "metadata": {},
   "outputs": [
    {
     "data": {
      "text/plain": [
       "country                                   0\n",
       "year                                      0\n",
       "iso_code                                  0\n",
       "population                               98\n",
       "gdp                                    2926\n",
       "cement_co2                              420\n",
       "cement_co2_per_capita                   441\n",
       "co2                                     263\n",
       "co2_growth_abs                          271\n",
       "co2_growth_prct                         243\n",
       "co2_per_capita                          284\n",
       "co2_per_gdp                            2396\n",
       "coal_co2                                274\n",
       "coal_co2_per_capita                     295\n",
       "cumulative_cement_co2                   420\n",
       "cumulative_co2                          263\n",
       "cumulative_coal_co2                     274\n",
       "cumulative_flaring_co2                  274\n",
       "cumulative_gas_co2                      274\n",
       "cumulative_oil_co2                      274\n",
       "energy_per_capita                        98\n",
       "energy_per_gdp                         2926\n",
       "flaring_co2                             274\n",
       "flaring_co2_per_capita                  295\n",
       "gas_co2                                 274\n",
       "gas_co2_per_capita                      295\n",
       "oil_co2                                 274\n",
       "oil_co2_per_capita                      295\n",
       "primary_energy_consumption                0\n",
       "share_global_cement_co2                 420\n",
       "share_global_co2                        263\n",
       "share_global_coal_co2                   274\n",
       "share_global_cumulative_cement_co2      420\n",
       "share_global_cumulative_co2             263\n",
       "share_global_cumulative_coal_co2        274\n",
       "share_global_cumulative_flaring_co2     274\n",
       "share_global_cumulative_gas_co2         274\n",
       "share_global_cumulative_oil_co2         274\n",
       "share_global_flaring_co2                274\n",
       "share_global_gas_co2                    274\n",
       "share_global_oil_co2                    274\n",
       "dtype: int64"
      ]
     },
     "execution_count": 53,
     "metadata": {},
     "output_type": "execute_result"
    }
   ],
   "source": [
    "# Check for missing values\n",
    "\n",
    "df_co2_full_new.isnull().sum()"
   ]
  },
  {
   "cell_type": "markdown",
   "id": "535decd1",
   "metadata": {},
   "source": [
    "#### There are only 263 missing values left in the \"co2\" column which also need to be removed."
   ]
  },
  {
   "cell_type": "code",
   "execution_count": 54,
   "id": "a67db232",
   "metadata": {},
   "outputs": [],
   "source": [
    "# Create a new dataframe that doesn't contain missing values in the variable of interest: \"co2\"\n",
    "\n",
    "df_co2_full_new = df_co2_full_new[df_co2_full_new['co2'].isnull() == False]"
   ]
  },
  {
   "cell_type": "code",
   "execution_count": 55,
   "id": "234f693f",
   "metadata": {},
   "outputs": [
    {
     "data": {
      "text/plain": [
       "(9822, 41)"
      ]
     },
     "execution_count": 55,
     "metadata": {},
     "output_type": "execute_result"
    }
   ],
   "source": [
    "# Check the size of the new dataframe\n",
    "\n",
    "df_co2_full_new.shape"
   ]
  },
  {
   "cell_type": "markdown",
   "id": "862db938",
   "metadata": {},
   "source": [
    "#### The missing values have been removed. There are 263 less observations now."
   ]
  },
  {
   "cell_type": "code",
   "execution_count": 56,
   "id": "a65e3351",
   "metadata": {},
   "outputs": [
    {
     "data": {
      "text/plain": [
       "country                                   0\n",
       "year                                      0\n",
       "iso_code                                  0\n",
       "population                               78\n",
       "gdp                                    2712\n",
       "cement_co2                              157\n",
       "cement_co2_per_capita                   178\n",
       "co2                                       0\n",
       "co2_growth_abs                            8\n",
       "co2_growth_prct                          20\n",
       "co2_per_capita                           21\n",
       "co2_per_gdp                            2133\n",
       "coal_co2                                 11\n",
       "coal_co2_per_capita                      32\n",
       "cumulative_cement_co2                   157\n",
       "cumulative_co2                            0\n",
       "cumulative_coal_co2                      11\n",
       "cumulative_flaring_co2                   11\n",
       "cumulative_gas_co2                       11\n",
       "cumulative_oil_co2                       11\n",
       "energy_per_capita                        78\n",
       "energy_per_gdp                         2712\n",
       "flaring_co2                              11\n",
       "flaring_co2_per_capita                   32\n",
       "gas_co2                                  11\n",
       "gas_co2_per_capita                       32\n",
       "oil_co2                                  11\n",
       "oil_co2_per_capita                       32\n",
       "primary_energy_consumption                0\n",
       "share_global_cement_co2                 157\n",
       "share_global_co2                          0\n",
       "share_global_coal_co2                    11\n",
       "share_global_cumulative_cement_co2      157\n",
       "share_global_cumulative_co2               0\n",
       "share_global_cumulative_coal_co2         11\n",
       "share_global_cumulative_flaring_co2      11\n",
       "share_global_cumulative_gas_co2          11\n",
       "share_global_cumulative_oil_co2          11\n",
       "share_global_flaring_co2                 11\n",
       "share_global_gas_co2                     11\n",
       "share_global_oil_co2                     11\n",
       "dtype: int64"
      ]
     },
     "execution_count": 56,
     "metadata": {},
     "output_type": "execute_result"
    }
   ],
   "source": [
    "# Check for missing values to make sure we have none left for our variables of interest\n",
    "\n",
    "df_co2_full_new.isnull().sum()"
   ]
  },
  {
   "cell_type": "markdown",
   "id": "94be8334",
   "metadata": {},
   "source": [
    "#### Looks good, no missing values left for \"co2\" and \"primary_energy_consumption\". Now just the \"0\" values need to be removed."
   ]
  },
  {
   "cell_type": "code",
   "execution_count": 57,
   "id": "ad7b7d2c",
   "metadata": {},
   "outputs": [],
   "source": [
    "# Remove 0 values\n",
    "\n",
    "df_co2_full_new = df_co2_full_new[df_co2_full_new['co2'] >= 0.00001]"
   ]
  },
  {
   "cell_type": "code",
   "execution_count": 58,
   "id": "aaf63a4e",
   "metadata": {},
   "outputs": [],
   "source": [
    "# Remove 0 values\n",
    "\n",
    "df_co2_full_new = df_co2_full_new[df_co2_full_new['primary_energy_consumption'] >= 0.00001]"
   ]
  },
  {
   "cell_type": "code",
   "execution_count": 59,
   "id": "8832d5a9",
   "metadata": {},
   "outputs": [
    {
     "data": {
      "text/plain": [
       "(9768, 41)"
      ]
     },
     "execution_count": 59,
     "metadata": {},
     "output_type": "execute_result"
    }
   ],
   "source": [
    "# Check the size of the dataframe after removing the 0 values\n",
    "\n",
    "df_co2_full_new.shape"
   ]
  },
  {
   "cell_type": "markdown",
   "id": "ac1d8b17",
   "metadata": {},
   "source": [
    "#### Great! After all the cleaning steps we have 9735 observations left which is clearly above 5.000 and therefore suitable for the regression analysis."
   ]
  },
  {
   "cell_type": "markdown",
   "id": "3307cb8c",
   "metadata": {},
   "source": [
    "### 8.2.2 Checking extreme values"
   ]
  },
  {
   "cell_type": "code",
   "execution_count": 60,
   "id": "6ea037dd",
   "metadata": {},
   "outputs": [
    {
     "name": "stderr",
     "output_type": "stream",
     "text": [
      "C:\\Users\\osoty\\AppData\\Local\\Temp\\ipykernel_5544\\2791343758.py:3: UserWarning: \n",
      "\n",
      "`distplot` is a deprecated function and will be removed in seaborn v0.14.0.\n",
      "\n",
      "Please adapt your code to use either `displot` (a figure-level function with\n",
      "similar flexibility) or `histplot` (an axes-level function for histograms).\n",
      "\n",
      "For a guide to updating your code to use the new functions, please see\n",
      "https://gist.github.com/mwaskom/de44147ed2974457ad6372750bbe5751\n",
      "\n",
      "  sns.distplot(df_co2_full_new['co2'], bins=25)\n"
     ]
    },
    {
     "data": {
      "text/plain": [
       "<AxesSubplot:xlabel='co2', ylabel='Density'>"
      ]
     },
     "execution_count": 60,
     "metadata": {},
     "output_type": "execute_result"
    },
    {
     "data": {
      "image/png": "[encoded data removed]",
      "text/plain": [
       "<Figure size 640x480 with 1 Axes>"
      ]
     },
     "metadata": {},
     "output_type": "display_data"
    }
   ],
   "source": [
    "# Shows extreme values for the \"co2\" column\n",
    "\n",
    "sns.distplot(df_co2_full_new['co2'], bins=25)"
   ]
  },
  {
   "cell_type": "markdown",
   "id": "2294453c",
   "metadata": {},
   "source": [
    "#### We already know that there are some high values present. For now, the model will be trained on the complete dataset. If the results turn out to be poor, outliers can be removed."
   ]
  },
  {
   "cell_type": "code",
   "execution_count": 61,
   "id": "e0a9cd31",
   "metadata": {},
   "outputs": [
    {
     "name": "stderr",
     "output_type": "stream",
     "text": [
      "C:\\Users\\osoty\\AppData\\Local\\Temp\\ipykernel_5544\\4094270843.py:3: UserWarning: \n",
      "\n",
      "`distplot` is a deprecated function and will be removed in seaborn v0.14.0.\n",
      "\n",
      "Please adapt your code to use either `displot` (a figure-level function with\n",
      "similar flexibility) or `histplot` (an axes-level function for histograms).\n",
      "\n",
      "For a guide to updating your code to use the new functions, please see\n",
      "https://gist.github.com/mwaskom/de44147ed2974457ad6372750bbe5751\n",
      "\n",
      "  sns.distplot(df_co2_full_new['primary_energy_consumption'], bins=25)\n"
     ]
    },
    {
     "data": {
      "text/plain": [
       "<AxesSubplot:xlabel='primary_energy_consumption', ylabel='Density'>"
      ]
     },
     "execution_count": 61,
     "metadata": {},
     "output_type": "execute_result"
    },
    {
     "data": {
      "image/png": "[encoded data removed]",
      "text/plain": [
       "<Figure size 640x480 with 1 Axes>"
      ]
     },
     "metadata": {},
     "output_type": "display_data"
    }
   ],
   "source": [
    "# Shows extreme values for the \"primary_energy_consumption\" column\n",
    "\n",
    "sns.distplot(df_co2_full_new['primary_energy_consumption'], bins=25)"
   ]
  },
  {
   "cell_type": "markdown",
   "id": "45d4517f",
   "metadata": {},
   "source": [
    "#### The same is the case for primary energy consumption. We will see if the outliers should be removed later."
   ]
  },
  {
   "cell_type": "markdown",
   "id": "f9053a7f",
   "metadata": {},
   "source": [
    "## 8.3 Scatterplot for the variables of interest"
   ]
  },
  {
   "cell_type": "code",
   "execution_count": 62,
   "id": "7774a3ac",
   "metadata": {},
   "outputs": [
    {
     "data": {
      "image/png": "[encoded data removed]",
      "text/plain": [
       "<Figure size 640x480 with 1 Axes>"
      ]
     },
     "metadata": {},
     "output_type": "display_data"
    }
   ],
   "source": [
    "# Create a scatterplot between the two variables of interest primary energy consumption and co2\n",
    "\n",
    "df_co2_full_new.plot(x = 'primary_energy_consumption', y = 'co2',style='o')\n",
    "plt.title('Relationship between Primary Energy Consumption and CO2 Emissions')  \n",
    "plt.xlabel('Primary Energy Consumption (terawatt-hours)')  \n",
    "plt.ylabel('CO2 emissions (million tonnes)')  \n",
    "plt.show()"
   ]
  },
  {
   "cell_type": "markdown",
   "id": "181c2501",
   "metadata": {},
   "source": [
    "#### The relationship between the two variables appears pretty linear."
   ]
  },
  {
   "cell_type": "markdown",
   "id": "91310c67",
   "metadata": {},
   "source": [
    "## 8.4 Regression Analysis"
   ]
  },
  {
   "cell_type": "markdown",
   "id": "eee1199b",
   "metadata": {},
   "source": [
    "### 8.4.1 Reshaping variables into NumPy arrays"
   ]
  },
  {
   "cell_type": "code",
   "execution_count": 63,
   "id": "eac850ea",
   "metadata": {},
   "outputs": [],
   "source": [
    "# Reshape the variables into NumPy arrays and put them into separate objects.\n",
    "\n",
    "X = df_co2_full_new['primary_energy_consumption'].values.reshape (-1, 1)\n",
    "y = df_co2_full_new['co2'].values.reshape (-1, 1)"
   ]
  },
  {
   "cell_type": "code",
   "execution_count": 64,
   "id": "39f7618c",
   "metadata": {},
   "outputs": [
    {
     "data": {
      "text/plain": [
       "array([[ 7.791],\n",
       "       [ 8.777],\n",
       "       [ 9.348],\n",
       "       ...,\n",
       "       [45.936],\n",
       "       [47.502],\n",
       "       [49.427]])"
      ]
     },
     "execution_count": 64,
     "metadata": {},
     "output_type": "execute_result"
    }
   ],
   "source": [
    "# Check the output for X\n",
    "\n",
    "X"
   ]
  },
  {
   "cell_type": "code",
   "execution_count": 65,
   "id": "a0e0f2f8",
   "metadata": {},
   "outputs": [
    {
     "data": {
      "text/plain": [
       "array([[ 1.756],\n",
       "       [ 1.978],\n",
       "       [ 2.095],\n",
       "       ...,\n",
       "       [ 9.596],\n",
       "       [11.795],\n",
       "       [11.115]])"
      ]
     },
     "execution_count": 65,
     "metadata": {},
     "output_type": "execute_result"
    }
   ],
   "source": [
    "# Check the output for y\n",
    "\n",
    "y"
   ]
  },
  {
   "cell_type": "markdown",
   "id": "3b573d4f",
   "metadata": {},
   "source": [
    "### 8.4.2 Splitting Data"
   ]
  },
  {
   "cell_type": "code",
   "execution_count": 66,
   "id": "346282fc",
   "metadata": {},
   "outputs": [],
   "source": [
    "# Split data into a train set and a test set\n",
    "\n",
    "X_train, X_test, y_train, y_test = train_test_split(X, y, test_size=0.3, random_state=0)"
   ]
  },
  {
   "cell_type": "markdown",
   "id": "bced32ab",
   "metadata": {},
   "source": [
    "### 8.4.3 Creating and fitting the regression object"
   ]
  },
  {
   "cell_type": "code",
   "execution_count": 67,
   "id": "ae80eba5",
   "metadata": {},
   "outputs": [],
   "source": [
    "# Create a regression object\n",
    "\n",
    "regression = LinearRegression()"
   ]
  },
  {
   "cell_type": "code",
   "execution_count": 68,
   "id": "b723eef5",
   "metadata": {},
   "outputs": [
    {
     "data": {
      "text/html": [
       "<style>#sk-container-id-3 {color: black;background-color: white;}#sk-container-id-3 pre{padding: 0;}#sk-container-id-3 div.sk-toggleable {background-color: white;}#sk-container-id-3 label.sk-toggleable__label {cursor: pointer;display: block;width: 100%;margin-bottom: 0;padding: 0.3em;box-sizing: border-box;text-align: center;}#sk-container-id-3 label.sk-toggleable__label-arrow:before {content: \"▸\";float: left;margin-right: 0.25em;color: #696969;}#sk-container-id-3 label.sk-toggleable__label-arrow:hover:before {color: black;}#sk-container-id-3 div.sk-estimator:hover label.sk-toggleable__label-arrow:before {color: black;}#sk-container-id-3 div.sk-toggleable__content {max-height: 0;max-width: 0;overflow: hidden;text-align: left;background-color: #f0f8ff;}#sk-container-id-3 div.sk-toggleable__content pre {margin: 0.2em;color: black;border-radius: 0.25em;background-color: #f0f8ff;}#sk-container-id-3 input.sk-toggleable__control:checked~div.sk-toggleable__content {max-height: 200px;max-width: 100%;overflow: auto;}#sk-container-id-3 input.sk-toggleable__control:checked~label.sk-toggleable__label-arrow:before {content: \"▾\";}#sk-container-id-3 div.sk-estimator input.sk-toggleable__control:checked~label.sk-toggleable__label {background-color: #d4ebff;}#sk-container-id-3 div.sk-label input.sk-toggleable__control:checked~label.sk-toggleable__label {background-color: #d4ebff;}#sk-container-id-3 input.sk-hidden--visually {border: 0;clip: rect(1px 1px 1px 1px);clip: rect(1px, 1px, 1px, 1px);height: 1px;margin: -1px;overflow: hidden;padding: 0;position: absolute;width: 1px;}#sk-container-id-3 div.sk-estimator {font-family: monospace;background-color: #f0f8ff;border: 1px dotted black;border-radius: 0.25em;box-sizing: border-box;margin-bottom: 0.5em;}#sk-container-id-3 div.sk-estimator:hover {background-color: #d4ebff;}#sk-container-id-3 div.sk-parallel-item::after {content: \"\";width: 100%;border-bottom: 1px solid gray;flex-grow: 1;}#sk-container-id-3 div.sk-label:hover label.sk-toggleable__label {background-color: #d4ebff;}#sk-container-id-3 div.sk-serial::before {content: \"\";position: absolute;border-left: 1px solid gray;box-sizing: border-box;top: 0;bottom: 0;left: 50%;z-index: 0;}#sk-container-id-3 div.sk-serial {display: flex;flex-direction: column;align-items: center;background-color: white;padding-right: 0.2em;padding-left: 0.2em;position: relative;}#sk-container-id-3 div.sk-item {position: relative;z-index: 1;}#sk-container-id-3 div.sk-parallel {display: flex;align-items: stretch;justify-content: center;background-color: white;position: relative;}#sk-container-id-3 div.sk-item::before, #sk-container-id-3 div.sk-parallel-item::before {content: \"\";position: absolute;border-left: 1px solid gray;box-sizing: border-box;top: 0;bottom: 0;left: 50%;z-index: -1;}#sk-container-id-3 div.sk-parallel-item {display: flex;flex-direction: column;z-index: 1;position: relative;background-color: white;}#sk-container-id-3 div.sk-parallel-item:first-child::after {align-self: flex-end;width: 50%;}#sk-container-id-3 div.sk-parallel-item:last-child::after {align-self: flex-start;width: 50%;}#sk-container-id-3 div.sk-parallel-item:only-child::after {width: 0;}#sk-container-id-3 div.sk-dashed-wrapped {border: 1px dashed gray;margin: 0 0.4em 0.5em 0.4em;box-sizing: border-box;padding-bottom: 0.4em;background-color: white;}#sk-container-id-3 div.sk-label label {font-family: monospace;font-weight: bold;display: inline-block;line-height: 1.2em;}#sk-container-id-3 div.sk-label-container {text-align: center;}#sk-container-id-3 div.sk-container {/* jupyter's `normalize.less` sets `[hidden] { display: none; }` but bootstrap.min.css set `[hidden] { display: none !important; }` so we also need the `!important` here to be able to override the default hidden behavior on the sphinx rendered scikit-learn.org. See: https://github.com/scikit-learn/scikit-learn/issues/21755 */display: inline-block !important;position: relative;}#sk-container-id-3 div.sk-text-repr-fallback {display: none;}</style><div id=\"sk-container-id-3\" class=\"sk-top-container\"><div class=\"sk-text-repr-fallback\"><pre>LinearRegression()</pre><b>In a Jupyter environment, please rerun this cell to show the HTML representation or trust the notebook. <br />On GitHub, the HTML representation is unable to render, please try loading this page with nbviewer.org.</b></div><div class=\"sk-container\" hidden><div class=\"sk-item\"><div class=\"sk-estimator sk-toggleable\"><input class=\"sk-toggleable__control sk-hidden--visually\" id=\"sk-estimator-id-3\" type=\"checkbox\" checked><label for=\"sk-estimator-id-3\" class=\"sk-toggleable__label sk-toggleable__label-arrow\">LinearRegression</label><div class=\"sk-toggleable__content\"><pre>LinearRegression()</pre></div></div></div></div></div>"
      ],
      "text/plain": [
       "LinearRegression()"
      ]
     },
     "execution_count": 68,
     "metadata": {},
     "output_type": "execute_result"
    }
   ],
   "source": [
    "# Fill the regression object\n",
    "\n",
    "regression.fit(X_train, y_train)"
   ]
  },
  {
   "cell_type": "markdown",
   "id": "c1c64777",
   "metadata": {},
   "source": [
    "### 8.4.4 Testing Predictions"
   ]
  },
  {
   "cell_type": "code",
   "execution_count": 69,
   "id": "53c45d8f",
   "metadata": {},
   "outputs": [],
   "source": [
    "# Create predictions based on X values from test set\n",
    "\n",
    "y_predicted = regression.predict(X_test)"
   ]
  },
  {
   "cell_type": "code",
   "execution_count": 70,
   "id": "09b061ab",
   "metadata": {},
   "outputs": [
    {
     "data": {
      "image/png": "[encoded data removed]",
      "text/plain": [
       "<Figure size 640x480 with 1 Axes>"
      ]
     },
     "metadata": {},
     "output_type": "display_data"
    }
   ],
   "source": [
    "# Create a plot that shows the regression line from the model on the test set.\n",
    "\n",
    "plot_test = plt\n",
    "plot_test.scatter(X_test, y_test, color='grey', s = 15)\n",
    "plot_test.plot(X_test, y_predicted, color='red', linewidth =3)\n",
    "plot_test.title('Relationship between Primary Energy Consumption and CO2 Emissions (Test set)')\n",
    "plot_test.xlabel('Energy consumption (terawatt-hours)')\n",
    "plot_test.ylabel('CO2 emissions (million tonnes)')\n",
    "plot_test.show()"
   ]
  },
  {
   "cell_type": "markdown",
   "id": "47f49a7d",
   "metadata": {},
   "source": [
    "#### This looks good! All data points are pretty close to the regression line. Next let's take a look at the summary statistics."
   ]
  },
  {
   "cell_type": "markdown",
   "id": "43178e01",
   "metadata": {},
   "source": [
    "### 8.4.5 Summary Statistics"
   ]
  },
  {
   "cell_type": "code",
   "execution_count": 71,
   "id": "63c30fac",
   "metadata": {},
   "outputs": [],
   "source": [
    "# Create objects for mean squared error and r squared value.\n",
    "\n",
    "rmse = mean_squared_error(y_test, y_predicted)\n",
    "r2 = r2_score(y_test, y_predicted)"
   ]
  },
  {
   "cell_type": "code",
   "execution_count": 72,
   "id": "5ff9cb80",
   "metadata": {},
   "outputs": [
    {
     "name": "stdout",
     "output_type": "stream",
     "text": [
      "Slope: [[0.23236782]]\n",
      "Mean squared error:  49224.656581260235\n",
      "R squared score:  0.9934475781975739\n"
     ]
    }
   ],
   "source": [
    "# Print the content\n",
    "\n",
    "print('Slope:' ,regression.coef_)\n",
    "print('Mean squared error: ', rmse)\n",
    "print('R squared score: ', r2)"
   ]
  },
  {
   "cell_type": "markdown",
   "id": "b44a86a1",
   "metadata": {},
   "source": [
    "* The slope indicates a positive relationship between the two variables and takes a similar value than for the short dataframe (10 year range).\n",
    "* The mean squared error is kind of high, but lower than for the short dataframe. In a new test after removing outliers we might be able to improve it.\n",
    "* The R squared value indicates a strong relationship between the two variables."
   ]
  },
  {
   "cell_type": "markdown",
   "id": "ee0f566c",
   "metadata": {},
   "source": [
    "### 8.4.6 Comparing actual values and predicted values"
   ]
  },
  {
   "cell_type": "code",
   "execution_count": 73,
   "id": "fee38876",
   "metadata": {},
   "outputs": [
    {
     "data": {
      "text/html": [
       "<div>\n",
       "<style scoped>\n",
       "    .dataframe tbody tr th:only-of-type {\n",
       "        vertical-align: middle;\n",
       "    }\n",
       "\n",
       "    .dataframe tbody tr th {\n",
       "        vertical-align: top;\n",
       "    }\n",
       "\n",
       "    .dataframe thead th {\n",
       "        text-align: right;\n",
       "    }\n",
       "</style>\n",
       "<table border=\"1\" class=\"dataframe\">\n",
       "  <thead>\n",
       "    <tr style=\"text-align: right;\">\n",
       "      <th></th>\n",
       "      <th>Actual</th>\n",
       "      <th>Predicted</th>\n",
       "    </tr>\n",
       "  </thead>\n",
       "  <tbody>\n",
       "    <tr>\n",
       "      <th>0</th>\n",
       "      <td>3.099</td>\n",
       "      <td>3.676610</td>\n",
       "    </tr>\n",
       "    <tr>\n",
       "      <th>1</th>\n",
       "      <td>168.260</td>\n",
       "      <td>254.522089</td>\n",
       "    </tr>\n",
       "    <tr>\n",
       "      <th>2</th>\n",
       "      <td>4.299</td>\n",
       "      <td>4.315854</td>\n",
       "    </tr>\n",
       "    <tr>\n",
       "      <th>3</th>\n",
       "      <td>37.596</td>\n",
       "      <td>72.958935</td>\n",
       "    </tr>\n",
       "    <tr>\n",
       "      <th>4</th>\n",
       "      <td>6.609</td>\n",
       "      <td>6.453870</td>\n",
       "    </tr>\n",
       "    <tr>\n",
       "      <th>5</th>\n",
       "      <td>2257.739</td>\n",
       "      <td>1615.087971</td>\n",
       "    </tr>\n",
       "    <tr>\n",
       "      <th>6</th>\n",
       "      <td>0.623</td>\n",
       "      <td>0.753888</td>\n",
       "    </tr>\n",
       "    <tr>\n",
       "      <th>7</th>\n",
       "      <td>1.876</td>\n",
       "      <td>0.662799</td>\n",
       "    </tr>\n",
       "    <tr>\n",
       "      <th>8</th>\n",
       "      <td>3.604</td>\n",
       "      <td>4.138325</td>\n",
       "    </tr>\n",
       "    <tr>\n",
       "      <th>9</th>\n",
       "      <td>56.637</td>\n",
       "      <td>81.467548</td>\n",
       "    </tr>\n",
       "    <tr>\n",
       "      <th>10</th>\n",
       "      <td>0.286</td>\n",
       "      <td>0.384423</td>\n",
       "    </tr>\n",
       "    <tr>\n",
       "      <th>11</th>\n",
       "      <td>3.876</td>\n",
       "      <td>5.065937</td>\n",
       "    </tr>\n",
       "    <tr>\n",
       "      <th>12</th>\n",
       "      <td>847.045</td>\n",
       "      <td>1152.344648</td>\n",
       "    </tr>\n",
       "    <tr>\n",
       "      <th>13</th>\n",
       "      <td>237.034</td>\n",
       "      <td>162.093605</td>\n",
       "    </tr>\n",
       "    <tr>\n",
       "      <th>14</th>\n",
       "      <td>190.447</td>\n",
       "      <td>193.345218</td>\n",
       "    </tr>\n",
       "    <tr>\n",
       "      <th>15</th>\n",
       "      <td>0.183</td>\n",
       "      <td>0.183192</td>\n",
       "    </tr>\n",
       "    <tr>\n",
       "      <th>16</th>\n",
       "      <td>0.590</td>\n",
       "      <td>0.561255</td>\n",
       "    </tr>\n",
       "    <tr>\n",
       "      <th>17</th>\n",
       "      <td>0.264</td>\n",
       "      <td>0.246164</td>\n",
       "    </tr>\n",
       "    <tr>\n",
       "      <th>18</th>\n",
       "      <td>0.004</td>\n",
       "      <td>0.292173</td>\n",
       "    </tr>\n",
       "    <tr>\n",
       "      <th>19</th>\n",
       "      <td>3936.496</td>\n",
       "      <td>3700.001285</td>\n",
       "    </tr>\n",
       "    <tr>\n",
       "      <th>20</th>\n",
       "      <td>48.980</td>\n",
       "      <td>52.293303</td>\n",
       "    </tr>\n",
       "    <tr>\n",
       "      <th>21</th>\n",
       "      <td>1.484</td>\n",
       "      <td>1.423339</td>\n",
       "    </tr>\n",
       "    <tr>\n",
       "      <th>22</th>\n",
       "      <td>36096.738</td>\n",
       "      <td>36576.245434</td>\n",
       "    </tr>\n",
       "    <tr>\n",
       "      <th>23</th>\n",
       "      <td>0.007</td>\n",
       "      <td>0.085133</td>\n",
       "    </tr>\n",
       "    <tr>\n",
       "      <th>24</th>\n",
       "      <td>0.601</td>\n",
       "      <td>0.679297</td>\n",
       "    </tr>\n",
       "    <tr>\n",
       "      <th>25</th>\n",
       "      <td>0.007</td>\n",
       "      <td>0.079091</td>\n",
       "    </tr>\n",
       "    <tr>\n",
       "      <th>26</th>\n",
       "      <td>16.484</td>\n",
       "      <td>11.763243</td>\n",
       "    </tr>\n",
       "    <tr>\n",
       "      <th>27</th>\n",
       "      <td>0.220</td>\n",
       "      <td>0.434149</td>\n",
       "    </tr>\n",
       "    <tr>\n",
       "      <th>28</th>\n",
       "      <td>2270.766</td>\n",
       "      <td>1866.036622</td>\n",
       "    </tr>\n",
       "    <tr>\n",
       "      <th>29</th>\n",
       "      <td>0.865</td>\n",
       "      <td>0.708576</td>\n",
       "    </tr>\n",
       "  </tbody>\n",
       "</table>\n",
       "</div>"
      ],
      "text/plain": [
       "       Actual     Predicted\n",
       "0       3.099      3.676610\n",
       "1     168.260    254.522089\n",
       "2       4.299      4.315854\n",
       "3      37.596     72.958935\n",
       "4       6.609      6.453870\n",
       "5    2257.739   1615.087971\n",
       "6       0.623      0.753888\n",
       "7       1.876      0.662799\n",
       "8       3.604      4.138325\n",
       "9      56.637     81.467548\n",
       "10      0.286      0.384423\n",
       "11      3.876      5.065937\n",
       "12    847.045   1152.344648\n",
       "13    237.034    162.093605\n",
       "14    190.447    193.345218\n",
       "15      0.183      0.183192\n",
       "16      0.590      0.561255\n",
       "17      0.264      0.246164\n",
       "18      0.004      0.292173\n",
       "19   3936.496   3700.001285\n",
       "20     48.980     52.293303\n",
       "21      1.484      1.423339\n",
       "22  36096.738  36576.245434\n",
       "23      0.007      0.085133\n",
       "24      0.601      0.679297\n",
       "25      0.007      0.079091\n",
       "26     16.484     11.763243\n",
       "27      0.220      0.434149\n",
       "28   2270.766   1866.036622\n",
       "29      0.865      0.708576"
      ]
     },
     "execution_count": 73,
     "metadata": {},
     "output_type": "execute_result"
    }
   ],
   "source": [
    "# Create a dataframe comparing the actual and predicted values of y.\n",
    "\n",
    "df_co2_full_new_comparison = pd.DataFrame({'Actual': y_test.flatten(), 'Predicted': y_predicted.flatten()})\n",
    "df_co2_full_new_comparison.head(30)"
   ]
  },
  {
   "cell_type": "markdown",
   "id": "a1b58b30",
   "metadata": {},
   "source": [
    "#### Overall the predictions are pretty accurate (for example index 4, 6 or 26), even though there are still some predicted values that are pretty far off from their actual values (for example index 16, 19 or 24) . It might be worth it to check if removing outliers can improve the model."
   ]
  },
  {
   "cell_type": "markdown",
   "id": "436e83e0",
   "metadata": {},
   "source": [
    "# 9. Improving the Regression for the full dataframe (all years included)"
   ]
  },
  {
   "cell_type": "markdown",
   "id": "2513d2ef",
   "metadata": {},
   "source": [
    "## 9.1 Removing Outliers"
   ]
  },
  {
   "cell_type": "markdown",
   "id": "3f31e858",
   "metadata": {},
   "source": [
    "#### We already know that there are some extreme values in our two variables. Therefore, I'm going to restrict the dataframe."
   ]
  },
  {
   "cell_type": "code",
   "execution_count": 74,
   "id": "9a8cd32a",
   "metadata": {},
   "outputs": [],
   "source": [
    "# Remove extreme values\n",
    "\n",
    "df_co2_full_new_filter = df_co2_full_new[df_co2_full_new['co2'] <= 8000]"
   ]
  },
  {
   "cell_type": "code",
   "execution_count": 75,
   "id": "9d90c714",
   "metadata": {},
   "outputs": [
    {
     "name": "stderr",
     "output_type": "stream",
     "text": [
      "C:\\Users\\osoty\\AppData\\Local\\Temp\\ipykernel_5544\\801230715.py:3: UserWarning: \n",
      "\n",
      "`distplot` is a deprecated function and will be removed in seaborn v0.14.0.\n",
      "\n",
      "Please adapt your code to use either `displot` (a figure-level function with\n",
      "similar flexibility) or `histplot` (an axes-level function for histograms).\n",
      "\n",
      "For a guide to updating your code to use the new functions, please see\n",
      "https://gist.github.com/mwaskom/de44147ed2974457ad6372750bbe5751\n",
      "\n",
      "  sns.distplot(df_co2_full_new_filter['co2'], bins=25)\n"
     ]
    },
    {
     "data": {
      "text/plain": [
       "<AxesSubplot:xlabel='co2', ylabel='Density'>"
      ]
     },
     "execution_count": 75,
     "metadata": {},
     "output_type": "execute_result"
    },
    {
     "data": {
      "image/png": "[encoded data removed]",
      "text/plain": [
       "<Figure size 640x480 with 1 Axes>"
      ]
     },
     "metadata": {},
     "output_type": "display_data"
    }
   ],
   "source": [
    "# Check the distribution again\n",
    "\n",
    "sns.distplot(df_co2_full_new_filter['co2'], bins=25)"
   ]
  },
  {
   "cell_type": "markdown",
   "id": "92152214",
   "metadata": {},
   "source": [
    "#### This looks a little better."
   ]
  },
  {
   "cell_type": "code",
   "execution_count": 76,
   "id": "8fb2fd5f",
   "metadata": {},
   "outputs": [
    {
     "data": {
      "text/plain": [
       "(9596, 41)"
      ]
     },
     "execution_count": 76,
     "metadata": {},
     "output_type": "execute_result"
    }
   ],
   "source": [
    "# Check the size of the dataframe\n",
    "\n",
    "df_co2_full_new_filter.shape"
   ]
  },
  {
   "cell_type": "markdown",
   "id": "2c1d4ef1",
   "metadata": {},
   "source": [
    "#### In the new dataframe we have 172 observations less. "
   ]
  },
  {
   "cell_type": "code",
   "execution_count": 77,
   "id": "32ffd4be",
   "metadata": {},
   "outputs": [
    {
     "name": "stderr",
     "output_type": "stream",
     "text": [
      "C:\\Users\\osoty\\AppData\\Local\\Temp\\ipykernel_5544\\746433518.py:3: UserWarning: \n",
      "\n",
      "`distplot` is a deprecated function and will be removed in seaborn v0.14.0.\n",
      "\n",
      "Please adapt your code to use either `displot` (a figure-level function with\n",
      "similar flexibility) or `histplot` (an axes-level function for histograms).\n",
      "\n",
      "For a guide to updating your code to use the new functions, please see\n",
      "https://gist.github.com/mwaskom/de44147ed2974457ad6372750bbe5751\n",
      "\n",
      "  sns.distplot(df_co2_new_filter['primary_energy_consumption'], bins=25)\n"
     ]
    },
    {
     "data": {
      "text/plain": [
       "<AxesSubplot:xlabel='primary_energy_consumption', ylabel='Density'>"
      ]
     },
     "execution_count": 77,
     "metadata": {},
     "output_type": "execute_result"
    },
    {
     "data": {
      "image/png": "[encoded data removed]",
      "text/plain": [
       "<Figure size 640x480 with 1 Axes>"
      ]
     },
     "metadata": {},
     "output_type": "display_data"
    }
   ],
   "source": [
    "# Check the distribution again for primary energy consumption\n",
    "\n",
    "sns.distplot(df_co2_new_filter['primary_energy_consumption'], bins=25)"
   ]
  },
  {
   "cell_type": "markdown",
   "id": "db0ce025",
   "metadata": {},
   "source": [
    "#### This also looks better, more bins are visible now."
   ]
  },
  {
   "cell_type": "code",
   "execution_count": 78,
   "id": "ccb3923f",
   "metadata": {},
   "outputs": [
    {
     "data": {
      "image/png": "[encoded data removed]",
      "text/plain": [
       "<Figure size 640x480 with 1 Axes>"
      ]
     },
     "metadata": {},
     "output_type": "display_data"
    }
   ],
   "source": [
    "# Create a new scatterplot after removing outliers\n",
    "\n",
    "df_co2_full_new_filter.plot(x = 'primary_energy_consumption', y = 'co2',style='o')\n",
    "plt.title('Relationship between Primary Energy Consumption and CO2 Emissions')  \n",
    "plt.xlabel('Primary Energy Consumption (terawatt-hours)')  \n",
    "plt.ylabel('CO2 Emissions (million tonnes)')  \n",
    "plt.show()"
   ]
  },
  {
   "cell_type": "markdown",
   "id": "cb1879a9",
   "metadata": {},
   "source": [
    "#### Most datapoints are clustered in an upward line."
   ]
  },
  {
   "cell_type": "markdown",
   "id": "4d19bc29",
   "metadata": {},
   "source": [
    "## 9.2 Reshaping variables into NumPy arrays"
   ]
  },
  {
   "cell_type": "code",
   "execution_count": 79,
   "id": "d34cd502",
   "metadata": {},
   "outputs": [],
   "source": [
    "# Turn the variables into arrays\n",
    "\n",
    "X_2 = df_co2_full_new_filter['primary_energy_consumption'].values.reshape (-1, 1)\n",
    "y_2 = df_co2_full_new_filter['co2'].values.reshape (-1, 1)"
   ]
  },
  {
   "cell_type": "code",
   "execution_count": 80,
   "id": "1ae35679",
   "metadata": {},
   "outputs": [
    {
     "data": {
      "text/plain": [
       "array([[ 7.791],\n",
       "       [ 8.777],\n",
       "       [ 9.348],\n",
       "       ...,\n",
       "       [45.936],\n",
       "       [47.502],\n",
       "       [49.427]])"
      ]
     },
     "execution_count": 80,
     "metadata": {},
     "output_type": "execute_result"
    }
   ],
   "source": [
    "# Test the output\n",
    "\n",
    "X_2"
   ]
  },
  {
   "cell_type": "code",
   "execution_count": 81,
   "id": "3783b197",
   "metadata": {},
   "outputs": [
    {
     "data": {
      "text/plain": [
       "array([[ 1.756],\n",
       "       [ 1.978],\n",
       "       [ 2.095],\n",
       "       ...,\n",
       "       [ 9.596],\n",
       "       [11.795],\n",
       "       [11.115]])"
      ]
     },
     "execution_count": 81,
     "metadata": {},
     "output_type": "execute_result"
    }
   ],
   "source": [
    "# Test the output\n",
    "\n",
    "y_2"
   ]
  },
  {
   "cell_type": "markdown",
   "id": "035325c8",
   "metadata": {},
   "source": [
    "## 9.3 Splitting Data"
   ]
  },
  {
   "cell_type": "code",
   "execution_count": 82,
   "id": "75496d96",
   "metadata": {},
   "outputs": [],
   "source": [
    "# Split data into a train set and a test set\n",
    "\n",
    "X_train_2, X_test_2, y_train_2, y_test_2 = train_test_split(X_2, y_2, test_size=0.3, random_state=0)"
   ]
  },
  {
   "cell_type": "markdown",
   "id": "bbd8d317",
   "metadata": {},
   "source": [
    "## 9.4 Creating and fitting the regression object"
   ]
  },
  {
   "cell_type": "code",
   "execution_count": 83,
   "id": "562eaecf",
   "metadata": {},
   "outputs": [],
   "source": [
    "# Create a regression object\n",
    "\n",
    "regression_2 = LinearRegression()"
   ]
  },
  {
   "cell_type": "code",
   "execution_count": 84,
   "id": "5c46a582",
   "metadata": {},
   "outputs": [
    {
     "data": {
      "text/html": [
       "<style>#sk-container-id-4 {color: black;background-color: white;}#sk-container-id-4 pre{padding: 0;}#sk-container-id-4 div.sk-toggleable {background-color: white;}#sk-container-id-4 label.sk-toggleable__label {cursor: pointer;display: block;width: 100%;margin-bottom: 0;padding: 0.3em;box-sizing: border-box;text-align: center;}#sk-container-id-4 label.sk-toggleable__label-arrow:before {content: \"▸\";float: left;margin-right: 0.25em;color: #696969;}#sk-container-id-4 label.sk-toggleable__label-arrow:hover:before {color: black;}#sk-container-id-4 div.sk-estimator:hover label.sk-toggleable__label-arrow:before {color: black;}#sk-container-id-4 div.sk-toggleable__content {max-height: 0;max-width: 0;overflow: hidden;text-align: left;background-color: #f0f8ff;}#sk-container-id-4 div.sk-toggleable__content pre {margin: 0.2em;color: black;border-radius: 0.25em;background-color: #f0f8ff;}#sk-container-id-4 input.sk-toggleable__control:checked~div.sk-toggleable__content {max-height: 200px;max-width: 100%;overflow: auto;}#sk-container-id-4 input.sk-toggleable__control:checked~label.sk-toggleable__label-arrow:before {content: \"▾\";}#sk-container-id-4 div.sk-estimator input.sk-toggleable__control:checked~label.sk-toggleable__label {background-color: #d4ebff;}#sk-container-id-4 div.sk-label input.sk-toggleable__control:checked~label.sk-toggleable__label {background-color: #d4ebff;}#sk-container-id-4 input.sk-hidden--visually {border: 0;clip: rect(1px 1px 1px 1px);clip: rect(1px, 1px, 1px, 1px);height: 1px;margin: -1px;overflow: hidden;padding: 0;position: absolute;width: 1px;}#sk-container-id-4 div.sk-estimator {font-family: monospace;background-color: #f0f8ff;border: 1px dotted black;border-radius: 0.25em;box-sizing: border-box;margin-bottom: 0.5em;}#sk-container-id-4 div.sk-estimator:hover {background-color: #d4ebff;}#sk-container-id-4 div.sk-parallel-item::after {content: \"\";width: 100%;border-bottom: 1px solid gray;flex-grow: 1;}#sk-container-id-4 div.sk-label:hover label.sk-toggleable__label {background-color: #d4ebff;}#sk-container-id-4 div.sk-serial::before {content: \"\";position: absolute;border-left: 1px solid gray;box-sizing: border-box;top: 0;bottom: 0;left: 50%;z-index: 0;}#sk-container-id-4 div.sk-serial {display: flex;flex-direction: column;align-items: center;background-color: white;padding-right: 0.2em;padding-left: 0.2em;position: relative;}#sk-container-id-4 div.sk-item {position: relative;z-index: 1;}#sk-container-id-4 div.sk-parallel {display: flex;align-items: stretch;justify-content: center;background-color: white;position: relative;}#sk-container-id-4 div.sk-item::before, #sk-container-id-4 div.sk-parallel-item::before {content: \"\";position: absolute;border-left: 1px solid gray;box-sizing: border-box;top: 0;bottom: 0;left: 50%;z-index: -1;}#sk-container-id-4 div.sk-parallel-item {display: flex;flex-direction: column;z-index: 1;position: relative;background-color: white;}#sk-container-id-4 div.sk-parallel-item:first-child::after {align-self: flex-end;width: 50%;}#sk-container-id-4 div.sk-parallel-item:last-child::after {align-self: flex-start;width: 50%;}#sk-container-id-4 div.sk-parallel-item:only-child::after {width: 0;}#sk-container-id-4 div.sk-dashed-wrapped {border: 1px dashed gray;margin: 0 0.4em 0.5em 0.4em;box-sizing: border-box;padding-bottom: 0.4em;background-color: white;}#sk-container-id-4 div.sk-label label {font-family: monospace;font-weight: bold;display: inline-block;line-height: 1.2em;}#sk-container-id-4 div.sk-label-container {text-align: center;}#sk-container-id-4 div.sk-container {/* jupyter's `normalize.less` sets `[hidden] { display: none; }` but bootstrap.min.css set `[hidden] { display: none !important; }` so we also need the `!important` here to be able to override the default hidden behavior on the sphinx rendered scikit-learn.org. See: https://github.com/scikit-learn/scikit-learn/issues/21755 */display: inline-block !important;position: relative;}#sk-container-id-4 div.sk-text-repr-fallback {display: none;}</style><div id=\"sk-container-id-4\" class=\"sk-top-container\"><div class=\"sk-text-repr-fallback\"><pre>LinearRegression()</pre><b>In a Jupyter environment, please rerun this cell to show the HTML representation or trust the notebook. <br />On GitHub, the HTML representation is unable to render, please try loading this page with nbviewer.org.</b></div><div class=\"sk-container\" hidden><div class=\"sk-item\"><div class=\"sk-estimator sk-toggleable\"><input class=\"sk-toggleable__control sk-hidden--visually\" id=\"sk-estimator-id-4\" type=\"checkbox\" checked><label for=\"sk-estimator-id-4\" class=\"sk-toggleable__label sk-toggleable__label-arrow\">LinearRegression</label><div class=\"sk-toggleable__content\"><pre>LinearRegression()</pre></div></div></div></div></div>"
      ],
      "text/plain": [
       "LinearRegression()"
      ]
     },
     "execution_count": 84,
     "metadata": {},
     "output_type": "execute_result"
    }
   ],
   "source": [
    "# Fill the regression object\n",
    "\n",
    "regression_2.fit(X_train_2, y_train_2)"
   ]
  },
  {
   "cell_type": "markdown",
   "id": "349e5018",
   "metadata": {},
   "source": [
    "## 9.5 Testing Predictions"
   ]
  },
  {
   "cell_type": "code",
   "execution_count": 85,
   "id": "11252fd2",
   "metadata": {},
   "outputs": [],
   "source": [
    "# Create predictions based on X values from test set\n",
    "\n",
    "y_predicted_2 = regression_2.predict(X_test_2)"
   ]
  },
  {
   "cell_type": "code",
   "execution_count": 86,
   "id": "8d6a63d5",
   "metadata": {},
   "outputs": [
    {
     "data": {
      "image/png": "[encoded data removed]",
      "text/plain": [
       "<Figure size 640x480 with 1 Axes>"
      ]
     },
     "metadata": {},
     "output_type": "display_data"
    }
   ],
   "source": [
    "# Create a plot that shows the regression line from the model on the test set.\n",
    "\n",
    "plot_test_2 = plt\n",
    "plot_test_2.scatter(X_test_2, y_test_2, color='grey', s = 15)\n",
    "plot_test_2.plot(X_test_2, y_predicted_2, color='red', linewidth =3)\n",
    "plot_test_2.title('Relationship between Primary Energy Consumption and CO2 Emissions (Test set)')\n",
    "plot_test_2.xlabel('Primary Energy Consumption (terawatt-hours)')\n",
    "plot_test_2.ylabel('CO2 emissions (million tonnes)')\n",
    "plot_test_2.show()"
   ]
  },
  {
   "cell_type": "markdown",
   "id": "8279357b",
   "metadata": {},
   "source": [
    "#### Most values are close to the regression line, even though they are a little further away from the line at the top of the plot. Based on the plot alone it is hard to tell if removing the outliers improved the model. Let's look at the summary statistics to get a better idea."
   ]
  },
  {
   "cell_type": "markdown",
   "id": "13d47c4e",
   "metadata": {},
   "source": [
    "## 9.6 Summary Statistics"
   ]
  },
  {
   "cell_type": "code",
   "execution_count": 87,
   "id": "649638f1",
   "metadata": {},
   "outputs": [],
   "source": [
    "# Create objects for mean squared error and r squared value.\n",
    "\n",
    "rmse_2 = mean_squared_error(y_test_2, y_predicted_2)\n",
    "r2_2 = r2_score(y_test_2, y_predicted_2)"
   ]
  },
  {
   "cell_type": "code",
   "execution_count": 88,
   "id": "62a238be",
   "metadata": {},
   "outputs": [
    {
     "name": "stdout",
     "output_type": "stream",
     "text": [
      "Slope: [[0.22802103]]\n",
      "Mean squared error:  20292.633129882877\n",
      "R squared score:  0.9802706296978687\n"
     ]
    }
   ],
   "source": [
    "# Print the content\n",
    "\n",
    "print('Slope:' ,regression_2.coef_)\n",
    "print('Mean squared error: ', rmse_2)\n",
    "print('R squared score: ', r2_2)"
   ]
  },
  {
   "cell_type": "markdown",
   "id": "479a7fcf",
   "metadata": {},
   "source": [
    "* The slope decreased a little bit, but still indicates a positve relationship\n",
    "* The mean squared error decreased drastically (to about half of the previous value), so we can say our new model is definitely more accurate than the previous.\n",
    "* The R squared value is a little lower than before, but still indicates a strong relationship between the two variables."
   ]
  },
  {
   "cell_type": "markdown",
   "id": "003f4b30",
   "metadata": {},
   "source": [
    "## 9.7 Comparing actual values and predicted values"
   ]
  },
  {
   "cell_type": "code",
   "execution_count": 89,
   "id": "560b728b",
   "metadata": {},
   "outputs": [
    {
     "data": {
      "text/html": [
       "<div>\n",
       "<style scoped>\n",
       "    .dataframe tbody tr th:only-of-type {\n",
       "        vertical-align: middle;\n",
       "    }\n",
       "\n",
       "    .dataframe tbody tr th {\n",
       "        vertical-align: top;\n",
       "    }\n",
       "\n",
       "    .dataframe thead th {\n",
       "        text-align: right;\n",
       "    }\n",
       "</style>\n",
       "<table border=\"1\" class=\"dataframe\">\n",
       "  <thead>\n",
       "    <tr style=\"text-align: right;\">\n",
       "      <th></th>\n",
       "      <th>Actual</th>\n",
       "      <th>Predicted</th>\n",
       "    </tr>\n",
       "  </thead>\n",
       "  <tbody>\n",
       "    <tr>\n",
       "      <th>0</th>\n",
       "      <td>10.953</td>\n",
       "      <td>15.105200</td>\n",
       "    </tr>\n",
       "    <tr>\n",
       "      <th>1</th>\n",
       "      <td>0.344</td>\n",
       "      <td>3.472479</td>\n",
       "    </tr>\n",
       "    <tr>\n",
       "      <th>2</th>\n",
       "      <td>1.903</td>\n",
       "      <td>5.927581</td>\n",
       "    </tr>\n",
       "    <tr>\n",
       "      <th>3</th>\n",
       "      <td>49.882</td>\n",
       "      <td>67.376967</td>\n",
       "    </tr>\n",
       "    <tr>\n",
       "      <th>4</th>\n",
       "      <td>7.798</td>\n",
       "      <td>10.218481</td>\n",
       "    </tr>\n",
       "    <tr>\n",
       "      <th>5</th>\n",
       "      <td>440.436</td>\n",
       "      <td>504.316556</td>\n",
       "    </tr>\n",
       "    <tr>\n",
       "      <th>6</th>\n",
       "      <td>0.846</td>\n",
       "      <td>4.057809</td>\n",
       "    </tr>\n",
       "    <tr>\n",
       "      <th>7</th>\n",
       "      <td>1.517</td>\n",
       "      <td>4.105693</td>\n",
       "    </tr>\n",
       "    <tr>\n",
       "      <th>8</th>\n",
       "      <td>50.124</td>\n",
       "      <td>60.658328</td>\n",
       "    </tr>\n",
       "    <tr>\n",
       "      <th>9</th>\n",
       "      <td>3.436</td>\n",
       "      <td>15.918779</td>\n",
       "    </tr>\n",
       "    <tr>\n",
       "      <th>10</th>\n",
       "      <td>460.226</td>\n",
       "      <td>344.824970</td>\n",
       "    </tr>\n",
       "    <tr>\n",
       "      <th>11</th>\n",
       "      <td>2.755</td>\n",
       "      <td>5.531281</td>\n",
       "    </tr>\n",
       "    <tr>\n",
       "      <th>12</th>\n",
       "      <td>0.616</td>\n",
       "      <td>3.475215</td>\n",
       "    </tr>\n",
       "    <tr>\n",
       "      <th>13</th>\n",
       "      <td>8.472</td>\n",
       "      <td>10.531554</td>\n",
       "    </tr>\n",
       "    <tr>\n",
       "      <th>14</th>\n",
       "      <td>21.345</td>\n",
       "      <td>21.043551</td>\n",
       "    </tr>\n",
       "    <tr>\n",
       "      <th>15</th>\n",
       "      <td>0.033</td>\n",
       "      <td>2.677598</td>\n",
       "    </tr>\n",
       "    <tr>\n",
       "      <th>16</th>\n",
       "      <td>5.458</td>\n",
       "      <td>32.938268</td>\n",
       "    </tr>\n",
       "    <tr>\n",
       "      <th>17</th>\n",
       "      <td>124.079</td>\n",
       "      <td>135.846437</td>\n",
       "    </tr>\n",
       "    <tr>\n",
       "      <th>18</th>\n",
       "      <td>101.152</td>\n",
       "      <td>135.979601</td>\n",
       "    </tr>\n",
       "    <tr>\n",
       "      <th>19</th>\n",
       "      <td>31.045</td>\n",
       "      <td>7.990260</td>\n",
       "    </tr>\n",
       "    <tr>\n",
       "      <th>20</th>\n",
       "      <td>23.035</td>\n",
       "      <td>20.411705</td>\n",
       "    </tr>\n",
       "    <tr>\n",
       "      <th>21</th>\n",
       "      <td>2.765</td>\n",
       "      <td>9.858436</td>\n",
       "    </tr>\n",
       "    <tr>\n",
       "      <th>22</th>\n",
       "      <td>0.066</td>\n",
       "      <td>2.631537</td>\n",
       "    </tr>\n",
       "    <tr>\n",
       "      <th>23</th>\n",
       "      <td>318.629</td>\n",
       "      <td>283.573962</td>\n",
       "    </tr>\n",
       "    <tr>\n",
       "      <th>24</th>\n",
       "      <td>390.778</td>\n",
       "      <td>705.291095</td>\n",
       "    </tr>\n",
       "    <tr>\n",
       "      <th>25</th>\n",
       "      <td>61.495</td>\n",
       "      <td>64.610616</td>\n",
       "    </tr>\n",
       "    <tr>\n",
       "      <th>26</th>\n",
       "      <td>7073.592</td>\n",
       "      <td>7361.535608</td>\n",
       "    </tr>\n",
       "    <tr>\n",
       "      <th>27</th>\n",
       "      <td>22.400</td>\n",
       "      <td>24.625077</td>\n",
       "    </tr>\n",
       "    <tr>\n",
       "      <th>28</th>\n",
       "      <td>6.427</td>\n",
       "      <td>8.314505</td>\n",
       "    </tr>\n",
       "    <tr>\n",
       "      <th>29</th>\n",
       "      <td>0.147</td>\n",
       "      <td>2.707924</td>\n",
       "    </tr>\n",
       "  </tbody>\n",
       "</table>\n",
       "</div>"
      ],
      "text/plain": [
       "      Actual    Predicted\n",
       "0     10.953    15.105200\n",
       "1      0.344     3.472479\n",
       "2      1.903     5.927581\n",
       "3     49.882    67.376967\n",
       "4      7.798    10.218481\n",
       "5    440.436   504.316556\n",
       "6      0.846     4.057809\n",
       "7      1.517     4.105693\n",
       "8     50.124    60.658328\n",
       "9      3.436    15.918779\n",
       "10   460.226   344.824970\n",
       "11     2.755     5.531281\n",
       "12     0.616     3.475215\n",
       "13     8.472    10.531554\n",
       "14    21.345    21.043551\n",
       "15     0.033     2.677598\n",
       "16     5.458    32.938268\n",
       "17   124.079   135.846437\n",
       "18   101.152   135.979601\n",
       "19    31.045     7.990260\n",
       "20    23.035    20.411705\n",
       "21     2.765     9.858436\n",
       "22     0.066     2.631537\n",
       "23   318.629   283.573962\n",
       "24   390.778   705.291095\n",
       "25    61.495    64.610616\n",
       "26  7073.592  7361.535608\n",
       "27    22.400    24.625077\n",
       "28     6.427     8.314505\n",
       "29     0.147     2.707924"
      ]
     },
     "execution_count": 89,
     "metadata": {},
     "output_type": "execute_result"
    }
   ],
   "source": [
    "df_co2_full_new_comparison_2 = pd.DataFrame({'Actual': y_test_2.flatten(), 'Predicted': y_predicted_2.flatten()})\n",
    "df_co2_full_new_comparison_2.head(30)"
   ]
  },
  {
   "cell_type": "markdown",
   "id": "7a09d39c",
   "metadata": {},
   "source": [
    "#### Overall the predictions are pretty accurate (for example index 0, 10 or 11), but as before there are still some predicted values that are pretty far off from their actual values (for example index 9, 21 or 24) . Based on these observations removing the outliers didn't really lead to a huge improvement of the model. "
   ]
  },
  {
   "cell_type": "markdown",
   "id": "59736ccf",
   "metadata": {},
   "source": [
    "# 10. Conclusions based on Regression Analysis for the full dataframe"
   ]
  },
  {
   "cell_type": "markdown",
   "id": "a5b9d3d5",
   "metadata": {},
   "source": [
    "#### After the regression analysis for the full dataframe I come to the same conclusions as when analyzing the shorter dataframe. Overall, the model is a good fit to back up my research hypothesis : \n",
    "\n",
    "The higher the primary energy consumption, the higher the CO2 emissions.\n",
    "\n",
    "#### Most datapoints were pretty close to the regression line, but when comparing the actual values with the predicted values, it shows that there are still several predicted values that are far off from the actual values.\n",
    "\n",
    "#### Based on my regression analysis I conclude that primary energy consumption definitely plays a part in influencing CO2 emssions, but it might not be the only variable that plays a role. \n"
   ]
  },
  {
   "cell_type": "code",
   "execution_count": null,
   "id": "b8c6e472",
   "metadata": {},
   "outputs": [],
   "source": []
  }
 ],
 "metadata": {
  "kernelspec": {
   "display_name": "Python 3 (ipykernel)",
   "language": "python",
   "name": "python3"
  },
  "language_info": {
   "codemirror_mode": {
    "name": "ipython",
    "version": 3
   },
   "file_extension": ".py",
   "mimetype": "text/x-python",
   "name": "python",
   "nbconvert_exporter": "python",
   "pygments_lexer": "ipython3",
   "version": "3.9.16"
  }
 },
 "nbformat": 4,
 "nbformat_minor": 5
}
